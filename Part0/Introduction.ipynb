{
 "cells": [
  {
   "cell_type": "markdown",
   "id": "1ee92e35",
   "metadata": {},
   "source": [
    "# Introduction\n",
    "## Notes\n",
    "### The dimensional analysis using the gravitational potential energy\n",
    "Zee asserts that the product of Newton's gravitational constant, $G$, and the mass of the Earth, $M$, divided by the speed of light squared, $c^2$, has units of length, that is $GM/c^2$ is a length. He gets there by comparing the energy of a particle and its gravitational potential energy thereby asserting that they have the same units and then rearranging.\n",
    "\n",
    "$$\\frac{1}{2}mv^2\\overset{\\sim}{=}-\\frac{GMm}{r}$$\n",
    "\n",
    "The potential energy as $-GMm/r$ was confusing to me. I thought it should by $GMmr$ because I remembered from high school physics that the gravitational energy for a particle near the Earth's surface is $gmh$. However, the two formulations are the same: $g \\neq GM_E$, instead $g = GM_E/R_E^2$ where $M_E$ and $R_E$ are the mass and radius of the Earth, respectively. The $h$ cancels a length dimension leaving $GMm/r$.\n",
    "\n",
    "Cancel out the $m$'s.\n",
    "\n",
    "$$\\frac{1}{2}v^2\\overset{\\sim}{=}\\frac{GM}{r}$$ \n",
    "\n",
    "Dropping the unitless $1/2$; since we're only discussing dimensions, substituting in any velocity you like ($c$ in this case); and rearranging gives:\n",
    "\n",
    "$$r \\overset{\\sim}{=} \\frac{GM}{c^2}$$\n",
    "\n",
    "$GM/c^2$ has units of length.\n",
    "\n",
    "### Mass is the inverse of length\n",
    "\n",
    "This comment caught me by surprise. Then I went back and examined the Equations (2) and (3). I substituted in values of $1$ for $G$, $\\hbar$, and $c$, and then immediately saw that mass is the inverse of length.\n",
    "\n",
    "$$l_P=\\frac{\\hbar}{M_Pc}=\\frac{1}{M_P}$$\n",
    "\n",
    "In natural units, time and length are the same unit.\n",
    "\n",
    "$$t_P=\\frac{l_P}{c}=\\frac{l_P}{1}=l_P$$\n",
    "\n",
    "Energy now has the units of mass.\n",
    "\n",
    "$$\\frac{1}{2}mv^2\\overset{\\sim}{=}M\\frac{l^2}{t^2}=M$$\n",
    "\n",
    "where $l^2$ and $t^2$ canceled because they're the same unit in natural units.\n",
    "\n",
    "### Hawking radiation temperature\n",
    "\n",
    "The \"It follows immediately...\" comment must be a joke.\n",
    "\n",
    "This bit was tricky for me to follow. Zee takes $dE=TdS$ and substitutes $M$ for $E$ to get $dM=TdS$ and then rearranges to get $dS/dM=1/T$ which he then dimensionally equates to $GM$ using his result that \"immediately followed\" and obtained $dS/dM=1/T_H\\overset{\\sim}{=}GM$.\n",
    "\n",
    "The last tricky bit of this for me was to realized that $G\\overset{\\sim}{=}l_P^2$. Go back and look at Equation (2) and set $c$ and $\\hbar$ to $1$."
   ]
  }
 ],
 "metadata": {
  "kernelspec": {
   "display_name": "Python 3 (ipykernel)",
   "language": "python",
   "name": "python3"
  },
  "language_info": {
   "codemirror_mode": {
    "name": "ipython",
    "version": 3
   },
   "file_extension": ".py",
   "mimetype": "text/x-python",
   "name": "python",
   "nbconvert_exporter": "python",
   "pygments_lexer": "ipython3",
   "version": "3.11.2"
  }
 },
 "nbformat": 4,
 "nbformat_minor": 5
}
