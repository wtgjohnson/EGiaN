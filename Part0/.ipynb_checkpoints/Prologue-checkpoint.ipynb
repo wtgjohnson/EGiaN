{
 "cells": [
  {
   "cell_type": "markdown",
   "id": "72b530e8",
   "metadata": {},
   "source": [
    "# Part 0: Setting the Stage"
   ]
  },
  {
   "cell_type": "markdown",
   "id": "652442f0",
   "metadata": {},
   "source": [
    "## Prologue: Three Stories"
   ]
  },
  {
   "cell_type": "markdown",
   "id": "cf7617d1",
   "metadata": {},
   "source": [
    "The prologue starts off with an example that seem to imply global instead of local minimization of time for a particle by using a lifeguard as an example, but Zee at least mentions that local minimization is what actually occurs in the footnote."
   ]
  },
  {
   "cell_type": "markdown",
   "id": "da2e5361",
   "metadata": {},
   "source": [
    "Intrinsic and extrinsic curvature are introduced. Cylinders have extrinsic curvature. They can be made to lay flat without distortion. Sphere have intrinsic curvature and cannot lay flat without distorting the surface."
   ]
  },
  {
   "cell_type": "markdown",
   "id": "53ced5f9",
   "metadata": {},
   "source": [
    "Zee introduces a measure of intrinsic curvature:\n",
    "$$R = \\lim_{r\\rightarrow0} \\frac{6}{r^2} \\left(1-\\frac{C}{2\\pi}\\right)$$\n",
    "where $R$ is the measure of curvature, $r$ is the radius of a circle where the center and the points of the circle are on the surface being measured, and $C$ is the circumference of the circle as measured by line integral on the surface. The factor of 6 is apparently some convenient normalization constant we'll be happy to have later, but I don't understand the presence of $r^2$ in the denominator. $R$ vanishes everywhere for a surface with extrinsic curvature or a flat surface, but is non-zero for a surface with intrinsic curvature because the radius on the curved surface is longer than the radius defined by the plane of the circle."
   ]
  },
  {
   "cell_type": "markdown",
   "id": "1d77d652",
   "metadata": {},
   "source": [
    "## Exercises"
   ]
  },
  {
   "cell_type": "markdown",
   "id": "e0eb3777",
   "metadata": {},
   "source": [
    "### 1) Derive Snell's law: $\\frac{\\sin{\\theta_w}}{\\sin{\\theta_a}}=\\frac{c_w}{c_a}$."
   ]
  },
  {
   "cell_type": "markdown",
   "id": "bc18b196",
   "metadata": {},
   "source": [
    "Fermat discovered that light follows a path of least time. The question then becomes: what path takes the least time in the figure below? Is it where $\\frac{\\sin{\\theta_w}}{\\sin{\\theta_a}}=\\frac{c_w}{c_a}$?"
   ]
  },
  {
   "cell_type": "code",
   "execution_count": 2,
   "id": "d0a10d62",
   "metadata": {},
   "outputs": [],
   "source": [
    "import numpy as np\n",
    "import matplotlib as mpl\n",
    "import matplotlib.pyplot as plt\n",
    "%run angle_annotation.py"
   ]
  },
  {
   "cell_type": "code",
   "execution_count": 3,
   "id": "3090ac38",
   "metadata": {},
   "outputs": [
    {
     "data": {
      "image/png": "[encoded data removed]",
      "text/plain": [
       "<Figure size 432x288 with 1 Axes>"
      ]
     },
     "metadata": {
      "needs_background": "light"
     },
     "output_type": "display_data"
    }
   ],
   "source": [
    "fig, ax = plt.subplots()  # Create a figure containing a single axes.\n",
    "ax.plot([-3, 0, 1], [2, 0, -4]);  # Plot some data on the axes.\n",
    "ax.set_xlabel('x')\n",
    "ax.set_ylabel('y')\n",
    "plt.axvline(x=0)\n",
    "plt.axhline(y=0)\n",
    "plt.text(-3,2,'F')\n",
    "plt.text(0,0,'D')\n",
    "plt.text(1,-4,'G')\n",
    "plt.text(-3,0.5,'air')\n",
    "plt.text(-3,-0.5,'water')\n",
    "am1=AngleAnnotation((0,0), (0,2), (-3,2), ax=ax, size=75, text=r\"$\\theta_a$\")\n",
    "am2=AngleAnnotation((0,0), (0,-2), (1,-4), ax=ax, size=75, text=r\"$\\theta_w$\")\n",
    "plt.show()"
   ]
  },
  {
   "cell_type": "markdown",
   "id": "24eff134",
   "metadata": {},
   "source": [
    "The horizontal line through D is in the air/water surface, and the vertical line through D is perpendicular to the horizontal line."
   ]
  },
  {
   "cell_type": "markdown",
   "id": "c50ef3d1",
   "metadata": {},
   "source": [
    "The total time of travel from F to G is: $t_{tot}=t_a+t_w=\\frac{d_a}{c_a} + \\frac{d_w}{c_w}$"
   ]
  },
  {
   "cell_type": "markdown",
   "id": "5d6c6951",
   "metadata": {},
   "source": [
    "The path intersects the surface at point D. The set of potential candidates for D are limited to the set of points on the surface that form a dihedral angle with F and G of $\\pi$ so that the angles $\\theta_a$ and $\\theta_w$ in the figure are coplanar and in the $xy$-plane. Permitting the angles not to exist simultaneously in the $xy$-plane would require a reflection of the photon in the $z$-direction, and that's not occurring in this scenario. The candidates for D form a line."
   ]
  },
  {
   "cell_type": "markdown",
   "id": "38a8c666",
   "metadata": {},
   "source": [
    "$t_{tot}=\\frac{d_{FD}}{c_a} + \\frac{d_{DG}}{c_w}$"
   ]
  },
  {
   "cell_type": "markdown",
   "id": "31bc9fb6",
   "metadata": {},
   "source": [
    "$t_{tot}=\\frac{\\sqrt{(D_x - F_x)^2+(D_y-F_y)^2}}{c_a} + \\frac{\\sqrt{(G_x-D_x)^2+(G_y-D_y)^2}}{c_w}$"
   ]
  },
  {
   "cell_type": "markdown",
   "id": "0bc691b2",
   "metadata": {},
   "source": [
    "Since the candidates for D form a line, it would be nice to get D defined by a single variable. Set coordinates so that $D_y=0\\:\\forall$ candidate points $D$. The candidates for D are now the $y=0$ line as shown in the figure. $t_{tot} becomes:$"
   ]
  },
  {
   "cell_type": "markdown",
   "id": "84f3b82f",
   "metadata": {},
   "source": [
    "$t_{tot}=\\frac{\\sqrt{(D_x - F_x)^2+F_y^2}}{c_a} + \\frac{\\sqrt{(G_x-D_x)^2+G_y^2}}{c_w}$"
   ]
  },
  {
   "cell_type": "markdown",
   "id": "ce917bde",
   "metadata": {},
   "source": [
    "To find the point $D_x$ that yields the minimum time, take the derivative of $t_{tot}$ with respect to $D_x$ and set it to zero:"
   ]
  },
  {
   "cell_type": "markdown",
   "id": "7bcc9be2",
   "metadata": {},
   "source": [
    "$\\frac{dt_{tot}}{dD_x}=\\frac{1}{2}\\frac{2(D_x-F_x)}{c_a\\sqrt{(D_x-F_x)^2+F_y^2}}+\\frac{1}{2}\\frac{2(G_x-D_x)(-1)}{c_w\\sqrt{(G_x-D_x)^2+G_y^2}}=0$"
   ]
  },
  {
   "cell_type": "markdown",
   "id": "e6eff8b6",
   "metadata": {},
   "source": [
    "In the figure:"
   ]
  },
  {
   "cell_type": "markdown",
   "id": "2518024d",
   "metadata": {},
   "source": [
    "$\\frac{D_x-F_x}{\\sqrt{(D_x-F_x)^2+F_y^2}}=\\sin{\\theta_a}$"
   ]
  },
  {
   "cell_type": "markdown",
   "id": "b491bb0d",
   "metadata": {},
   "source": [
    "$\\frac{G_x-D_x}{\\sqrt{(G_x-D_x)^2+G_y^2}}=\\sin{\\theta_w}$"
   ]
  },
  {
   "cell_type": "markdown",
   "id": "d71de928",
   "metadata": {},
   "source": [
    "Substituting $\\sin{\\theta_a}$ and $\\sin{\\theta_w}$ into $\\frac{dt_{tot}}{dD_x}$ and eliminating factors of 2 gives:"
   ]
  },
  {
   "cell_type": "markdown",
   "id": "e0b083a8",
   "metadata": {},
   "source": [
    "$\\frac{\\sin{\\theta_a}}{c_a}=\\frac{\\sin{\\theta_w}}{c_w}$"
   ]
  },
  {
   "cell_type": "markdown",
   "id": "89ac2ad6",
   "metadata": {},
   "source": [
    "$\\frac{\\sin{\\theta_w}}{\\sin{\\theta_a}}=\\frac{c_w}{c_a}$"
   ]
  },
  {
   "cell_type": "markdown",
   "id": "1e4c5c04",
   "metadata": {},
   "source": [
    "### 2) Suppose an ant is on the outside of a hemispherical bowl and a drop of honey is inside the bowl directly across from the ant. Find the shortest distance."
   ]
  },
  {
   "cell_type": "markdown",
   "id": "f76d57d4",
   "metadata": {},
   "source": [
    "In spherical coordinates, let the ant be at $\\theta_{ant}$ and $\\varphi_{ant}$, where $\\theta$ is the elevation angle from the countertop, as opposed to the polar angle from the zenith of the bowl. The drop of honey is across from the ant and so has coordinates $\\theta_{ant}$ and $-\\varphi_{ant}$. We can, without introducing error, imagine a sphere instead of a bowl where the outside of the bottom half of the sphere is the inside of the bowl and we can construct this surface simply by negating $\\theta$ for points inside the bowl. Doing this places the honey at coordinates $-\\theta_{ant}$ and $-\\varphi_{ant}$. The honey is now antipodal to the ant. All paths from ant to honey are the same length, which is half the circumference of a circle with the radius of the bowl, $r$, that is, $\\pi r$."
   ]
  },
  {
   "cell_type": "markdown",
   "id": "e25efd59",
   "metadata": {},
   "source": [
    "### 3) Suppose the ant travels faster on the outside of the bowl than on the inside. What's the shortest path?"
   ]
  },
  {
   "cell_type": "markdown",
   "id": "6c1f0d4f",
   "metadata": {},
   "source": [
    "The path which minimizes the distance traveled on the interior of the bowl requires the least time to travel. This is the path where the ant travels over the zenith of the bowl and crosses into the interior with a path at a $90^{\\circ}$ angle to the boundary between the outside and the inside of the bowl. This is the path with ther least time required to reach the honey from the lip of the bowl."
   ]
  }
 ],
 "metadata": {
  "kernelspec": {
   "display_name": "Python 3 (ipykernel)",
   "language": "python",
   "name": "python3"
  },
  "language_info": {
   "codemirror_mode": {
    "name": "ipython",
    "version": 3
   },
   "file_extension": ".py",
   "mimetype": "text/x-python",
   "name": "python",
   "nbconvert_exporter": "python",
   "pygments_lexer": "ipython3",
   "version": "3.9.2"
  }
 },
 "nbformat": 4,
 "nbformat_minor": 5
}
