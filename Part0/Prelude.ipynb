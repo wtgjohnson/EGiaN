{
 "cells": [
  {
   "cell_type": "markdown",
   "id": "11066085",
   "metadata": {},
   "source": [
    "# Prelude\n",
    "\n",
    "## Notes\n",
    "\n",
    "### General relativity in 30 seconds\n",
    "\n",
    "This confused me a bit. It was easy enough to see how $a' = a + du/dt$ is obtained from $v' = v + u$ if $u$ is a function of $t$, but don't we need to start with $x' = x + ut$? Let's take a look at it.\n",
    "\n",
    "$$x' = x + ut$$\n",
    "\n",
    "We can't use the above equation anymore. It defines constant velocity. Let's define constant acceleration instead.\n",
    "\n",
    "$$x' = x + ut + \\frac{bt^2}{2}$$\n",
    "\n",
    "The first equation is constant velocity because for every unit of time passed, $u$ units of distance are added to $x$. This linear progression gives a constant additive to the velocity of $u$, $v'=v+u$, as shown in the text by taking the derviative with respect to $t$. \n",
    "\n",
    "The second equation describes a constant acceleration of $b$ (with an initial constant velocity of $u$). To see why let's take the derivative of the equation with respect to $t$.\n",
    "\n",
    "$$\\frac{dx'}{dt}=\\frac{dx}{dt}+\\frac{du}{dt}t+u+\\frac{1}{2}\\frac{db}{dt}t^2+bt$$\n",
    "\n",
    "which is the same as\n",
    "\n",
    "$$v'=v+u+bt$$\n",
    "\n",
    "where $db/dt=0$ because this scenario has constant acceleration and $du/dt=0$ because $u$ is not a function of time. It is a parameter that describes the initial relative velocity of Ms. Unprime and Mr. Prime. $u$ is constant in this scenario just as it was before. However, $v'$ is not constant and the updated equation of motion shows that. At time $t=0$, $v'=v+u$. The constant $u$ has been added to the initial velocity of $v$ to obtain $v'$.\n",
    "\n",
    "Taking the second derivative gives\n",
    "\n",
    "$$\\frac{dv'}{dt}=\\frac{dv}{dt}+\\frac{du}{dt}+\\frac{db}{dt}t+b$$\n",
    "\n",
    "which is the same as\n",
    "\n",
    "$$a'=a+b$$\n",
    "\n",
    "We've added a constant acceleration of $b$ to conveyance of Mr. Prime.\n",
    "\n",
    "My confusion I think stemmed from the comment \"In deriving $a'=a$, we used $\\frac{du}{dt}=0$, but if that were not so, we would have $a'=a+\\frac{du}{dt}$.\" If you define the $u$ of the second scenario, $u_2$, as $u_2=u+bt$, then the text makes sense and the text's $ma'=ma+m\\frac{du}{dt}$ is the same as $ma'=ma+mb$.\n",
    "\n",
    "Simplistic, but it confused me initially."
   ]
  }
 ],
 "metadata": {
  "kernelspec": {
   "display_name": "Python 3 (ipykernel)",
   "language": "python",
   "name": "python3"
  },
  "language_info": {
   "codemirror_mode": {
    "name": "ipython",
    "version": 3
   },
   "file_extension": ".py",
   "mimetype": "text/x-python",
   "name": "python",
   "nbconvert_exporter": "python",
   "pygments_lexer": "ipython3",
   "version": "3.9.2"
  }
 },
 "nbformat": 4,
 "nbformat_minor": 5
}
