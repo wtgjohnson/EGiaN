{
 "cells": [
  {
   "cell_type": "markdown",
   "id": "72b530e8",
   "metadata": {},
   "source": [
    "# Part 0: Setting the Stage"
   ]
  },
  {
   "cell_type": "markdown",
   "id": "652442f0",
   "metadata": {},
   "source": [
    "## Prologue: Three Stories"
   ]
  },
  {
   "cell_type": "markdown",
   "id": "cf7617d1",
   "metadata": {},
   "source": [
    "The prologue starts off with an example that seem to imply global instead of local minimization of time for a particle by using a lifeguard as an example, but Zee at least mentions that local minimization is what actually occurs in the footnote."
   ]
  },
  {
   "cell_type": "markdown",
   "id": "da2e5361",
   "metadata": {},
   "source": [
    "Intrinsic and extrinsic curvature are introduced. Cylinders have extrinsic curvature. They can be made to lay flat without distortion. Sphere have intrinsic curvature and cannot lay flat without distorting the surface."
   ]
  },
  {
   "cell_type": "markdown",
   "id": "53ced5f9",
   "metadata": {},
   "source": [
    "Zee introduces a measure of intrinsic curvature:\n",
    "$$R = \\lim_{r\\rightarrow0} \\frac{6}{r^2} \\left(1-\\frac{C}{2\\pi}\\right)$$\n",
    "where $R$ is the measure of curvature, $r$ is the radius of a circle where the center and the points of the circle are on the surface being measured, and $C$ is the circumference of the circle as measured by line integral on the surface. The factor of 6 is apparently some convenient normalization constant we'll be happy to have later, but I don't understand the presence of $r^2$ in the denominator. $R$ vanishes everywhere for a surface with extrinsic curvature or a flat surface, but is non-zero for a surface with intrinsic curvature."
   ]
  },
  {
   "cell_type": "code",
   "execution_count": null,
   "id": "2cf32f54",
   "metadata": {},
   "outputs": [],
   "source": []
  }
 ],
 "metadata": {
  "kernelspec": {
   "display_name": "Python 3 (ipykernel)",
   "language": "python",
   "name": "python3"
  },
  "language_info": {
   "codemirror_mode": {
    "name": "ipython",
    "version": 3
   },
   "file_extension": ".py",
   "mimetype": "text/x-python",
   "name": "python",
   "nbconvert_exporter": "python",
   "pygments_lexer": "ipython3",
   "version": "3.9.2"
  }
 },
 "nbformat": 4,
 "nbformat_minor": 5
}
