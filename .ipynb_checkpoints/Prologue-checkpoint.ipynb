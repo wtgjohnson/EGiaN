{
 "cells": [
  {
   "cell_type": "markdown",
   "id": "72b530e8",
   "metadata": {},
   "source": [
    "# Part 0: Setting the Stage"
   ]
  },
  {
   "cell_type": "markdown",
   "id": "652442f0",
   "metadata": {},
   "source": [
    "## Prologue: Three Stories"
   ]
  },
  {
   "cell_type": "code",
   "execution_count": null,
   "id": "6d75b136",
   "metadata": {},
   "outputs": [],
   "source": []
  }
 ],
 "metadata": {
  "kernelspec": {
   "display_name": "Python 3 (ipykernel)",
   "language": "python",
   "name": "python3"
  },
  "language_info": {
   "codemirror_mode": {
    "name": "ipython",
    "version": 3
   },
   "file_extension": ".py",
   "mimetype": "text/x-python",
   "name": "python",
   "nbconvert_exporter": "python",
   "pygments_lexer": "ipython3",
   "version": "3.9.2"
  }
 },
 "nbformat": 4,
 "nbformat_minor": 5
}
