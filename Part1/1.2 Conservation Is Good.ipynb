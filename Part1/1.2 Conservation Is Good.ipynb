{
 "cells": [
  {
   "cell_type": "markdown",
   "id": "fd070894",
   "metadata": {},
   "source": [
    "# Conservation Is Good"
   ]
  },
  {
   "cell_type": "markdown",
   "id": "1d84739f",
   "metadata": {},
   "source": [
    "## Notes"
   ]
  },
  {
   "cell_type": "markdown",
   "id": "66180048",
   "metadata": {},
   "source": [
    "### An integrability condition"
   ]
  },
  {
   "cell_type": "markdown",
   "id": "a7932fd4",
   "metadata": {},
   "source": [
    "The step from Equation (3) to Equation (4) is not obvious to me."
   ]
  },
  {
   "cell_type": "markdown",
   "id": "8c89b0a6",
   "metadata": {},
   "source": [
    "$$m\\frac{d^2x^i}{dt^2}\\frac{dx^i}{dt}=-\\frac{\\partial V(\\vec{x})}{\\partial x^i}\\frac{dx^i}{dt}$$"
   ]
  },
  {
   "cell_type": "markdown",
   "id": "174dcaac",
   "metadata": {},
   "source": [
    "Collecting terms on the left-hand side and summing over $i$ gives:"
   ]
  },
  {
   "cell_type": "markdown",
   "id": "949c87e7",
   "metadata": {},
   "source": [
    "$$\\sum_i \\left(m\\frac{d^2x^i}{dt^2}\\frac{dx^i}{dt}+\\frac{\\partial V(\\vec{x})}{\\partial x^i}\\frac{dx^i}{dt}\\right)=0$$"
   ]
  },
  {
   "cell_type": "markdown",
   "id": "d82efe21",
   "metadata": {},
   "source": [
    "The chain rule when applied to a composite function of multiple variables applies like so:"
   ]
  },
  {
   "cell_type": "markdown",
   "id": "444114b0",
   "metadata": {},
   "source": [
    "For $V(\\vec{x})$ and $x^i(t)$ for all $i$:\n",
    "\n",
    "$$\\frac{dV}{dt}=\\sum_i \\frac{\\partial V}{\\partial x^i}\\frac{dx^i}{dt}$$"
   ]
  },
  {
   "cell_type": "markdown",
   "id": "9fdb8ead",
   "metadata": {},
   "source": [
    "The second term in the sum simplifies to $\\frac{dV}{dt}$. The first term can be shown to equal $\\frac{1}{2}m\\sum_i\\left(\\frac{dx^i}{dt}\\right)^2$ by differentiation."
   ]
  },
  {
   "cell_type": "markdown",
   "id": "bebb6d6a",
   "metadata": {},
   "source": [
    "$$\\frac{d}{dt}\\left[\\frac{1}{2}m\\sum_i \\left(\\frac{dx^i}{dt}\\right)^2\\right]=\\frac{2}{2}m\\sum_i\\frac{dx^i}{dt}\\frac{d^2x^i}{dt^2}=\\sum_i m\\frac{d^2x^i}{dt^2}\\frac{dx^i}{dt}$$"
   ]
  },
  {
   "cell_type": "markdown",
   "id": "3dc77d19",
   "metadata": {},
   "source": [
    "Which is the first term of the sum. The sum can therefore be written as Equation (4)."
   ]
  },
  {
   "cell_type": "markdown",
   "id": "1c17cdda",
   "metadata": {},
   "source": [
    "$$\\sum_i \\left(m\\frac{d^2x^i}{dt^2}\\frac{dx^i}{dt}+\\frac{\\partial V(\\vec{x})}{\\partial x^i}\\frac{dx^i}{dt}\\right)=\\frac{d}{dt}\\left[\\frac{1}{2}m\\sum_i \\left(\\frac{dx^i}{dt}\\right)^2+V(x)\\right]=0$$"
   ]
  },
  {
   "cell_type": "markdown",
   "id": "4ffac1e8",
   "metadata": {},
   "source": [
    "The above expression implies that $\\frac{1}{2}m\\sum_i \\left(\\frac{dx^i}{dt}\\right)^2+V(x)$ is constant with respect to time, that is, that the quantity is conserved. We recognize that the quantity in question has units of energy and set the integration constant to $E$:"
   ]
  },
  {
   "cell_type": "markdown",
   "id": "d55f06bf",
   "metadata": {},
   "source": [
    "$$E=\\frac{1}{2}m\\sum_i \\left(\\frac{dx^i}{dt}\\right)^2+V(x)$$"
   ]
  },
  {
   "cell_type": "markdown",
   "id": "2a6fa90b",
   "metadata": {},
   "source": [
    "I'm confused by the expresson $-\\int^xdx'F(x')$. The use of $x'$ here is to indicate a dummy variable that does not appear in the final answer because it is substituted for by the limits of integration. The expression indicates a single variable integration and has nothing to do with taking a derivative of $x$. The integral does not indicate the integration over all $x$. It indicates an integration from an undisclosed lower limit where the potential is zero to the upper limit $x$."
   ]
  },
  {
   "cell_type": "markdown",
   "id": "b78afd04",
   "metadata": {},
   "source": [
    "### Apples do not fall down"
   ]
  },
  {
   "cell_type": "markdown",
   "id": "f44f8399",
   "metadata": {},
   "source": [
    "I was unable to follow how the partial deriviative with respect to $x^j$ of $F^i(x)$ was taken. I'm going to work through the steps."
   ]
  },
  {
   "cell_type": "markdown",
   "id": "7603d300",
   "metadata": {},
   "source": [
    "The book has:\n",
    "\n",
    "$$\\frac{\\partial F^i(x)}{\\partial x^j}=-\\frac{1}{r}\\left[\\delta^{ij}V'(r)+\\frac{x^ix^j}{r^2}\\left(-V'(r)+rV''(r)\\right)\\right]$$"
   ]
  },
  {
   "cell_type": "markdown",
   "id": "fb01cf48",
   "metadata": {},
   "source": [
    "I think this is just the product rule, applying\n",
    "\n",
    "$$\\frac{\\partial F^i(x)}{\\partial x^j}=\\frac{\\partial}{\\partial x^j}\\left(-\\frac{x^i}{r}V'(r)\\right)$$"
   ]
  },
  {
   "cell_type": "markdown",
   "id": "6be251c0",
   "metadata": {},
   "source": [
    "where $x^i$, $r$, and $V'(r)$ are all functions of $x^j$."
   ]
  },
  {
   "cell_type": "markdown",
   "id": "1cd2dd3a",
   "metadata": {},
   "source": [
    "$$\\frac{\\partial}{\\partial x^j}\\left(-\\frac{x^i}{r}V'(r)\\right)=$$"
   ]
  },
  {
   "cell_type": "markdown",
   "id": "abdb1919",
   "metadata": {},
   "source": [
    "$$\\frac{\\partial}{\\partial x^j}(x^i)\\cdot \\left(\\frac{-V'(r)}{r}\\right)+x^i\\cdot \\frac{\\partial}{\\partial x^j}\\left(\\frac{-V'(r)}{r}\\right)=$$"
   ]
  },
  {
   "cell_type": "markdown",
   "id": "06049b89",
   "metadata": {},
   "source": [
    "$$\\frac{-\\delta^{ij}V'(r)}{r}+x^i\\left(\\frac{-1}{r}\\frac{\\partial}{\\partial x^j}\\left(V'(r)\\right)+V'(r)\\frac{\\partial}{\\partial x^j}\\left(\\frac{-1}{r}\\right)\\right)=$$"
   ]
  },
  {
   "cell_type": "markdown",
   "id": "4200ed11",
   "metadata": {},
   "source": [
    "$$\\frac{-\\delta^{ij}V'(r)}{r}+x^i\\left(\\frac{-1}{r}\\frac{\\partial V'(r)}{\\partial r}\\frac{\\partial r}{\\partial x^j}+V'(r)\\left(\\frac{1}{r^2}\\frac{\\partial r}{\\partial x^j}\\right)\\right)=$$"
   ]
  },
  {
   "cell_type": "markdown",
   "id": "5f80060d",
   "metadata": {},
   "source": [
    "$$-\\frac{1}{r}\\left[\\delta^{ij}V'(r)+x^i\\left(V''(r)\\frac{x^j}{r}+V'(r)\\frac{-x^j}{r^2}\\right)\\right]=$$"
   ]
  },
  {
   "cell_type": "markdown",
   "id": "9e14d1f0",
   "metadata": {},
   "source": [
    "where we used the identity from the text: $\\frac{\\partial r}{\\partial x^j}=\\frac{x^j}{r}$."
   ]
  },
  {
   "cell_type": "markdown",
   "id": "df63faca",
   "metadata": {},
   "source": [
    "$$-\\frac{1}{r}\\left[\\delta^{ij}V'(r)+\\frac{x^ix^j}{r^2}\\left(V''(r)r-V'(r)\\right)\\right]=$$"
   ]
  },
  {
   "cell_type": "markdown",
   "id": "41a74c69",
   "metadata": {},
   "source": [
    "$$-\\frac{1}{r}\\left[\\delta^{ij}V'(r)+\\frac{x^ix^j}{r^2}\\left(-V'(r)+rV''(r)\\right)\\right]$$"
   ]
  },
  {
   "cell_type": "markdown",
   "id": "dabe25b2",
   "metadata": {},
   "source": [
    "I don't understant the \"what else can it be?\" argument and cannot see how the integrability condition of Equation (6) holds immediately. Maybe that will be possible after his chapter on tensors (Book One, Part One, Chapter Four)."
   ]
  },
  {
   "cell_type": "markdown",
   "id": "226bf88c",
   "metadata": {},
   "source": [
    "### Conservation of angular momentum"
   ]
  },
  {
   "cell_type": "markdown",
   "id": "5cbb19e0",
   "metadata": {},
   "source": [
    "I had forgotten that angular momentum, $L$, is $\\vec{r} \\times \\vec{\\rho}$, where $\\vec{\\rho}$ is the momentum. For a unit mass $\\vec{\\rho}=\\vec{v}$. I had also forgotten that the cross product of two vectors, $\\vec{a}$ and $\\vec{b}$, of length two is defined as $\\vec{a} \\times \\vec{b}=a_1b_2-a_2b_1$."
   ]
  },
  {
   "cell_type": "markdown",
   "id": "14a8008f",
   "metadata": {},
   "source": [
    "The quantity $l^{ij}$ is an element of the angular momentum and since every element can be described using the $x^j\\frac{dx^i}{dt}-x^i\\frac{dx^j}{dt}$ expression, then every element is conserved and so the total angular momentum is conserved."
   ]
  },
  {
   "cell_type": "markdown",
   "id": "13494069",
   "metadata": {},
   "source": [
    "## Exercise\n",
    "\n",
    "### 1)\n",
    "> Let $N$ particles interact according to\n",
    ">\n",
    "> $$m_a\\frac{d^2x^i_a}{dt^2}=-\\frac{\\partial V(x)}{\\partial x^i_a}$$\n",
    ">\n",
    "> with $a=1,\\ldots,N$. Suppose $V(x_1,\\ldots,x_N)$ depends only on the differences $x^i_a-x^i_b$, with $a,b=1,\\ldots,N$. Show that the total momentum $\\sum_am_a\\frac{dx^i_a}{dt}$ is conserved."
   ]
  },
  {
   "cell_type": "markdown",
   "id": "5431e815",
   "metadata": {},
   "source": [
    "To show that momentum is conserved is to show:\n",
    "\n",
    "$$\\frac{d}{dt}\\left[\\sum_a m_a \\frac{dx^i_a}{dt}\\right]=0$$"
   ]
  },
  {
   "cell_type": "markdown",
   "id": "8112ba50",
   "metadata": {},
   "source": [
    "Since $m_a$ does not change with time in these considerations, the above expression is also:\n",
    "\n",
    "$$\\sum_a m_a \\frac{d^2x^i_a}{dt^2}=0$$"
   ]
  },
  {
   "cell_type": "markdown",
   "id": "19d1b85a",
   "metadata": {},
   "source": [
    "The above equation means that no forces is exerted on the ensemble. The task is to show if no force is exerted, then momentum is conserved. That is to be shown by demonstrating that the sum of the equations we were given in the problem statement is zero."
   ]
  },
  {
   "cell_type": "markdown",
   "id": "edf3a45b",
   "metadata": {},
   "source": [
    "If $V(x)$ depends only on the differences $x^i_a-x^i_b$, then let's rewrite the function in terms of those variables.\n",
    "\n",
    "$$V(x_1,\\ldots,x_N)=V(\\Delta^1_{aa},\\Delta^1_{ab},\\ldots,\\Delta^D_{NN})$$"
   ]
  },
  {
   "cell_type": "markdown",
   "id": "b491ab92",
   "metadata": {},
   "source": [
    "Where $\\Delta^i_{nm}$ is the difference $x^i_n-x^i_m$ with $i=1,\\ldots,D$ and $a,b=1,\\ldots,N$."
   ]
  },
  {
   "cell_type": "markdown",
   "id": "05b9a1c7",
   "metadata": {},
   "source": [
    "The right-hand side of the summed equations gives:\n",
    "\n",
    "$$\\sum_a\\left(-\\frac{\\partial V(x)}{\\partial x^i_a}\\right)$$"
   ]
  },
  {
   "cell_type": "markdown",
   "id": "8be99da3",
   "metadata": {},
   "source": [
    "Substituting in our new function for $V(x)$ gives:\n",
    "\n",
    "$$\\sum_a\\left(-\\frac{\\partial V(\\Delta^1_{aa},\\Delta^1_{ab},\\ldots,\\Delta^D_{NN})}{\\partial x^i_a}\\right)$$"
   ]
  },
  {
   "cell_type": "markdown",
   "id": "59c11dc5",
   "metadata": {},
   "source": [
    "The chain rule as applied to composite functions of multiple variables is:\n",
    "\n",
    "$$\\frac{dV}{dt}=\\sum\\frac{\\partial V}{\\partial x^i}\\frac{dx^i}{dt}$$\n",
    "\n",
    "where $V(x)$ is a function of $D$ variables $x^i$ for $i=1,\\ldots,D$ and $t$ is a scalar."
   ]
  },
  {
   "cell_type": "markdown",
   "id": "593d6a09",
   "metadata": {},
   "source": [
    "Applying the chain rule to obtain the partial derivative with respect to $x^1_1$ gives:\n",
    "\n",
    "$$\\frac{\\partial V(x)}{\\partial x^i_a}=\\sum_{i=1}^{D}\\sum_{b=1}^N\\sum_{c=1}^N\\frac{\\partial V(\\Delta_{11}^1,\\Delta_{12}^1,\\ldots,\\Delta_{NN}^D)}{\\partial \\Delta_{bc}^i}\\frac{d\\Delta_{bc}^i}{dx^i_a}$$"
   ]
  },
  {
   "cell_type": "markdown",
   "id": "b7370d4c",
   "metadata": {},
   "source": [
    "The factors $\\frac{\\partial V(\\Delta_{11}^1,\\Delta_{12}^1,\\ldots,\\Delta_{NN}^D)}{\\partial \\Delta_{bc}^i}$ are unkown, but are related:"
   ]
  },
  {
   "cell_type": "markdown",
   "id": "c02750e9",
   "metadata": {},
   "source": [
    "$$\\frac{\\partial V(\\Delta_{11}^1,\\Delta_{12}^1,\\ldots,\\Delta_{NN}^D)}{\\partial \\Delta_{bc}^i}=\\frac{\\partial V(\\Delta_{11}^1,\\Delta_{12}^1,\\ldots,\\Delta_{NN}^D)}{\\partial \\Delta_{cb}^i}\\frac{d\\Delta_{cb}^i}{d\\Delta_{bc}^i}$$"
   ]
  },
  {
   "cell_type": "markdown",
   "id": "86e14ea4",
   "metadata": {},
   "source": [
    "$$\\frac{d\\Delta_{cb}^i}{d\\Delta_{bc}^i}=\\frac{d\\left(x_c^i-x_b^i\\right)}{d\\left(x_b^i-x_c^i\\right)}$$"
   ]
  },
  {
   "cell_type": "markdown",
   "id": "0904cca1",
   "metadata": {},
   "source": [
    "Let $u=x_b^i-x_c^i$."
   ]
  },
  {
   "cell_type": "markdown",
   "id": "63031ae9",
   "metadata": {},
   "source": [
    "$$\\frac{d\\left(x_c^i-x_b^i\\right)}{d\\left(x_b^i-x_c^i\\right)}=\\frac{d\\left(-u\\right)}{du}=-1$$"
   ]
  },
  {
   "cell_type": "markdown",
   "id": "c79c6a10",
   "metadata": {},
   "source": [
    "Which means that:"
   ]
  },
  {
   "cell_type": "markdown",
   "id": "2f29cd7e",
   "metadata": {},
   "source": [
    "$$\\frac{\\partial V(\\Delta_{11}^1,\\Delta_{12}^1,\\ldots,\\Delta_{NN}^D)}{\\partial \\Delta_{bc}^i}=-\\frac{\\partial V(\\Delta_{11}^1,\\Delta_{12}^1,\\ldots,\\Delta_{NN}^D)}{\\partial \\Delta_{cb}^i}$$"
   ]
  },
  {
   "cell_type": "markdown",
   "id": "99e4ea54",
   "metadata": {},
   "source": [
    "Which is something we already knew. This is Newton's third law of motion: \"For every action there is an equal and opposite reaction.\""
   ]
  },
  {
   "cell_type": "markdown",
   "id": "0d2bf5a1",
   "metadata": {},
   "source": [
    "We have shown that every $\\Delta_{bc}^i$ cancels with $\\Delta_{cb}^i$ for $b\\ne c$. For $b=c$ we have terms like this:"
   ]
  },
  {
   "cell_type": "markdown",
   "id": "fa3cdf9b",
   "metadata": {},
   "source": [
    "$$\\frac{\\partial V(\\Delta_{11}^1,\\Delta_{12}^1,\\ldots,\\Delta_{NN}^D)}{\\partial \\Delta_{bb}^i}\\frac{d\\Delta_{bb}^i}{dx_a^i}$$"
   ]
  },
  {
   "cell_type": "markdown",
   "id": "deb116e9",
   "metadata": {},
   "source": [
    "where $\\Delta_{bb}^i=x_b^i-x_b^i=0$. The derivative of a constant is zero. Thus every term where the two particle indices are the same is identically zero."
   ]
  },
  {
   "cell_type": "markdown",
   "id": "3bd8e260",
   "metadata": {},
   "source": [
    "Every term where the particle indices are different cancels and every term where the partical indices are the same is zero. The inner double sum over the partical is therefore zero for every spatial dimension $i$, and that means that momentum does not vary over time and is by definition conserved."
   ]
  },
  {
   "cell_type": "code",
   "execution_count": null,
   "id": "0c89e042",
   "metadata": {},
   "outputs": [],
   "source": []
  }
 ],
 "metadata": {
  "kernelspec": {
   "display_name": "Python 3 (ipykernel)",
   "language": "python",
   "name": "python3"
  },
  "language_info": {
   "codemirror_mode": {
    "name": "ipython",
    "version": 3
   },
   "file_extension": ".py",
   "mimetype": "text/x-python",
   "name": "python",
   "nbconvert_exporter": "python",
   "pygments_lexer": "ipython3",
   "version": "3.11.2"
  }
 },
 "nbformat": 4,
 "nbformat_minor": 5
}
