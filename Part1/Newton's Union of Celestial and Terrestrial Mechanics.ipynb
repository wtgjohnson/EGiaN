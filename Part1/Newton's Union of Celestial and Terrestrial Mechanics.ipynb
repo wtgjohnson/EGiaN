{
 "cells": [
  {
   "cell_type": "markdown",
   "id": "864a66d2",
   "metadata": {},
   "source": [
    "The union of celestial and terrestrial mechanics comes about from asserting that the force on the Moon due to gravity is the same as the force on an apple due to gravity. Newton asserted that the acceleration due to gravity scales by an inverse square law.\n",
    "\n",
    "$$\n",
    "ma=\\frac{GM_{Earth}m}{r^2}\n",
    "$$\n",
    "\n",
    "Applying the law to an apple falling on the surface of the Earth and to the Moon gives:\n",
    "\n",
    "$$\n",
    "\\begin{gather*}\n",
    "m_{apple}a_{apple}=\\frac{GM_{Earth}m_{apple}}{R_{Earth}^2} \\\\\n",
    "m_{Moon}a_{Moon}=\\frac{GM_{Earth}m_{Moon}}{R_{Moon}^2}\n",
    "\\end{gather*}\n",
    "$$\n",
    "\n",
    "Cancelling $m_{apple}$ and $m_{Moon}$ and dividing one equation by the other gives:\n",
    "\n",
    "$$\n",
    "\\frac{a_{apple}}{a_{Moon}}=\\frac{R_{Moon}^2}{R_{Earth}^2}\n",
    "$$\n",
    "\n",
    "Rearranging gives:\n",
    "\n",
    "$$\n",
    "a_{apple}=a_{Moon}\\frac{R_{Moon}^2}{R_{Earth}^2}\n",
    "$$\n",
    "\n",
    "The radius of the Earth had been computed from Erastosthenes' experiment in the time of ancient Egypt. At noon during the summer solstice, a vertical object in modern day Aswan, Egypt, which is very near the Tropic of Cancer, cast no shadow. Another object 788.5 km away in modern day Cairo cast a shadow. The shadow, the vertical object, and the rays of the Sun formed a right triangle with an angle of 7.2 degrees. Assuming that the sun is far away means that its rays are parallel. The raidii from the center of the Earth to Aswan and to Cairo must therefore sweep an angle of 7.2 degrees. The radius of the Earth can then be computed using the formula for the tangent of an angle.\n",
    "\n",
    "$$\n",
    "\\begin{gather*}\n",
    "\\tan{\\theta}=\\frac{o}{a}=\\frac{d}{R_{Earth}} \\\\\n",
    "\\\\\n",
    "R_{Earth} = \\frac{788.5}{\\left(\\tan{7.2 \\times 2\\pi / 360}\\right)}\n",
    "\\end{gather*}\n",
    "$$"
   ]
  },
  {
   "cell_type": "code",
   "execution_count": 7,
   "id": "8f302a33",
   "metadata": {},
   "outputs": [
    {
     "data": {
      "text/plain": [
       "6241.620197129145"
      ]
     },
     "execution_count": 7,
     "metadata": {},
     "output_type": "execute_result"
    }
   ],
   "source": [
    "import numpy as np\n",
    "\n",
    "788.5/np.tan(7.2*2*np.pi/360)"
   ]
  },
  {
   "cell_type": "markdown",
   "id": "9668cc6d",
   "metadata": {},
   "source": [
    "The value was refined during Newton's lifetime to be 6370 km which is very close to the modern day measurement of 6371 km.\n",
    "\n",
    "The observed value of 7.2 degrees could also be supported by a flat earth with a close and small sun. In this model, the sun's rays are not parallel. Instead they are vertical in Aswan and at an angle of 7.2 degrees in Cairo relative to the sun's rays in Aswan. The triangle of the shadow, the object, and the sun's rays is similar to the triangle from Cairo, to Aswan, to the Sun. The distance to the Sun can be computed using the same formula to compute the radius of the Earth.\n",
    "\n",
    "$$\n",
    "\\tan(\\theta)=\\frac{d}{R_{Earth-Sun}}\n",
    "$$\n",
    "\n",
    "This would put the Earth only 6300 km overhead. The length of the Mediterranean is about 4000 km and the apparent size of the Sun in the sky can be measured and is constant. The constant size of the Sun regardless of time of day or the observer's location do not conform with a flat Earth and close Sun explanation for Eratosthenes' measurement."
   ]
  },
  {
   "cell_type": "markdown",
   "id": "eb867f54",
   "metadata": {},
   "source": [
    "Today, the radius of the Earth can be estimated using the recorded times of sunrise at various locations on the globe. To make this simple, use the time for sunrise on an equinox for two locations on an eastern shoreline at the equator and look up the distance between them. For example, the distance between Sao Tome and Principe off the western coast of Africa to the Galapagos Islands off the western coast of Ecuador is 10,840 km. The most recent equinox occurred on September 22. Sunrise at Sao Tome and Principe occurred at 0522 UTC and at the Galapagos surise occurred at 1138 UTC. The portion of the Earth's circumference between the two locations is the time difference divided by 24."
   ]
  },
  {
   "cell_type": "code",
   "execution_count": 1,
   "id": "c86c8eb7",
   "metadata": {},
   "outputs": [
    {
     "data": {
      "text/plain": [
       "0.2611111111111111"
      ]
     },
     "execution_count": 1,
     "metadata": {},
     "output_type": "execute_result"
    }
   ],
   "source": [
    "((11+38/60) - (5+22/60))/24 "
   ]
  },
  {
   "cell_type": "markdown",
   "id": "ce0c7c86",
   "metadata": {},
   "source": [
    "The radius of the Earth can then be computed from the formula for the circumference of a circle.\n",
    "\n",
    "$$\n",
    "0.2611 \\times 2\\pi R_{Earth} = 10840 \\\\\n",
    "R_{Earth} = \\frac{10840}{0.2611 \\cdot 2\\pi}\n",
    "$$"
   ]
  },
  {
   "cell_type": "code",
   "execution_count": 3,
   "id": "ed6d4132",
   "metadata": {},
   "outputs": [
    {
     "data": {
      "text/plain": [
       "6607.581704772675"
      ]
     },
     "execution_count": 3,
     "metadata": {},
     "output_type": "execute_result"
    }
   ],
   "source": [
    "import numpy as np\n",
    "10840 / (0.2611 * 2 * np.pi)"
   ]
  },
  {
   "cell_type": "markdown",
   "id": "e92d09ca",
   "metadata": {},
   "source": [
    "The distance to the Moon $R_{Moon}$ was known from antiquity through the observation of lunar eclipses and refined during Newton's time using parallax. Parallax observes the moon's location relative to a distant star at two locations of known distance $d$ from each other at the same time. The process is made simpler by choosing two locations on the same meridian. Afterwards, the two observers compare notes and the difference bewteen their observation angles can be used in a trigonometric relationship to obtain R_{Moon}\n",
    "\n",
    "$$\n",
    "R_{Moon}=\\frac{d}{2\\tan(\\theta)}\n",
    "$$\n",
    "\n",
    "In Newton's time, the best estimate of the distance to the Moon was $60 \\times R_{Earth}$.\n",
    "\n",
    "Today the distance can be estimated using a high resolution camera. Take a picture of the Moon when it is directly overhead and another picture when it is near the horizon. The photograph taken when the Moon is directly overhead is one Earth radius closer to the Moon than when it is near the horzion. The difference in separate causes a difference in apparent size of the Moon. The Moon when directly overhead is measurably larger. One measurement [obtained by an observer posted on YouTube](https://www.youtube.com/watch?v=GTtce3rJxhc) showed that the Moon is 1.2% larger. He was in Los Angelese at a latitude of 34 degrees which means that 1.2% corresponds to a difference in the distance of 0.64 $R_{Earth}$."
   ]
  },
  {
   "cell_type": "code",
   "execution_count": 9,
   "id": "ce8540e5",
   "metadata": {},
   "outputs": [
    {
     "data": {
      "text/plain": [
       "0.64335995942387"
      ]
     },
     "execution_count": 9,
     "metadata": {},
     "output_type": "execute_result"
    }
   ],
   "source": [
    "import numpy as np\n",
    "\n",
    "np.cos(34/2/np.pi)"
   ]
  },
  {
   "cell_type": "markdown",
   "id": "7a8f2a78",
   "metadata": {},
   "source": [
    "The apparent size of an object that is far away relative to its height scales with the inverse of the distance.\n",
    "\n",
    "$$\n",
    "\\theta = \\frac{h}{d} \\\\\n",
    "\\theta_{overhead} = \\frac{h}{d_{overhead}} = \\frac{h}{R_{Moon}-0.64R_{Earth}} \\\\\n",
    "\\theta_{horizon}=\\frac{h}{d_{horizon}}=\\frac{h}{R_{Moon}}\n",
    "$$\n",
    "\n",
    "Dividing the last two equations gives"
   ]
  },
  {
   "cell_type": "markdown",
   "id": "c3882c7d",
   "metadata": {},
   "source": [
    "$$\n",
    "\\frac{\\theta_{overhead}}{\\theta_{horizon}}=\\frac{R_{Moon}}{R_{Moon}-0.64R_{Earth}} \\\\\n",
    "1.012 = \\frac{R_{Moon}}{R_{Moon}-0.64R_{Earth}}\n",
    "$$"
   ]
  },
  {
   "cell_type": "markdown",
   "id": "c08e314d",
   "metadata": {},
   "source": [
    "$$\n",
    "1.012R_{Moon} - 0.648R_{Earth} = R_{Moon} \\\\\n",
    "0.012R_{Moon}=0.648R_{Earth} \\\\\n",
    "\\frac{R_{Moon}}{R_{Earth}}=\\frac{0.648}{0.012}\n",
    "$$"
   ]
  },
  {
   "cell_type": "code",
   "execution_count": 10,
   "id": "2a5752e5",
   "metadata": {},
   "outputs": [
    {
     "data": {
      "text/plain": [
       "54.0"
      ]
     },
     "execution_count": 10,
     "metadata": {},
     "output_type": "execute_result"
    }
   ],
   "source": [
    "0.648/0.012"
   ]
  },
  {
   "cell_type": "markdown",
   "id": "5113d0d4",
   "metadata": {},
   "source": [
    "The last observation necessary is the sidereal period of the Moon. This is the amount of time it takes the Moon to orbit the Earth as measured against the background stars. This differs from the synodic period which determines it's phases. The synodic period is affected by the revolution of the Earth, but the sidereal period is not. The sidereal period of the Moon had been known since antiquity and in Newton's time the best measurement was 27.3 days. To obtain this today all that is necessary is to note when the Moon occludes a bright star and then measure the time it take the Moon to circle around and occlude the same bright star again. The ease of this particular measurement has not improved since antiquity.\n",
    "\n",
    "To get $a_{Moon}$ from the sidereal period, project the motion of the Moon onto a diameter of its orbit. The motion of the projection is an harmonic oscillator and obeys Hooke's law of motion which is\n",
    "\n",
    "$$\n",
    "a = -\\omega^2x\n",
    "$$\n",
    "\n",
    "When the Moon occupies an extreme point on the projection, then $x = R_{Moon}$ and $a = a_{Moon}$. The value of $\\omega$ is the frequency of the oscillation which is the inverse of the period. \n",
    "\n",
    "$$\n",
    "\\omega = \\frac{2\\pi}{27.3}\n",
    "$$\n",
    "\n",
    "$$\n",
    "a = -\\left(\\frac{2\\pi}{27.3}\\right)^2 \\times R_{Moon}\n",
    "$$\n",
    "\n",
    "which is in km per day$^2$ - not the greatest units. Let's convert to s$^2$ so that we eventually get an acceleration in m/s$^2$.\n",
    "\n",
    "$$\n",
    "a = -\\left(\\frac{2\\pi}{27.3\\cdot 86400}\\right)^2 \\times R_{Moon}\n",
    "$$"
   ]
  },
  {
   "cell_type": "code",
   "execution_count": 14,
   "id": "5b135914",
   "metadata": {},
   "outputs": [
    {
     "data": {
      "text/plain": [
       "-7.095891359466816e-12"
      ]
     },
     "execution_count": 14,
     "metadata": {},
     "output_type": "execute_result"
    }
   ],
   "source": [
    "import numpy as np\n",
    "\n",
    "-(2*np.pi/(27.3*86400))**2"
   ]
  },
  {
   "cell_type": "markdown",
   "id": "a72c0118",
   "metadata": {},
   "source": [
    "Substituting everything into\n",
    "\n",
    "$$\n",
    "a_{apple}=a_{Moon}\\frac{R_{Moon}^2}{R_{Earth}^2}\n",
    "$$\n",
    "\n",
    "gives\n",
    "\n",
    "$$\n",
    "a_{apple}=\\left(\\frac{2\\pi}{27.3\\cdot 86400}\\right)^2 60\\cdot R_{Earth}\\frac{60^2 \\cdot R_{Earth}^2}{R_{Earth}^2} \\\\\n",
    "a_{apple}=\\left(\\frac{2\\pi}{27.3 \\cdot 86400}\\right)^2 60 \\cdot R_{Earth} \\cdot 60^2\n",
    "$$\n",
    "\n",
    "Finally, $R_{Earth}=6370$ km $=6370000$ m.\n",
    "\n",
    "$$\n",
    "a_{apple}=\\left(\\frac{2\\pi}{27.3\\cdot 86400}\\right)^2 (60 \\cdot 6370000)\\cdot 60^2 \n",
    "$$\n",
    "\n"
   ]
  },
  {
   "cell_type": "code",
   "execution_count": 21,
   "id": "7e87eb23",
   "metadata": {},
   "outputs": [
    {
     "data": {
      "text/plain": [
       "9.763378839317582"
      ]
     },
     "execution_count": 21,
     "metadata": {},
     "output_type": "execute_result"
    }
   ],
   "source": [
    "((2*np.pi/(27.3*86400))**2)*60*6370000*(60**2)"
   ]
  },
  {
   "cell_type": "markdown",
   "id": "8a3e3638",
   "metadata": {},
   "source": [
    "Computing $a_{apple}$ from the sidereal period of the Moon (27.3 days), the distance to the Moon ($60 \\cdot R_{Earth}$) and the raidus of the Earth (6370 km) results in a value of 9.8 m/s$^2$, which should be familiar to high school physics students. It is the measured acceleration due to gravity here on Earth. This is how Newton demonstrated that the gravity that the Moon feels in the heavens is the same gravity that an apple feels hear on Earth.\n",
    "\n",
    "The best average value of $R_{Moon}$ today is 384500 km. The best average radius of the Earth is 6378 km. The ratio of the two is 60.2. The sidereal period is still 27.3 days as it was in antiquity. The measurements in Newton's time were accurate enough to agree with a measurement of 9.8 m/s$^2$. In fact, the measurement of the acceleration due to gravity at the surface of Earth had the largest percentage error of the four measurements as there was no standard consensus value at the time and measurement of the acceleration would have likely proceeded through timing the fall of a heavy object.\n",
    "\n",
    "If instead we use our do-it-yourself values of 6608 km for the radius of the Earth and a ratio of 54:1 for $R_{Moon}$ to $R_{Earth}$ while maintaining the 27.3 days for the sidereal period of the Moon that has been observable using nothing but the naked eye and the starry skies through all history, then this value is obtained:\n",
    "\n",
    "$$\n",
    "a_{apple}=\\left(\\frac{2\\pi}{27.3\\cdot 86400}\\right)^2(54\\cdot 6608000)\\cdot 54^2\n",
    "$$"
   ]
  },
  {
   "cell_type": "code",
   "execution_count": 2,
   "id": "38b6c5d1",
   "metadata": {},
   "outputs": [
    {
     "data": {
      "text/plain": [
       "7.3834318638749625"
      ]
     },
     "execution_count": 2,
     "metadata": {},
     "output_type": "execute_result"
    }
   ],
   "source": [
    "import numpy as np\n",
    "((2*np.pi/(27.3*86400))**2)*54*6608000*(54**2)"
   ]
  },
  {
   "cell_type": "markdown",
   "id": "0a432b4c",
   "metadata": {},
   "source": [
    "It looks like we need to work on the ratio of $R_{Moon}$ to $R_{Earth}$ a bit more."
   ]
  }
 ],
 "metadata": {
  "kernelspec": {
   "display_name": "Python 3 (ipykernel)",
   "language": "python",
   "name": "python3"
  },
  "language_info": {
   "codemirror_mode": {
    "name": "ipython",
    "version": 3
   },
   "file_extension": ".py",
   "mimetype": "text/x-python",
   "name": "python",
   "nbconvert_exporter": "python",
   "pygments_lexer": "ipython3",
   "version": "3.11.2"
  }
 },
 "nbformat": 4,
 "nbformat_minor": 5
}
