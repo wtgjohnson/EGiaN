{
 "cells": [
  {
   "cell_type": "markdown",
   "id": "86125981",
   "metadata": {},
   "source": [
    "# Chapter 3 Rotation"
   ]
  },
  {
   "cell_type": "markdown",
   "id": "ee8a77eb",
   "metadata": {},
   "source": [
    "## Rotation in the plane"
   ]
  },
  {
   "cell_type": "markdown",
   "id": "e08d1d7c",
   "metadata": {},
   "source": [
    "Let's verify\n",
    "\n",
    "$$\n",
    "x'=\\cos\\theta x + \\sin\\theta y\n",
    "$$\n",
    "\n",
    "$$\n",
    "y'=-\\sin \\theta x + \\cos \\theta y\n",
    "$$"
   ]
  },
  {
   "cell_type": "code",
   "execution_count": 45,
   "id": "f4ddb6be",
   "metadata": {},
   "outputs": [
    {
     "data": {
      "image/png": "[encoded data removed]",
      "text/plain": [
       "<Figure size 500x500 with 1 Axes>"
      ]
     },
     "metadata": {},
     "output_type": "display_data"
    }
   ],
   "source": [
    "import matplotlib.pyplot as plt\n",
    "import matplotlib.patches as patches\n",
    "import numpy as np\n",
    "\n",
    "# Coordinates of the triangle vertices\n",
    "pX=5\n",
    "pY=5\n",
    "P=[pX,pY]\n",
    "unprimeXIntercept=[pX,0]\n",
    "unprimeYIntercept=[0,pY]\n",
    "O=[0,0]\n",
    "axesLength=10\n",
    "xEnd=[axesLength,0]\n",
    "yEnd=[0,axesLength]\n",
    "tilt=4\n",
    "tilt2=np.sqrt(axesLength**2 - tilt**2)\n",
    "xPrimeEnd=[tilt2,tilt]\n",
    "yPrimeEnd=[-tilt,tilt2]\n",
    "theta=np.arcsin(tilt/axesLength)\n",
    "#print('theta = ',theta*360/2/np.pi, ' degrees')\n",
    "primeX=np.cos(theta)*pX + np.sin(theta)*pY\n",
    "primeY=-np.sin(theta)*pX + np.cos(theta)*pY\n",
    "primeXIntercept = [primeX*np.cos(theta), primeX*np.sin(theta)]\n",
    "primeYIntercept = [-primeY*np.sin(theta), primeY*np.cos(theta)]\n",
    "vertices = np.array([O,xEnd,O,yEnd,O,xPrimeEnd,O,yPrimeEnd])\n",
    "more_vertices = np.array([unprimeXIntercept,P,unprimeYIntercept])\n",
    "even_more_verts = np.array([primeXIntercept,P,primeYIntercept])\n",
    "unprimeXIntXPrime=np.cos(theta)*pX\n",
    "primeYProjInt=[unprimeXIntXPrime, primeY]\n",
    "unprimeProjInt = (\n",
    "    [np.cos(theta)*unprimeXIntXPrime-np.sin(theta)*primeY,\n",
    "     np.sin(theta)*unprimeXIntXPrime+np.cos(theta)*primeY]\n",
    ")\n",
    "verts4 = np.array([unprimeXIntercept, unprimeProjInt])\n",
    "\n",
    "# Plotting the axes\n",
    "textMargin=0.75\n",
    "plt.figure(figsize=(5, 5))\n",
    "plt.axis('equal')\n",
    "plt.plot(vertices[:, 0], vertices[:, 1], 'ko-')\n",
    "plt.plot(more_vertices[:, 0], more_vertices[:, 1], 'ko--')\n",
    "plt.plot(even_more_verts[:, 0], even_more_verts[:, 1], 'ko--')\n",
    "plt.plot(verts4[:, 0], verts4[:, 1], 'ko--')\n",
    "plt.text(0-textMargin,0-textMargin, 'O', fontsize=12)\n",
    "plt.text(pX,pY+textMargin/2, 'P', fontsize=12)\n",
    "arc = patches.Arc((0, 0), 2.2, 2.2, angle=0, theta1=0, theta2=theta*360/2/np.pi, edgecolor='k', linewidth=2)\n",
    "plt.gca().add_patch(arc)\n",
    "plt.text(0+2*textMargin,0+0.2*textMargin, r\"$\\theta$\", fontsize=12)\n",
    "arc = patches.Arc((pX, 0), 2.2, 2.2, angle=0, theta1=90, theta2=90+theta*360/2/np.pi, edgecolor='k', linewidth=2)\n",
    "plt.gca().add_patch(arc)\n",
    "plt.text(pX-0.7*textMargin,0+1.8*textMargin, r\"$\\theta$\", fontsize=12)\n",
    "\n",
    "plt.show()"
   ]
  },
  {
   "cell_type": "markdown",
   "id": "4298c43e",
   "metadata": {},
   "source": [
    "In the above diagram, the distance labeled $x'$ in the text is $x\\cos\\theta$ using the angle on the origin plus $y\\sin\\theta$ using the angle at $(x,0)$, proving the first part of Equation (1) in the text. The distance labeled $y'$ is $y\\cos\\theta$ using the angle at $(x,0)$ minus $x\\sin\\theta$ using the angle about the origin, proving the second part of Equation (1).\n",
    "\n",
    "Note that $\\theta$ refers to the angle swept from the x-axis to the x'-axis. This causes the point P to sweep in the opposite direction. An rotation of 90 degrees applied to point (x,0) produces (0,-y) because the coordinates have moved 90 degrees and not the point. The point appears to have rotated -90 degrees but that's because the coordinates have been rotated while the point remained fixed."
   ]
  },
  {
   "cell_type": "markdown",
   "id": "a6d8d4bd",
   "metadata": {},
   "source": [
    "Let's verify that $\\sqrt{x'^2+y'^2}=\\sqrt{x^2+y^2}$."
   ]
  },
  {
   "cell_type": "markdown",
   "id": "bbc7bce6",
   "metadata": {},
   "source": [
    "$$\\sqrt{x'^2+y'^2}=\\sqrt{(x\\cos\\theta+y\\sin\\theta)^2+(-x\\sin\\theta+y\\cos\\theta)^2}=$$"
   ]
  },
  {
   "cell_type": "markdown",
   "id": "7eba5463",
   "metadata": {},
   "source": [
    "$$\\sqrt{x^2\\cos^2\\theta+2xy\\sin\\theta\\cos\\theta+y^2\\sin^2\\theta+x^2\\sin^2\\theta-2xy\\cos\\theta\\sin\\theta+y^2\\cos^2\\theta}=$$"
   ]
  },
  {
   "cell_type": "markdown",
   "id": "22dafa2f",
   "metadata": {},
   "source": [
    "$$\\sqrt{x^2(\\cos^2\\theta+\\sin^2\\theta)+y^2(\\cos^2\\theta+\\sin^2\\theta)}=$$"
   ]
  },
  {
   "cell_type": "markdown",
   "id": "9fe7c9f3",
   "metadata": {},
   "source": [
    "$$\\sqrt{x^2+y^2}$$"
   ]
  },
  {
   "cell_type": "markdown",
   "id": "0940b101",
   "metadata": {},
   "source": [
    "Zee states that $\\left(\\vec{u}+\\vec{v}\\right)^2=\\vec{u}^2+\\vec{v}^2+2\\vec{u}^T\\cdot\\vec{v}$. Let's verify that."
   ]
  },
  {
   "cell_type": "markdown",
   "id": "fcc9224e",
   "metadata": {},
   "source": [
    "$$\\left(\\vec{u}+\\vec{v}\\right)^2=\\left(\\left(u_1+v_1\\right)^2+\\left(u_2+v_2\\right)^2\\right)=u_1^2+2u_1v_1+v_1^2+u_2^2+2u_2v_2+v_2^2=u_1^2+u_2^2+v_1^2+v_2^2+2\\left(u_1v_1+u_2v_2\\right)$$"
   ]
  },
  {
   "cell_type": "markdown",
   "id": "6dcbb543",
   "metadata": {},
   "source": [
    "$$\\vec{u}^2+\\vec{v}^2+2\\vec{u}^T\\cdot\\vec{v}=u_1^2+u_2^2+v_1^2+v_2^2+2\\left(u_1v_1+u_2v_2\\right)$$"
   ]
  },
  {
   "cell_type": "markdown",
   "id": "17b30c86",
   "metadata": {},
   "source": [
    "The two expressions are equivalent."
   ]
  },
  {
   "cell_type": "markdown",
   "id": "7dea5a11",
   "metadata": {},
   "source": [
    "Zee also has a series of equivalent expressions embedded in the text that is understandable, but I would like to expand it to make it easier for me to understand."
   ]
  },
  {
   "cell_type": "markdown",
   "id": "126af18a",
   "metadata": {},
   "source": [
    "$$\\vec{u}^T\\cdot\\vec{v}=\\vec{u}'^T\\cdot\\vec{v}'=\\left(\\vec{u}^TR^T\\right)\\cdot\\left(R\\vec{v}\\right)=\\vec{u}^T\\cdot\\left(R^TR\\right)\\vec{v}$$"
   ]
  },
  {
   "cell_type": "markdown",
   "id": "499cc791",
   "metadata": {},
   "source": [
    "The first two expressions, $\\vec{u}^T\\cdot\\vec{v}=\\vec{u}'^T\\cdot\\vec{v}'$, are equivalent because the magnitude of a vector is invariant with respect to rotation, as proven in the previous paragraph."
   ]
  },
  {
   "cell_type": "markdown",
   "id": "6cb8b9a7",
   "metadata": {},
   "source": [
    "The third expression is equivalent to the second because $\\vec{u}'^T=\\vec{u}^TR^T$ which is the transpose of the rotation equation, $\\vec{u}'=R\\vec{u}$. The transpose of the product of two matrices, $A$ and $B$, $\\left(AB\\right)^T=B^TA^T$. Also, $\\vec{v}'=R\\vec{v}$ is just the rotation equation again."
   ]
  },
  {
   "cell_type": "markdown",
   "id": "ae9f5305",
   "metadata": {},
   "source": [
    "Finally, matrix multiplication is associative. Zee has rearranged the parentheses to emphasize that $R^TR$ must be $I$ by comparing the final expression to the first."
   ]
  },
  {
   "cell_type": "markdown",
   "id": "f870b3ad",
   "metadata": {},
   "source": [
    "$$\n",
    "\\left(\n",
    "\\begin{matrix}\n",
    "0 & 1 \\\\\n",
    "-1 & 0\n",
    "\\end{matrix}\n",
    "\\right)\n",
    "\\left(\n",
    "\\begin{matrix}\n",
    "1 & 0 \\\\\n",
    "0 & -1\n",
    "\\end{matrix}\n",
    "\\right)\n",
    "=\n",
    "\\left(\n",
    "\\begin{matrix}\n",
    "0 & -1 \\\\\n",
    "-1 & 0\n",
    "\\end{matrix}\n",
    "\\right)\n",
    "$$"
   ]
  },
  {
   "cell_type": "markdown",
   "id": "0cebe099",
   "metadata": {},
   "source": [
    "### Act a little bit at a time"
   ]
  },
  {
   "cell_type": "markdown",
   "id": "ff7bceb2",
   "metadata": {},
   "source": [
    "Let's verify that Equation (1) reduces to $x' \\approx x+\\theta y$ and $y'\\approx y-\\theta x$ to leading order in $\\theta$."
   ]
  },
  {
   "cell_type": "markdown",
   "id": "6b145cb8",
   "metadata": {},
   "source": [
    "Equation (1):\n",
    "\n",
    "$$x'=x\\cos\\theta+y\\sin\\theta$$\n",
    "\n",
    "$$y'=-x\\sin\\theta+y\\cos\\theta$$"
   ]
  },
  {
   "cell_type": "markdown",
   "id": "326ed3a6",
   "metadata": {},
   "source": [
    "For infinitesimal $\\theta$, $\\cos\\theta\\approx1$ and $\\sin\\theta\\approx\\theta$. Substituting:"
   ]
  },
  {
   "cell_type": "markdown",
   "id": "b3804bfd",
   "metadata": {},
   "source": [
    "$$x'\\approx x+y\\theta=x+\\theta y$$\n",
    "$$y'\\approx -x\\theta+y=y-\\theta x$$"
   ]
  },
  {
   "cell_type": "markdown",
   "id": "1cace20f",
   "metadata": {},
   "source": [
    "Let's verify that $x'=x+\\theta y$ and $y'=y-\\theta x$ verifies the Pythagorean condition that $x'^2+y'^2=x^2+y^2$."
   ]
  },
  {
   "cell_type": "markdown",
   "id": "039e3b03",
   "metadata": {},
   "source": [
    "$$x'^2=\\left(x+\\theta y\\right)^2=x^2+2\\theta y +\\theta^2y^2\\approx x^2$$"
   ]
  },
  {
   "cell_type": "markdown",
   "id": "bfecdac4",
   "metadata": {},
   "source": [
    "$$y'^2=\\left(y-\\theta x\\right)^2=y^2-2\\theta x+\\theta^2x^2\\approx y^2$$"
   ]
  },
  {
   "cell_type": "markdown",
   "id": "430d03d2",
   "metadata": {},
   "source": [
    "Where approximating to the first order in $\\theta$ has been interpreted to mean including only the terms with the lowest power of $\\theta$. That power is zero and so only the terms $x^2$ and $y^2$ remain."
   ]
  },
  {
   "cell_type": "markdown",
   "id": "3ca6d846",
   "metadata": {},
   "source": [
    "I believe the cryptic comment, \"Or, write $x'=x+\\delta x$, $y'=y+\\delta y$ and solve $x\\delta x+y\\delta y=0$\" is still referring to computing the invariance of the magnitude. Perhaps like so:"
   ]
  },
  {
   "cell_type": "markdown",
   "id": "81f3e73c",
   "metadata": {},
   "source": [
    "$$x'=x+\\delta x$$\n",
    "$$y'=y+\\delta y$$\n",
    "$$x'^2+y'^2=\\left(x+\\delta x\\right)^2+\\left(y+\\delta y\\right)^2=x^2+2x\\delta x+\\delta^2x^2+y^2+2y\\delta y+\\delta^2y^2\\approx$$\n",
    "$$x^2+2x\\delta x+y^2+2y\\delta y$$"
   ]
  },
  {
   "cell_type": "markdown",
   "id": "012bfec9",
   "metadata": {},
   "source": [
    "The above expression equals $x^2+y^2$ only if $2x\\delta x + 2y\\delta y=0$ which implies $x\\delta x+y\\delta y=0$."
   ]
  },
  {
   "cell_type": "markdown",
   "id": "614f7f0d",
   "metadata": {},
   "source": [
    "In the next paragraph, Zee discusses using two points $(0,1)$ and $(1,0)$. He notes that we know for infinitesimal angles, the rotation transforms linearly, so we can obtain the matrix's elements by chosing these points and noting what happens. When we use $(1,0)$, the result after rotating **clockwise** (The rotation matrix given in the text is for a positive angle defined by a clockwise rotation. I'm more familiar with defining a positive angle by a counterclockwise rotation which would imply that the rotation matrix is the transpose of that presented in the text.) by $\\theta$ is $(1,-\\theta)$, implying that left column of the rotation matrix is $(1,-\\theta)$. When we use $(0,1)$, the rotated point is $(\\theta,1)$, implying that the right column is $(\\theta,1)$."
   ]
  },
  {
   "cell_type": "markdown",
   "id": "c6d06703",
   "metadata": {},
   "source": [
    "Zee states that we can prove this identity be differntiating both sides. Let's!"
   ]
  },
  {
   "cell_type": "markdown",
   "id": "35359935",
   "metadata": {},
   "source": [
    "$$e^x=\\lim_{N\\rightarrow \\infty}\\left(1+\\frac{x}{N}\\right)^N$$"
   ]
  },
  {
   "cell_type": "markdown",
   "id": "cb32115f",
   "metadata": {},
   "source": [
    "Differentiating both sides with respect to $x$:"
   ]
  },
  {
   "cell_type": "markdown",
   "id": "b683ec4b",
   "metadata": {},
   "source": [
    "$$\\frac{de^x}{dx}=\\frac{d}{dx}\\left(\\lim_{N\\rightarrow\\infty}\\left(1+\\frac{x}{N}\\right)^N\\right)$$"
   ]
  },
  {
   "cell_type": "markdown",
   "id": "3a31fb83",
   "metadata": {},
   "source": [
    "$$e^x=\\lim_{N\\rightarrow\\infty}\\left(\\frac{d}{dx}\\left(1+\\frac{x}{N}\\right)^N\\right)$$"
   ]
  },
  {
   "cell_type": "markdown",
   "id": "bb620347",
   "metadata": {},
   "source": [
    "$$e^x=\\lim_{N\\rightarrow\\infty}\\left(N\\left(1+\\frac{x}{N}\\right)^{N-1}\\frac{1}{N}\\right)$$"
   ]
  },
  {
   "cell_type": "markdown",
   "id": "8de670f3",
   "metadata": {},
   "source": [
    "$$e^x=\\lim_{N\\rightarrow\\infty}\\left(1+\\frac{x}{N}\\right)^{N-1}$$"
   ]
  },
  {
   "cell_type": "markdown",
   "id": "12905d65",
   "metadata": {},
   "source": [
    "If we divide the original expression by the above expression we obtain:"
   ]
  },
  {
   "cell_type": "markdown",
   "id": "4b0280a1",
   "metadata": {},
   "source": [
    "$$1=\\lim_{N\\rightarrow\\infty}\\frac{\\left(1+\\frac{x}{N}\\right)^N}{\\left(1+\\frac{x}{N}\\right)^{N-1}}=\\lim_{N\\rightarrow\\infty}\\left(1+\\frac{x}{N}\\right)$$"
   ]
  },
  {
   "cell_type": "markdown",
   "id": "7d88ce10",
   "metadata": {},
   "source": [
    "As $N\\rightarrow\\infty$, $\\frac{x}{N}\\rightarrow0$ and we get that $1=1$ which ends the proof."
   ]
  },
  {
   "cell_type": "markdown",
   "id": "6e5436ef",
   "metadata": {},
   "source": [
    "This was a \"Whoa!\" moment, hopefully the first of many from this book. For finite $\\theta$, that is, not infinitesimal $\\theta$:\n",
    "\n",
    "$$R(\\theta)=\\lim_{N\\rightarrow\\infty}R\\left(\\frac{\\theta}{N}\\right)^N$$"
   ]
  },
  {
   "cell_type": "markdown",
   "id": "bf9688cd",
   "metadata": {},
   "source": [
    "This is just performing the inifinitesimal rotation a zillion times to get a finite $\\theta$. Zee then substitues $I+\\frac{\\theta \\mathcal{J}}{N}$ for $R\\left(\\frac{\\theta}{N}\\right)$ to get:"
   ]
  },
  {
   "cell_type": "markdown",
   "id": "8df3ddc5",
   "metadata": {},
   "source": [
    "$$\\lim_{N\\rightarrow\\infty}R\\left(\\frac{\\theta}{N}\\right)^N=\\lim_{N\\rightarrow\\infty}\\left(I+\\frac{\\theta\\mathcal{J}}{N}\\right)^N$$"
   ]
  },
  {
   "cell_type": "markdown",
   "id": "d6802bbf",
   "metadata": {},
   "source": [
    "and then uses the identity that we just proved for reals and applies it to matrices:"
   ]
  },
  {
   "cell_type": "markdown",
   "id": "d327dbda",
   "metadata": {},
   "source": [
    "$$\\lim_{N\\rightarrow\\infty}\\left(I+\\frac{\\theta\\mathcal{J}}{N}\\right)^N=e^{\\theta\\mathcal{J}}$$"
   ]
  },
  {
   "cell_type": "markdown",
   "id": "5eb543bb",
   "metadata": {},
   "source": [
    "I think it's important to have the $I$ in the expression as opposed to the $1$ that Zee uses. Let's take $\\theta=0$, if that's fair. I'm not sure it is since we expressly said our purpose was to compute a finite as opposed to infinitesimal angle, but I believe the purpose was to generalize to include finite angles while still remaining capable of working with infinitesimal ones. If $\\theta=0$, then $R(\\theta)=I$, not $1$. This is a triviality. Who really cares, right?"
   ]
  },
  {
   "cell_type": "markdown",
   "id": "70093c93",
   "metadata": {},
   "source": [
    "The \"Whoa!\" moment was just how quick and easy it was to get to the exponential from rotation. I've never seen a proof (that I remember) that I could follow, let alone follow this clearly and perhaps even remember going forward!"
   ]
  },
  {
   "cell_type": "markdown",
   "id": "e3f92254",
   "metadata": {},
   "source": [
    "Zee shows that we can use entities that follow the algrebraic rules, like matrices, as arguments for functions if we have an algebraic expression for the function. For example, $e^x\\equiv \\sum_{n=0}^\\infty\\frac{M^n}{n!}$ can take a matrix $M$. However, some of the identities we might expect to hold may depend on commutation, and matrices are not necessarily commutative."
   ]
  },
  {
   "cell_type": "markdown",
   "id": "585ce042",
   "metadata": {},
   "source": [
    "Zee indicates that the identity $e^ae^a=e^{2a}$ can be proven using the above series and the binomial theorem. Let's do that!"
   ]
  },
  {
   "cell_type": "markdown",
   "id": "a72d939e",
   "metadata": {},
   "source": [
    "$$e^M=1+M+\\frac{M^2}{2}+\\frac{M^3}{6}+\\frac{M^4}{24}+\\ldots$$"
   ]
  },
  {
   "cell_type": "markdown",
   "id": "d51dd4ba",
   "metadata": {},
   "source": [
    "$$e^Me^M=\\left(1+M+\\frac{M^2}{2}+\\frac{M^3}{6}+\\frac{M^4}{24}+\\ldots\\right)\\left(1+M+\\frac{M^2}{2}+\\frac{M^3}{6}+\\frac{M^4}{24}+\\ldots\\right)=$$"
   ]
  },
  {
   "cell_type": "markdown",
   "id": "476fb5e4",
   "metadata": {},
   "source": [
    "$$1+2M+\\frac{4M^2}{2}+\\frac{8M^3}{6}+\\frac{16M^4}{24}+\\ldots$$"
   ]
  },
  {
   "cell_type": "markdown",
   "id": "4da4363f",
   "metadata": {},
   "source": [
    "We were able to collect like terms in the above expression because $M^2=M^TM$ commutes. The above expression is identical to the series for $e^{2M}$. For the expression $e^{M_1}e^{M_2}$, we won't be able to collect like terms because $M_1M_2\\ne M_2M_1$ in the general case and so $e^{M_1}e^{M_2}\\ne e^{M_1+M_2}$ for the general case."
   ]
  },
  {
   "cell_type": "markdown",
   "id": "b80bee78",
   "metadata": {},
   "source": [
    "Equation (8) is fun and explained well. The only missing pieces are the power series for cosine and sine:\n",
    "\n",
    "$$\\cos\\theta = \\sum_{k=0}^\\infty\\frac{(-1)^k\\theta^{2k}}{(2k)!}$$\n",
    "\n",
    "$$\\sin\\theta = \\sum_{k=0}^\\infty\\frac{(-1)^k\\theta^{2k+1}}{(2k+1)!}$$"
   ]
  },
  {
   "cell_type": "markdown",
   "id": "d724d74b",
   "metadata": {},
   "source": [
    "### Two approaches to rotation"
   ]
  },
  {
   "cell_type": "markdown",
   "id": "936dfb84",
   "metadata": {},
   "source": [
    "Let's derive Equation (10):"
   ]
  },
  {
   "cell_type": "markdown",
   "id": "f01e1f42",
   "metadata": {},
   "source": [
    "$$\\vec{r}_P=(x,y)\\\\\n",
    "\\vec{r}_Q=(\\tilde{x},\\tilde{y})\\\\\n",
    "\\vec{r}_P'=(x',y')\\\\\n",
    "\\vec{r}_Q'=(\\tilde{x}',\\tilde{y}')\\\\\n",
    "\\vec{r}_P'=R(\\theta)\\vec{r}_P\\\\\n",
    "\\vec{r}_Q'=R(\\theta)\\vec{r}_Q\\\\\n",
    "\\Delta x=\\tilde{x}-x\\\\\n",
    "\\Delta y=\\tilde{y}-y\\\\\n",
    "\\Delta x'=\\tilde{x}'-x'\\\\\n",
    "\\Delta y'=\\tilde{y}'-y'\\\\\n",
    "\\vec{r}_Q'-\\vec{r}_P'=R(\\theta)\\vec{r}_Q-R(\\theta)\\vec{r}_P\\\\\n",
    "R=\\begin{pmatrix}\\cos\\theta & \\sin\\theta \\\\ -\\sin\\theta & \\cos\\theta \\end{pmatrix}$$"
   ]
  },
  {
   "cell_type": "markdown",
   "id": "cd0fcf35",
   "metadata": {},
   "source": [
    "$$\\vec{r}_Q'-\\vec{r}_P'=\\begin{pmatrix}\\tilde{x}' \\\\ \\tilde{y}'\\end{pmatrix}-\\begin{pmatrix}x' \\\\ y'\\end{pmatrix}=\\begin{pmatrix}\\tilde{x}'-x' \\\\ \\tilde{y}'-y'\\end{pmatrix}=\\begin{pmatrix}\\Delta x' \\\\ \\Delta y'\\end{pmatrix}$$"
   ]
  },
  {
   "cell_type": "markdown",
   "id": "661da935",
   "metadata": {},
   "source": [
    "$$R(\\theta)\\vec{r}_Q-R(\\theta)\\vec{r}_P=\\begin{pmatrix}\\cos\\theta & \\sin\\theta \\\\ -\\sin\\theta & \\cos\\theta \\end{pmatrix}\\begin{pmatrix}\\tilde{x} \\\\ \\tilde{y}\\end{pmatrix}-\\begin{pmatrix}\\cos\\theta & \\sin\\theta \\\\ -\\sin\\theta & \\cos\\theta \\end{pmatrix}\\begin{pmatrix}x \\\\ y\\end{pmatrix}=$$"
   ]
  },
  {
   "cell_type": "markdown",
   "id": "0be27afa",
   "metadata": {},
   "source": [
    "$$\\begin{pmatrix}\\tilde{x}\\cos\\theta+\\tilde{y}\\sin\\theta \\\\ -\\tilde{x}\\sin\\theta+\\tilde{y}\\cos\\theta\\end{pmatrix}-\\begin{pmatrix}x\\cos\\theta+y\\sin\\theta \\\\ -x\\sin\\theta+y\\cos\\theta\\end{pmatrix}=$$"
   ]
  },
  {
   "cell_type": "markdown",
   "id": "7bc009eb",
   "metadata": {},
   "source": [
    "$$\\begin{pmatrix}\\Delta x\\cos\\theta+\\Delta y\\sin\\theta \\\\ -\\Delta x\\sin\\theta+\\Delta y\\cos\\theta\\end{pmatrix}=\\begin{pmatrix}\\cos\\theta & \\sin\\theta \\\\ -\\sin\\theta & \\cos\\theta\\end{pmatrix}\\begin{pmatrix}\\Delta x \\\\ \\Delta y\\end{pmatrix}$$"
   ]
  },
  {
   "cell_type": "markdown",
   "id": "6097d4ee",
   "metadata": {},
   "source": [
    "I can't seem to find why Zee gets the alternative anti-symmetric rotation matrix in the text:\n",
    "\n",
    "$$\\begin{pmatrix}\\cos\\theta & -\\sin\\theta \\\\ \\sin\\theta & \\cos\\theta\\end{pmatrix}$$"
   ]
  },
  {
   "cell_type": "markdown",
   "id": "a2408f14",
   "metadata": {},
   "source": [
    "I don't expect to find the reason either."
   ]
  },
  {
   "cell_type": "markdown",
   "id": "d6be5b86",
   "metadata": {},
   "source": [
    "Now let's verify that $\\left(\\Delta x'\\right)^2+\\left(\\Delta y'\\right)^2=\\left(\\Delta x\\right)^2+\\left(\\Delta y\\right)^2$"
   ]
  },
  {
   "cell_type": "markdown",
   "id": "ce06e04a",
   "metadata": {},
   "source": [
    "$$\\left(\\Delta x'\\right)^2+\\left(\\Delta y'\\right)^2=$$"
   ]
  },
  {
   "cell_type": "markdown",
   "id": "837feaae",
   "metadata": {},
   "source": [
    "$$\\left(\\Delta x\\cos\\theta+\\Delta y\\sin\\theta\\right)^2+\\left(-\\Delta x\\sin\\theta+\\Delta y\\cos\\theta\\right)^2=$$"
   ]
  },
  {
   "cell_type": "markdown",
   "id": "3d4d1e0e",
   "metadata": {},
   "source": [
    "$$\\Delta x^2\\cos^2\\theta+2\\Delta x\\Delta y\\cos\\theta\\sin\\theta+\\Delta y^2\\sin^2\\theta+\\Delta x^2\\sin^2\\theta-2\\Delta x\\Delta y\\sin\\theta\\cos\\theta+\\Delta y^2\\cos^2\\theta=$$"
   ]
  },
  {
   "cell_type": "markdown",
   "id": "d2f44cce",
   "metadata": {},
   "source": [
    "$$\\Delta x^2\\left(\\cos^2\\theta+\\sin^2\\theta\\right)+\\Delta y^2\\left(\\sin^2\\theta+\\cos^2\\theta\\right)=$$"
   ]
  },
  {
   "cell_type": "markdown",
   "id": "3c99101e",
   "metadata": {},
   "source": [
    "$$\\Delta x^2 + \\Delta y^2$$"
   ]
  },
  {
   "cell_type": "markdown",
   "id": "33b975d6",
   "metadata": {},
   "source": [
    "### Invariance and geometry"
   ]
  },
  {
   "cell_type": "markdown",
   "id": "0b8c3dea",
   "metadata": {},
   "source": [
    "Let's work out why, given $\\vec{p}=\\begin{pmatrix}p^1 \\\\ p^2\\end{pmatrix}$, $\\begin{pmatrix}ap^1 \\\\ bp^2\\end{pmatrix}$ for $a\\ne b$ is not a vector.\n",
    "\n",
    "Let's consider an infinitesimal rotation. $\\vec{p}'=R(d\\theta)\\vec{p}=\\begin{pmatrix}p^1+d\\theta p^2 \\\\ -d\\theta p^1+p^2\\end{pmatrix}$. To transform like a vector means that the elements of the transformed vector are linear combinations of the elements of the untransformed vector."
   ]
  },
  {
   "cell_type": "markdown",
   "id": "76b2f19d",
   "metadata": {},
   "source": [
    "The element-wise transformation is done according to the superscript of the element, like so:"
   ]
  },
  {
   "cell_type": "markdown",
   "id": "1b4736f8",
   "metadata": {},
   "source": [
    "$$R(d\\theta)\\begin{pmatrix}ap^1 \\\\ bp^2\\end{pmatrix}=\\begin{pmatrix}a\\left(p^1+d\\theta p^2\\right) \\\\ b\\left(-d\\theta p^1+p^2\\right)\\end{pmatrix}=\\begin{pmatrix}ap^1+d\\theta ap^2 \\\\ -d\\theta bp^1+bp^2\\end{pmatrix}=\\vec{p}'$$"
   ]
  },
  {
   "cell_type": "markdown",
   "id": "f6444dad",
   "metadata": {},
   "source": [
    "where $p1$ and $p2$ are transformed and substitued to obtain $\\vec{p}'$. However, to transform like a vector, it should have transformed like so:"
   ]
  },
  {
   "cell_type": "markdown",
   "id": "1f8942df",
   "metadata": {},
   "source": [
    "$$R(d\\theta)\\begin{pmatrix}ap^1 \\\\ bp^2\\end{pmatrix}=\\begin{pmatrix}ap^1+d\\theta bp^2 \\\\ -d\\theta ap^1+bp^2\\end{pmatrix}$$"
   ]
  },
  {
   "cell_type": "markdown",
   "id": "fc065126",
   "metadata": {},
   "source": [
    "The two columns, $\\begin{pmatrix}ap^1+d\\theta ap^2 \\\\ -d\\theta bp^1+bp^2\\end{pmatrix}$ and $\\begin{pmatrix}ap^1+d\\theta bp^2 \\\\ -d\\theta ap^1+bp^2\\end{pmatrix}$, are identical only when $a=b$."
   ]
  },
  {
   "cell_type": "markdown",
   "id": "1f3114db",
   "metadata": {},
   "source": [
    "### Lie in higher dimensions"
   ]
  },
  {
   "cell_type": "markdown",
   "id": "2658abce",
   "metadata": {},
   "source": [
    "Zee tells us that we can verify that $R\\approx I + A$ in three dimensions with $A=\\theta_x\\mathcal{J}_x+\\theta_y\\mathcal{J}_y+\\theta_z\\mathcal{J}_z$. Let's do that. The verification of $R$ suffices to show that $R^TR=I$ and that $\\det{R}=1$."
   ]
  },
  {
   "cell_type": "markdown",
   "id": "2135563b",
   "metadata": {},
   "source": [
    "$$R\\approx I+\\theta_x\\mathcal{J}_x+\\theta_y\\mathcal{J}_y+\\theta_z\\mathcal{J}_z=$$"
   ]
  },
  {
   "cell_type": "markdown",
   "id": "e21abcbc",
   "metadata": {},
   "source": [
    "$$\\begin{pmatrix}1&0&0\\\\0&1&0\\\\0&0&1\\end{pmatrix}+\\begin{pmatrix}0&0&0\\\\0&0&\\theta_x\\\\0&-\\theta_x&0\\end{pmatrix}+\\begin{pmatrix}0&0&-\\theta_y\\\\0&0&0\\\\\\theta_y&0&0\\end{pmatrix}+\\begin{pmatrix}0&\\theta_z&0\\\\-\\theta_z&0&0\\\\0&0&0\\end{pmatrix}=$$"
   ]
  },
  {
   "cell_type": "markdown",
   "id": "66766abd",
   "metadata": {},
   "source": [
    "$$\\begin{pmatrix}1&\\theta_z&-\\theta_y\\\\-\\theta_z&1&\\theta_x\\\\\\theta_y&-\\theta_x&1\\end{pmatrix}$$"
   ]
  },
  {
   "cell_type": "markdown",
   "id": "6775232a",
   "metadata": {},
   "source": [
    "$$R^TR=\\begin{pmatrix}1&-\\theta_z&\\theta_y\\\\\\theta_z&1&-\\theta_x\\\\-\\theta_y&\\theta_x&1\\end{pmatrix}\\begin{pmatrix}1&\\theta_z&-\\theta_y\\\\-\\theta_z&1&\\theta_x\\\\\\theta_y&-\\theta_x&1\\end{pmatrix}=$$"
   ]
  },
  {
   "cell_type": "markdown",
   "id": "9362f1ee",
   "metadata": {},
   "source": [
    "$$\\begin{pmatrix}\n",
    "    1+\\theta_y^2+\\theta_z^2 & -\\theta_x\\theta_y       & -\\theta_x\\theta_z      \\\\\n",
    "    -\\theta_x\\theta_y       & 1+\\theta_x^2+\\theta_z^2 & -\\theta_y\\theta_z      \\\\\n",
    "    -\\theta_x\\theta_z       & -\\theta_y\\theta_z       & 1+\\theta_x^2+\\theta_y^2\n",
    "\\end{pmatrix}\\approx$$"
   ]
  },
  {
   "cell_type": "markdown",
   "id": "5198bd2a",
   "metadata": {},
   "source": [
    "$$\\begin{pmatrix}1&0&0\\\\0&1&0\\\\0&0&1\\end{pmatrix}$$"
   ]
  },
  {
   "cell_type": "markdown",
   "id": "37f4e94a",
   "metadata": {},
   "source": [
    "$$\\det{R}=\\det{\\begin{pmatrix}1&\\theta_z&-\\theta_y\\\\-\\theta_z&1&\\theta_x\\\\\\theta_y&-\\theta_x&1\\end{pmatrix}}=$$"
   ]
  },
  {
   "cell_type": "markdown",
   "id": "87a35e43",
   "metadata": {},
   "source": [
    "$$1\\cdot\\det{\\begin{pmatrix}1&\\theta_x\\\\-\\theta_x&1\\end{pmatrix}}-\\theta_z\\cdot\\det{\\begin{pmatrix}-\\theta_z&\\theta_x\\\\\\theta_y&1\\end{pmatrix}}+-\\theta_y\\cdot\\det{\\begin{pmatrix}-\\theta_z&1\\\\\\theta_y&-\\theta_x\\end{pmatrix}}=$$"
   ]
  },
  {
   "cell_type": "markdown",
   "id": "548f1eff",
   "metadata": {},
   "source": [
    "$$1\\left(1+\\theta_x^2\\right)-\\theta_z\\left(-\\theta_z-\\theta_x\\theta_y\\right)-\\theta_y\\left(\\theta_x\\theta_z-\\theta_y\\right)=$$"
   ]
  },
  {
   "cell_type": "markdown",
   "id": "a528dd3a",
   "metadata": {},
   "source": [
    "$$1+\\theta_x^2+\\theta_z^2+\\theta_x\\theta_y\\theta_z-\\theta_x\\theta_y\\theta_z+\\theta_y^2=$$"
   ]
  },
  {
   "cell_type": "markdown",
   "id": "f1b02d80",
   "metadata": {},
   "source": [
    "$$1+\\theta_x^2+\\theta_y^2+\\theta_z^2\\approx 1$$"
   ]
  },
  {
   "cell_type": "markdown",
   "id": "52b63176",
   "metadata": {},
   "source": [
    "### Index notation and rotations"
   ]
  },
  {
   "cell_type": "markdown",
   "id": "565e9ee4",
   "metadata": {},
   "source": [
    "I'd like to add a little more detail here so that I can understand the math more quickly. The second term has distributed the square of the multinomial that is $dx'^i$. For example, let $dx=(dx^1,dx^2)$, then:"
   ]
  },
  {
   "cell_type": "markdown",
   "id": "53edf115",
   "metadata": {},
   "source": [
    "$$\\sum_i\\left(R^{i1}dx^1+R^{i2}dx^2\\right)\\left(R^{i1}dx^1+R^{i2}dx^2\\right)=\\sum_i\\left(R^{i1}dx^1\\left(R^{i1}dx^1+R^{i,2}dx^2\\right)+R^{i,2}dx^2\\left(R^{i,1}dx^1+R^{i,2}dx^2\\right)\\right)=$$"
   ]
  },
  {
   "cell_type": "markdown",
   "id": "40b91373",
   "metadata": {},
   "source": [
    "$$\\sum_i\\left(R^{i1}dx^1\\sum_jR^{i,j}dx^j+R^{i2}dx^2\\sum_jR^{ij}dx^j\\right)=\\sum_i\\sum_k\\sum_jR^{ik}dx^kR^{ij}dx^j$$"
   ]
  },
  {
   "cell_type": "markdown",
   "id": "a851b771",
   "metadata": {},
   "source": [
    "So that helps me get through Equation (18). For Equation (19) I found it useful to look at the top of the page and remember $\\left(AB\\right)^{ij}=\\sum_kA^{ik}B^{kj}$ to get from the third expression to the fourth expression. That's just the definition of how to compute an element of the product of two matrices. Finally if $\\left(AB\\right)^{ij}=\\delta^{ij}$, then that's $I$."
   ]
  },
  {
   "cell_type": "markdown",
   "id": "5ebd2a64",
   "metadata": {},
   "source": [
    "### Descartes versus Euclid"
   ]
  },
  {
   "cell_type": "markdown",
   "id": "0fb1228e",
   "metadata": {},
   "source": [
    "From the footnote, there's a proof that I'd like to elaborate:"
   ]
  },
  {
   "cell_type": "markdown",
   "id": "560f1be7",
   "metadata": {},
   "source": [
    "$$\\frac{d}{dt}\\vec{l}=\\frac{d}{dt}\\left(\\vec{r}\\times\\vec{p}\\right)$$"
   ]
  },
  {
   "cell_type": "markdown",
   "id": "8d56801f",
   "metadata": {},
   "source": [
    "The left-hand side expresses what we hope must equal zero for angular momentum to be conserved, that is, the angular momentum $\\vec{l}$ must not change over time. We must assume that no external forces are acting on the system, that is, that any external accelerations are 0. The right-hand side is the definition of angular momentum, the cross-product of the position, $\\vec{r}$, and linear momentum, $\\vec{p}$."
   ]
  },
  {
   "cell_type": "markdown",
   "id": "13079e6b",
   "metadata": {},
   "source": [
    "The linear momentum, $\\vec{p}$, is $\\vec{p}=m\\frac{d\\vec{r}}{dt}$ and you can extract a scalar from a cross product such that"
   ]
  },
  {
   "cell_type": "markdown",
   "id": "58f0fd0b",
   "metadata": {},
   "source": [
    "$$\\frac{d}{dt}\\left(\\vec{r}\\times\\vec{p}\\right)=m\\frac{d}{dt}\\left(\\vec{r}\\times\\frac{d\\vec{r}}{dt}\\right)$$"
   ]
  },
  {
   "cell_type": "markdown",
   "id": "cd16ae6a",
   "metadata": {},
   "source": [
    "The product rule for derivatives is then applied to the cross product to obtain:"
   ]
  },
  {
   "cell_type": "markdown",
   "id": "89bee5e3",
   "metadata": {},
   "source": [
    "$$m\\frac{d}{dt}\\left(\\vec{r}\\times\\frac{d\\vec{r}}{dt}\\right)=m\\frac{d\\vec{r}}{dt}\\times\\frac{d\\vec{r}}{dt}+m\\vec{r}\\times\\frac{d^2\\vec{r}}{dt^2}$$"
   ]
  },
  {
   "cell_type": "markdown",
   "id": "f5ada1ce",
   "metadata": {},
   "source": [
    "The cross product of a vector with itself is 0, even if one vector is multiplied by a scalar. Please see the definition of cross product to see why. So, the first term is 0. Since angular momentum is conserved only if there are no external accelerations, we see that the right-hand side is 0 if and only if $\\frac{d^2\\vec{r}}{dt^2}=0$."
   ]
  },
  {
   "cell_type": "markdown",
   "id": "1a7c3871",
   "metadata": {},
   "source": [
    "Zee states that the formula for the area of a triangle, $\\frac{1}{2}bh$, where $b$ is the base of the triangle and $h$ is the height, can be derived by requiring that the formula is invariant under rotation and that the area must scale with the square of the separation between the three vertices. Let's try this."
   ]
  },
  {
   "cell_type": "markdown",
   "id": "5b2e2201",
   "metadata": {},
   "source": [
    "What's the separation between the three vertices? I think we can set a vertex a the origin and another on the x-axis. We have these vertices in the $xy$-plane:"
   ]
  },
  {
   "cell_type": "markdown",
   "id": "e89a5f8c",
   "metadata": {},
   "source": [
    "$$v_1=\\begin{pmatrix}0\\\\0\\end{pmatrix}$$\n",
    "$$v_2=\\begin{pmatrix}x_2^1\\\\0\\end{pmatrix}$$\n",
    "$$v_3=\\begin{pmatrix}x_3^1\\\\x_3^2\\end{pmatrix}$$"
   ]
  },
  {
   "cell_type": "markdown",
   "id": "a81e854a",
   "metadata": {},
   "source": [
    "We then have these vectors and their magnitudes defined by the vertices:"
   ]
  },
  {
   "cell_type": "markdown",
   "id": "6efae137",
   "metadata": {},
   "source": [
    "$$\\vec{r_{21}}=\\begin{pmatrix}x_2^1 \\\\ 0\\end{pmatrix}$$\n",
    "$$\\vec{r_{31}}=\\begin{pmatrix}x_3^1 \\\\ x_3^2\\end{pmatrix}$$\n",
    "$$\\vec{r_{32}}=\\begin{pmatrix}x_3^1-x_2^1 \\\\ x_3^2\\end{pmatrix}$$"
   ]
  },
  {
   "cell_type": "markdown",
   "id": "44ac8c36",
   "metadata": {},
   "source": [
    "The separations are the magnitudes of the vectors, and summing and squaring them yields:"
   ]
  },
  {
   "cell_type": "markdown",
   "id": "6c8a0e4d",
   "metadata": {},
   "source": [
    "$$\\left(\\sqrt{\\left(x_2^1\\right)^2}+\\sqrt{\\left(x_3^1\\right)^2+\\left(x_3^2\\right)^2}+\\sqrt{\\left(x_3^1-x_2^1\\right)^2+\\left(x_3^2\\right)^2}\\right)^2=$$"
   ]
  },
  {
   "cell_type": "markdown",
   "id": "85168444",
   "metadata": {},
   "source": [
    "$$\\left(x_2^1+\\sqrt{\\left(x_3^1\\right)^2+\\left(x_3^2\\right)^2}+\\sqrt{\\left(x_3^1-x_2^1\\right)^2+\\left(x_3^2\\right)^2}\\right)^2$$"
   ]
  },
  {
   "cell_type": "markdown",
   "id": "db808a1d",
   "metadata": {},
   "source": [
    "For convenience, let's call $x_2^1=a$, $\\sqrt{\\left(x_3^1\\right)^2+\\left(x_3^2\\right)^2}=b$, and $\\sqrt{\\left(x_3^1-x_2^1\\right)^2+\\left(x_3^2\\right)^2}=c$."
   ]
  },
  {
   "cell_type": "markdown",
   "id": "37e4cb77",
   "metadata": {},
   "source": [
    "$$\\left(x_2^1+\\sqrt{\\left(x_3^1\\right)^2+\\left(x_3^2\\right)^2}+\\sqrt{\\left(x_3^1-x_2^1\\right)^2+\\left(x_3^2\\right)^2}\\right)^2=\\left(a+b+c\\right)^2$$"
   ]
  },
  {
   "cell_type": "markdown",
   "id": "36f7105b",
   "metadata": {},
   "source": [
    "Let the area formula scale with the previous expression:"
   ]
  },
  {
   "cell_type": "markdown",
   "id": "f1ed526d",
   "metadata": {},
   "source": [
    "$$A=k\\left(a+b+c\\right)^2$$"
   ]
  },
  {
   "cell_type": "markdown",
   "id": "b1d8a2ac",
   "metadata": {},
   "source": [
    "$$A=k\\left(a^2+b^2+c^2+2ab+2ac+2bc\\right)$$"
   ]
  },
  {
   "cell_type": "markdown",
   "id": "afd69006",
   "metadata": {},
   "source": [
    "$$2bc=2\\left(\\sqrt{\\left(\\left(x_3^1\\right)^2+\\left(x_3^2\\right)^2\\right)\\left(\\left(x_3^1-x_2^1\\right)^2+\\left(x_3^2\\right)^2\\right)}\\right)=$$"
   ]
  },
  {
   "cell_type": "markdown",
   "id": "3bb70790",
   "metadata": {},
   "source": [
    "$$2\\sqrt{\\left(\\left(x_3^1\\right)^2+\\left(x_3^2\\right)^2\\right)\\left(\\left(x_3^1\\right)^2-2x_3^1x_2^1+\\left(x_2^1\\right)^2+\\left(x_3^2\\right)^2\\right)}=$$"
   ]
  },
  {
   "cell_type": "markdown",
   "id": "0fc04d5c",
   "metadata": {},
   "source": [
    "$$2\\sqrt{\\left(x_3^1\\right)^4-2\\left(x_3^1\\right)^3x_2^1+\\left(x_3^1\\right)^2\\left(x_2^1\\right)^2+\\left(x_3^1\\right)^2\\left(x_3^2\\right)^2+\\left(x_3^1\\right)^2\\left(x_3^2\\right)^2-2x_3^1x_2^1\\left(x_3^2\\right)^2+\\left(x_3^2\\right)^2\\left(x_2^1\\right)^2+\\left(x_3^2\\right)^4}=$$"
   ]
  },
  {
   "cell_type": "markdown",
   "id": "5b288089",
   "metadata": {},
   "source": [
    "$$2\\sqrt{\\left(x_3^1\\right)^4-2\\left(x_3^1\\right)^3x_2^1+\\left(x_3^1\\right)^2\\left(x_2^1\\right)^2+2\\left(x_3^1\\right)^2\\left(x_3^2\\right)^2-2x_3^1x_2^1\\left(x_3^2\\right)^2+\\left(x_3^2\\right)^2\\left(x_2^1\\right)^2+\\left(x_3^2\\right)^4}$$"
   ]
  },
  {
   "cell_type": "markdown",
   "id": "5e160f56",
   "metadata": {},
   "source": [
    "$$A=k\\left(\\left(x_2^1\\right)^2+\\left(x_3^1\\right)^2+\\left(x_3^2\\right)^2+\\left(x_3^1-x_2^1\\right)^2+\\left(x_3^2\\right)^2+2\\left(x_2^1\\sqrt{\\left(x_3^1\\right)^2+\\left(x_3^2\\right)^2}\\right)+2\\left(x_2^1\\sqrt{\\left(x_3^1-x_2^1\\right)^2+\\left(x_3^2\\right)^2}\\right)+2\\sqrt{\\left(x_3^1\\right)^4-2\\left(x_3^1\\right)^3x_2^1+\\left(x_3^1\\right)^2\\left(x_2^1\\right)^2+2\\left(x_3^1\\right)^2\\left(x_3^2\\right)^2-2x_3^1x_2^1\\left(x_3^2\\right)^2+\\left(x_3^2\\right)^2\\left(x_2^1\\right)^2+\\left(x_3^2\\right)^4}\\right)$$"
   ]
  },
  {
   "cell_type": "markdown",
   "id": "a1a12486",
   "metadata": {},
   "source": [
    "Well, that looks really nasty. Let's try something else."
   ]
  },
  {
   "cell_type": "markdown",
   "id": "ecf9b65b",
   "metadata": {},
   "source": [
    "Let's suppose the requirement is this instead:\n",
    "\n",
    "$$A=k\\left(a^2+b^2+c^2\\right)$$"
   ]
  },
  {
   "cell_type": "markdown",
   "id": "11c1cf33",
   "metadata": {},
   "source": [
    "$$A=k\\left(\\left(x_2^1\\right)^2+\\left(x_3^1\\right)^2+\\left(x_3^2\\right)^2+\\left(x_3^1-x_2^1\\right)^2+\\left(x_3^2\\right)^2\\right)=$$"
   ]
  },
  {
   "cell_type": "markdown",
   "id": "069bdfbb",
   "metadata": {},
   "source": [
    "$$k\\left(2\\left(x_2^1\\right)^2+2\\left(x_3^1\\right)^2+2\\left(x_3^2\\right)^2-2x_3^1x_2^1\\right)$$"
   ]
  },
  {
   "cell_type": "markdown",
   "id": "3a91cab4",
   "metadata": {},
   "source": [
    "Now we need $A=A'=R(d\\theta)A$. Let $R(d\\theta)=\\begin{pmatrix}1 & d\\theta \\\\ -d\\theta & 1\\end{pmatrix}$. Every superscript 1 coordinate will transform using the top row of $R(d\\theta)$ and every superscript 2 with transform using the bottom row."
   ]
  },
  {
   "cell_type": "markdown",
   "id": "02925e3c",
   "metadata": {},
   "source": [
    "$$k\\left(2\\left(x_2^1\\right)^2+2\\left(x_3^1\\right)^2+2\\left(x_3^2\\right)^2-2x_3^1x_2^1\\right)=$$"
   ]
  },
  {
   "cell_type": "markdown",
   "id": "902381fa",
   "metadata": {},
   "source": [
    "$$k\\left(2\\left(x_2^1+d\\theta\\cdot0\\right)^2+2\\left(x_3^1+d\\theta x_3^2\\right)^2+2\\left(-d\\theta x_3^1+x_3^2\\right)^2-2\\left(x_3^1+d\\theta x_3^2\\right)\\left(x_2^1+d\\theta x_2^2\\right)\\right)=$$"
   ]
  },
  {
   "cell_type": "markdown",
   "id": "6ed8ae44",
   "metadata": {},
   "source": [
    "$$k\\left(2\\left(x_2^1\\right)^2+2\\left(x_3^1\\right)^2+4d\\theta x_3^1x_3^2+2d\\theta^2\\left(x_3^2\\right)^2+2d\\theta^2\\left(x_3^1\\right)^2-4d\\theta x_3^1x_3^2+2\\left(x_3^2\\right)^2-2x_3^1x_2^1-2x_3^1d\\theta x_2^2-2d\\theta x_3^2x_2^1-2d\\theta^2x_3^2x_2^2\\right)\\approx$$"
   ]
  },
  {
   "cell_type": "markdown",
   "id": "af9f3ef4",
   "metadata": {},
   "source": [
    "$$k\\left(2\\left(x_2^1\\right)^2+2\\left(x_3^1\\right)^2+2\\left(x_3^2\\right)^2-2x_3^1x_2^1\\right)$$"
   ]
  },
  {
   "cell_type": "markdown",
   "id": "c813c241",
   "metadata": {},
   "source": [
    "If we include only the leading order of $\\theta$, the formula is invariant with respect to rotation."
   ]
  },
  {
   "cell_type": "markdown",
   "id": "d2cfede5",
   "metadata": {},
   "source": [
    "Let's formulate \"the square of the separation between the three vertices\" like so (we'll use the vertices $(a_1,b_1)$, $(a_2,b_2)$, and $(a_3,b_3)$):"
   ]
  },
  {
   "cell_type": "markdown",
   "id": "d10866c2",
   "metadata": {},
   "source": [
    "$$\\left(a_2-a_1\\right)^2+\\left(b_2-b_1\\right)^2+\\left(a_3-a_1\\right)^2+\\left(b_3-b_1\\right)^2+\\left(a_3-a_2\\right)^2+\\left(b_3-b_2\\right)^2=$$"
   ]
  },
  {
   "cell_type": "markdown",
   "id": "d9128729",
   "metadata": {},
   "source": [
    "$$a_2^2-2a_1a_2+a_1^2+b_2^2-2b_1b_2+b_1^2+a_3^2-2a_1a_3+a_1^2+b_3^2-2b_1b_3+b_1^2+a_3^2-2a_2a_3+a_2^2+b_3^2-2b_2b_3+b_2^2=$$"
   ]
  },
  {
   "cell_type": "markdown",
   "id": "250ea42f",
   "metadata": {},
   "source": [
    "$$2\\left(a_1^2+a_2^2+a_3^2+b_1^2+b_2^2+b_3^2-a_1a_2-a_1a_3-a_2a_3-b_1b_2-b_1b_3-b_2b_3\\right)$$"
   ]
  },
  {
   "cell_type": "markdown",
   "id": "aaef63d0",
   "metadata": {},
   "source": [
    "The above is no different than what's come before."
   ]
  },
  {
   "cell_type": "markdown",
   "id": "41db1fa3",
   "metadata": {},
   "source": [
    "Let's try the distance formula again, but with simpler vertices. This time let's not make the vectors $\\vec{r}_{ij}$ out of them:"
   ]
  },
  {
   "cell_type": "markdown",
   "id": "1d076918",
   "metadata": {},
   "source": [
    "$$v_1=\\begin{pmatrix}0\\\\0\\end{pmatrix}$$\n",
    "$$v_2=\\begin{pmatrix}x_2^1\\\\0\\end{pmatrix}$$\n",
    "$$v_3=\\begin{pmatrix}x_3^1\\\\x_3^2\\end{pmatrix}$$"
   ]
  },
  {
   "cell_type": "markdown",
   "id": "2bb1aaf8",
   "metadata": {},
   "source": [
    "The square of the sum of their magnitudes, $M$, is then:"
   ]
  },
  {
   "cell_type": "markdown",
   "id": "f736882a",
   "metadata": {},
   "source": [
    "$$M=\\left(x_2^1+\\sqrt{\\left(x_3^1\\right)^2+\\left(x_3^2\\right)^2}\\right)^2=$$"
   ]
  },
  {
   "cell_type": "markdown",
   "id": "a86c6a01",
   "metadata": {},
   "source": [
    "$$\\left(x_2^1\\right)^2+2x_2^1\\sqrt{\\left(x_3^1\\right)^2+\\left(x_3^2\\right)^2}+\\left(x_3^1\\right)^2+\\left(x_3^2\\right)^2=$$"
   ]
  },
  {
   "cell_type": "markdown",
   "id": "9f991489",
   "metadata": {},
   "source": [
    "$$\\left|v_2\\right|^2+2\\left|v_2\\right|\\left|v_3\\right|+\\left|v_3\\right|^2$$"
   ]
  },
  {
   "cell_type": "markdown",
   "id": "2500fb2c",
   "metadata": {},
   "source": [
    "$v_1=(a_1,b_1)$, $v_2=(a_2,b_2)$, $v_3=(a_3,b_3)$"
   ]
  },
  {
   "cell_type": "markdown",
   "id": "1be766b7",
   "metadata": {},
   "source": [
    "The shortest distance, $d$, from a point, $(a_3,b_3)$, and a line defined by two points, $(a_1,b_1)$ and $(a_2,b_2)$, is:"
   ]
  },
  {
   "cell_type": "markdown",
   "id": "ffe4bcb7",
   "metadata": {},
   "source": [
    "$$d=\\frac{\\left|\\left(a_2-a_1\\right)\\left(b_1-b_3\\right)-\\left(a_1-a_3\\right)\\left(b_2-b_1\\right)\\right|}{\\sqrt{\\left(a_2-a_1\\right)^2+\\left(b_2-b_1\\right)^2}}$$"
   ]
  },
  {
   "cell_type": "markdown",
   "id": "74b90d76",
   "metadata": {},
   "source": [
    "The length of the line from $v_2$ to $v_1$ is $\\sqrt{\\left(a_2-a_1\\right)^2+\\left(b_2-b_1\\right)^2}$."
   ]
  },
  {
   "cell_type": "markdown",
   "id": "02696949",
   "metadata": {},
   "source": [
    "The square of the separation of the vertices could arguably be their product:"
   ]
  },
  {
   "cell_type": "markdown",
   "id": "b4a2a5ed",
   "metadata": {},
   "source": [
    "$$\\left|\\left(a_2-a_1\\right)\\left(b_1-b_3\\right)-\\left(a_1-a_3\\right)\\left(b_2-b_1\\right)\\right|$$"
   ]
  },
  {
   "cell_type": "markdown",
   "id": "22d98125",
   "metadata": {},
   "source": [
    "Let $\\left(a_2-a_1\\right)\\left(b_1-b_3\\right)>\\left(a_1-a_3\\right)\\left(b_2-b_1\\right)$, then:"
   ]
  },
  {
   "cell_type": "markdown",
   "id": "4e18ec0c",
   "metadata": {},
   "source": [
    "$$\\left|\\left(a_2-a_1\\right)\\left(b_1-b_3\\right)-\\left(a_1-a_3\\right)\\left(b_2-b_1\\right)\\right|=\\left(a_2-a_1\\right)\\left(b_1-b_3\\right)-\\left(a_1-a_3\\right)\\left(b_2-b_1\\right)$$"
   ]
  },
  {
   "cell_type": "markdown",
   "id": "b82dc5ea",
   "metadata": {},
   "source": [
    "If the area must be proportional to the above expression, then we have:"
   ]
  },
  {
   "cell_type": "markdown",
   "id": "c0bcce8c",
   "metadata": {},
   "source": [
    "$$A=k\\left(\\left(a_2-a_1\\right)\\left(b_1-b_3\\right)-\\left(a_1-a_3\\right)\\left(b_2-b_1\\right)\\right)$$"
   ]
  },
  {
   "cell_type": "markdown",
   "id": "d6cbc3b6",
   "metadata": {},
   "source": [
    "$$A'=R(\\theta)A=\\\\k\\left(\\left(\\left(a_2\\cos\\theta+b_2\\sin\\theta\\right)-\\left(a_1\\cos\\theta+b_1\\sin\\theta\\right)\\right)\\left(\\left(-a_1\\sin\\theta+b_1\\cos\\theta\\right)-\\left(-a_3\\sin\\theta+b_3\\cos\\theta\\right)\\right)-\\left(\\left(a_1\\cos\\theta+b_1\\sin\\theta\\right)-\\left(a_3\\cos\\theta+b_3\\sin\\theta\\right)\\right)\\left(\\left(-a_2\\sin\\theta+b_2\\cos\\theta\\right)-\\left(-a_1\\sin\\theta+b_1\\cos\\theta\\right)\\right)\\right)=$$"
   ]
  },
  {
   "cell_type": "markdown",
   "id": "ea1970c4",
   "metadata": {},
   "source": [
    "$$k\\left(\\left(\\left(a_2-a_1\\right)\\cos\\theta+\\left(b_2-b_1\\right)\\sin\\theta\\right)\\left(\\left(a_3-a_1\\right)\\sin\\theta+\\left(b_1-b_3\\right)\\cos\\theta\\right)-\\left(\\left(a_1-a_3\\right)\\cos\\theta+\\left(b_1-b_3\\right)\\sin\\theta\\right)\\left(\\left(a_1-a_2\\right)\\sin\\theta+\\left(b_2-b_1\\right)\\cos\\theta\\right)\\right)=$$"
   ]
  },
  {
   "cell_type": "markdown",
   "id": "1f439a43",
   "metadata": {},
   "source": [
    "$$k\\left(\\left(a_2-a_1\\right)\\left(a_3-a_1\\right)\\cos\\theta\\sin\\theta+\\left(b_2-b_1\\right)\\left(a_3-a_1\\right)\\sin^2\\theta+\\left(a_2-a_1\\right)\\left(b_1-b_3\\right)\\cos^2\\theta+\\left(b_2-b_1\\right)\\left(b_1-b_3\\right)\\sin\\theta\\cos\\theta-\\left(\\left(a_1-a_3\\right)\\left(a_1-a_2\\right)\\cos\\theta\\sin\\theta+\\left(a_1-a_3\\right)\\left(b_2-b_1\\right)\\cos^2\\theta+\\left(b_1-b_3\\right)\\left(a_1-a_2\\right)\\sin^2\\theta+\\left(b_1-b_3\\right)\\left(b_2-b_1\\right)\\sin\\theta\\cos\\theta\\right)\\right)=$$"
   ]
  },
  {
   "cell_type": "markdown",
   "id": "bc655487",
   "metadata": {},
   "source": [
    "$$k\\left(\\left(a_2-a_1\\right)\\left(a_3-a_1\\right)\\cos\\theta\\sin\\theta+\\left(b_2-b_1\\right)\\left(a_3-a_1\\right)\\sin^2\\theta+\\left(a_2-a_1\\right)\\left(b_1-b_3\\right)\\cos^2\\theta+\\left(b_2-b_1\\right)\\left(b_1-b_3\\right)\\sin\\theta\\cos\\theta-\\left(a_3-a_1\\right)\\left(a_2-a_1\\right)\\cos\\theta\\sin\\theta+\\left(a_3-a_1\\right)\\left(b_2-b_1\\right)\\cos^2\\theta+\\left(b_1-b_3\\right)\\left(a_2-a_1\\right)\\sin^2\\theta-\\left(b_1-b_3\\right)\\left(b_2-b_1\\right)\\sin\\theta\\cos\\theta\\right)=$$"
   ]
  },
  {
   "cell_type": "markdown",
   "id": "9341e5bb",
   "metadata": {},
   "source": [
    "$$k\\left(\\left(a_3-a_1\\right)\\left(b_2-b_1\\right)\\left(\\sin^2\\theta+\\cos^2\\theta\\right)+\\left(a_2-a_1\\right)\\left(b_1-b_3\\right)\\left(\\cos^2\\theta+\\sin^2\\theta)\\right)\\right)=$$"
   ]
  },
  {
   "cell_type": "markdown",
   "id": "5a4d2abf",
   "metadata": {},
   "source": [
    "$$k\\left(\\left(a_3-a_1\\right)\\left(b_2-b_1\\right)+\\left(a_2-a_1\\right)\\left(b_1-b_3\\right)\\right)=A$$"
   ]
  },
  {
   "cell_type": "markdown",
   "id": "a99996b6",
   "metadata": {},
   "source": [
    "Huh, even if I feed this thing the base times the height, I can't get $k=\\frac{1}{2}$. I'm giving up."
   ]
  },
  {
   "cell_type": "markdown",
   "id": "3ff8eee5",
   "metadata": {},
   "source": [
    "# Exercises"
   ]
  },
  {
   "cell_type": "markdown",
   "id": "668c10af",
   "metadata": {},
   "source": [
    "#### 1)\n",
    "\n",
    "> Suppose we are given two vectors $\\vec{p}$ and $\\vec{q}$ in ordinary 3-dimensional space. Consider this array of three numbers: $\\begin{pmatrix}p^2q^3 \\\\ p^3q^1 \\\\ p^1q^2\\end{pmatrix}$. Prove that it is not a vector, even through it looks like a vector. (Check how it transforms under rotation!) In contrast, $\\begin{pmatrix}p^2q^3-p^3q^2 \\\\ p^3q^1-p^1q^3 \\\\ p^1q^2-p^2q1\\end{pmatrix}$ does transform like a vector. It is in fact the vector cross product $\\vec{p}\\times\\vec{q}$"
   ]
  },
  {
   "cell_type": "markdown",
   "id": "f2dda803",
   "metadata": {},
   "source": [
    "I did not understand how to \"check\" how a column of numbers would transform under rotation until I saw the answer to this exercise in the solution manual included in this repository. Apparently, each element of the vectors $\\vec{p}$ and $\\vec{q}$ would transform under rotations as the coordinate axes for those vectors rotated. The only way of applying a transformation that I was familiar with is demonstrated as the second method below. First, let's show how $\\begin{pmatrix}p^2q^3 \\\\ p^3q^1 \\\\ p^1q^2\\end{pmatrix}$ transforms under rotation."
   ]
  },
  {
   "cell_type": "markdown",
   "id": "ea31a3f2",
   "metadata": {},
   "source": [
    "Let's select a rotation in the $12$-plane since it seems that we can pick any rotation for this problem. The rotation matrix is:"
   ]
  },
  {
   "cell_type": "markdown",
   "id": "a788a940",
   "metadata": {},
   "source": [
    "$$R(\\theta)_{12}=\\begin{pmatrix}\\cos\\theta & -\\sin\\theta & 0 \\\\ \\sin\\theta & \\cos\\theta & 0 \\\\ 0 & 0 & 1\\end{pmatrix}$$"
   ]
  },
  {
   "cell_type": "markdown",
   "id": "357de415",
   "metadata": {},
   "source": [
    "$$\\vec{p}'=\\begin{pmatrix} p'^1 \\\\ p'^2 \\\\ p'^3 \\end{pmatrix}=R(\\theta)_{12}\\vec{p}=\\begin{pmatrix}\\cos\\theta & -\\sin\\theta & 0 \\\\ \\sin\\theta & \\cos\\theta & 0 \\\\ 0 & 0 & 1\\end{pmatrix}\\begin{pmatrix}p^1 \\\\ p^2 \\\\ p^3\\end{pmatrix}=$$"
   ]
  },
  {
   "cell_type": "markdown",
   "id": "10cdbfcd",
   "metadata": {},
   "source": [
    "$$\\begin{pmatrix} p'^1 \\\\ p'^2 \\\\ p'^3 \\end{pmatrix}=\\begin{pmatrix}p^1\\cos\\theta-p^2\\sin\\theta \\\\ p^1\\sin\\theta+p^2\\cos\\theta \\\\ p^3\\end{pmatrix}$$"
   ]
  },
  {
   "cell_type": "markdown",
   "id": "e4df477a",
   "metadata": {},
   "source": [
    "Similary for $\\vec{q}$:"
   ]
  },
  {
   "cell_type": "markdown",
   "id": "bcfe2bbd",
   "metadata": {},
   "source": [
    "$$\\begin{pmatrix} q'^1 \\\\ q'^2 \\\\ q'^3 \\end{pmatrix}=\\begin{pmatrix}q^1\\cos\\theta-q^2\\sin\\theta \\\\ q^1\\sin\\theta+q^2\\cos\\theta \\\\ q^3\\end{pmatrix}$$"
   ]
  },
  {
   "cell_type": "markdown",
   "id": "72582bc7",
   "metadata": {},
   "source": [
    "$$\\begin{pmatrix}p^2q^3 \\\\ p^3q^1 \\\\ p^1q^2\\end{pmatrix}=\\begin{pmatrix}\\left(p^1\\sin\\theta+p^2\\cos\\theta\\right)\\left(q^3\\right) \\\\ p^3\\left(q^1\\cos\\theta-q^2\\sin\\theta\\right) \\\\ \\left(p^1\\cos\\theta-p^2\\sin\\theta\\right)\\left(q^1\\sin\\theta+q^2\\cos\\theta\\right)\\end{pmatrix}$$"
   ]
  },
  {
   "cell_type": "markdown",
   "id": "c23751db",
   "metadata": {},
   "source": [
    "If the column were a vector it should have transformed as:"
   ]
  },
  {
   "cell_type": "markdown",
   "id": "b45dbaa5",
   "metadata": {},
   "source": [
    "$$\\begin{pmatrix}p^2q^3 \\\\  p^3q^1 \\\\ p^1q^2\\end{pmatrix}'=\\begin{pmatrix}p^2q^3\\cos\\theta -p^1q^1\\sin\\theta \\\\ p^2q^3\\sin\\theta+p^3q^1\\cos\\theta \\\\ p^1q^2\\end{pmatrix}$$"
   ]
  },
  {
   "cell_type": "markdown",
   "id": "df36a6e4",
   "metadata": {},
   "source": [
    "The two are not equivalent and so $\\begin{pmatrix}p^2q^3 \\\\ p^3q^1 \\\\ p^1q^2\\end{pmatrix}$ is not a vector."
   ]
  },
  {
   "cell_type": "markdown",
   "id": "c1d47491",
   "metadata": {},
   "source": [
    "Now let's see if the magic works out for $\\begin{pmatrix}p^2q^3-p^3q^2 \\\\ p^3q^1-p^1q^3 \\\\ p^1q^2-p^2q1\\end{pmatrix}$."
   ]
  },
  {
   "cell_type": "markdown",
   "id": "56900d3a",
   "metadata": {},
   "source": [
    "$$\\begin{pmatrix}p^2q^3-p^3q^2 \\\\ p^3q^1-p^1q^3 \\\\ p^1q^2-p^2q1\\end{pmatrix}'=\\begin{pmatrix}\\left(p^1\\sin\\theta+p^2\\cos\\theta\\right)\\left(q^3\\right)-\\left(p^3\\right)\\left(q^1\\sin\\theta+q^2\\cos\\theta\\right) \\\\ \\left(p^3\\right)\\left(q^1\\cos\\theta-q^2\\sin\\theta\\right)-\\left(p^1\\cos\\theta-p^2\\sin\\theta\\right)\\left(q^3\\right) \\\\ \\left(p^1\\cos\\theta-p^2\\sin\\theta\\right)\\left(q^1\\sin\\theta+q^2\\cos\\theta\\right)-\\left(p^1\\sin\\theta+p^2\\cos\\theta\\right)\\left(q^1\\cos\\theta-q^2\\sin\\theta\\right)\\end{pmatrix}=$$"
   ]
  },
  {
   "cell_type": "markdown",
   "id": "15e8e731",
   "metadata": {},
   "source": [
    "$$\\begin{pmatrix}\\left(p^2q^3-p^3q^2\\right)\\cos\\theta-\\left(p^3q^1-p^1q^3\\right)\\sin\\theta \\\\ \\left(p^2q^3-p^3q^2\\right)\\sin\\theta+\\left(p^3q^1-p^1q^3\\right)\\cos\\theta \\\\ p^1q^1\\cos\\theta\\sin\\theta+p^1q^2\\cos^2\\theta-p^2q^1\\sin^2\\theta-p^2q^2\\sin\\theta\\cos\\theta-\\left(p^1q^1\\sin\\theta\\cos\\theta-p^1q^2\\sin^2\\theta+p^2q^1\\cos^2\\theta-p^2q^2\\cos\\theta\\sin\\theta\\right) \\end{pmatrix}=$$"
   ]
  },
  {
   "cell_type": "markdown",
   "id": "36b10d3f",
   "metadata": {},
   "source": [
    "$$\\begin{pmatrix}\\left(p^2q^3-p^3q^2\\right)\\cos\\theta-\\left(p^3q^1-p^1q^3\\right)\\sin\\theta \\\\ \\left(p^2q^3-p^3q^2\\right)\\sin\\theta+\\left(p^3q^1-p^1q^3\\right)\\cos\\theta \\\\ p^1q^2\\left(\\cos^2\\theta+\\sin^2\\theta\\right)-p^2q^1\\left(\\sin^2\\theta+\\cos^2\\theta\\right) \\end{pmatrix}=\\begin{pmatrix}\\left(p^2q^3-p^3q^2\\right)\\cos\\theta-\\left(p^3q^1-p^1q^3\\right)\\sin\\theta \\\\ \\left(p^2q^3-p^3q^2\\right)\\sin\\theta+\\left(p^3q^1-p^1q^3\\right)\\cos\\theta \\\\ p^1q^2-p^2q^1 \\end{pmatrix}=$$"
   ]
  },
  {
   "cell_type": "markdown",
   "id": "b2e35533",
   "metadata": {},
   "source": [
    "$$\\begin{pmatrix}\\cos\\theta & -\\sin\\theta & 0 \\\\ \\sin\\theta & \\cos\\theta & 0 \\\\ 0 & 0 & 1\\end{pmatrix}\\begin{pmatrix}p^2q^3-p^3q^2 \\\\ p^3q^1-p^1q^3 \\\\ p^1q^2-p^2q^1\\end{pmatrix}$$"
   ]
  },
  {
   "cell_type": "markdown",
   "id": "547fc9e8",
   "metadata": {},
   "source": [
    "So, yes, the cross product of two vectors transforms like a vector and is therefore a vector. Note that the cross product is not a linear combination of the vector elements. Zee's definition of transforming like a vector is the definition of a vector and it has nothing to do with linear combinations of elements as some online solutions may assert."
   ]
  },
  {
   "cell_type": "markdown",
   "id": "67329509",
   "metadata": {},
   "source": [
    "#### 2)\n",
    "\n",
    "> Show that the product of two delta functions $\\delta(x)\\delta(y)$ is invariant under rotation around the origin."
   ]
  },
  {
   "cell_type": "markdown",
   "id": "2d2e1548",
   "metadata": {},
   "source": [
    "I couldn't get this one other than to say that the delta function picks out the value of the function at the origin. When the delta functions are applied to the constant function that equals 1, then we have a three-dimensional surface that is 0 at all points $(x,y)$ other than $(0,0)$ where it is 1. This surface is invariant to rotation in the $xy$-plane. I think my argument amounts to the same argument that is presented as the informal answer in the back of the book."
   ]
  },
  {
   "cell_type": "markdown",
   "id": "a5ddf235",
   "metadata": {},
   "source": [
    "I don't understand the formal answer in the back of the book. Zee justifies this equality:"
   ]
  },
  {
   "cell_type": "markdown",
   "id": "0fc991e3",
   "metadata": {},
   "source": [
    "$$\\delta(x\\cos\\theta+y\\sin\\theta)\\delta(-x\\sin\\theta+y\\cos\\theta)=\\delta(x\\cos\\theta+y\\sin\\theta)\\delta(-x\\sin\\theta-x\\frac{\\cos^2\\theta}{\\sin\\theta})$$"
   ]
  },
  {
   "cell_type": "markdown",
   "id": "f290d85e",
   "metadata": {},
   "source": [
    "by stating that \"the first delta function forces $y=-x\\frac{\\cos\\theta}{\\sin\\theta}$\". I have no clue why the argument to a delta function must be zero. In fact, I am almost certain that the argument to a delta function need not be zero, but I don't know where I'm misinterpreting the text."
   ]
  },
  {
   "cell_type": "markdown",
   "id": "3a5e0e77",
   "metadata": {},
   "source": [
    "Zee also asserts this equality:"
   ]
  },
  {
   "cell_type": "markdown",
   "id": "e849ecf5",
   "metadata": {},
   "source": [
    "\n",
    "$$\\delta(x\\cos\\theta+y\\sin\\theta)\\delta\\left(x\\frac{1}{\\sin\\theta}\\right)=\\delta(y\\sin\\theta)\\left(x\\frac{1}{\\sin\\theta}\\right)$$"
   ]
  },
  {
   "cell_type": "markdown",
   "id": "52032997",
   "metadata": {},
   "source": [
    "Again, I have no idea how to justify that $x\\cos\\theta=0$."
   ]
  },
  {
   "cell_type": "markdown",
   "id": "6388a3aa",
   "metadata": {},
   "source": [
    "I found [this interesting answer on the web](https://math.stackexchange.com/questions/1425974/show-that-the-product-of-two-delta-functions-%CE%B4x%CE%B4y-is-invariant-under-rotatio), and I'll walk through my understanding of it."
   ]
  },
  {
   "cell_type": "markdown",
   "id": "539cb77d",
   "metadata": {},
   "source": [
    "First, here's a definition of the delta functions:"
   ]
  },
  {
   "cell_type": "markdown",
   "id": "b666116b",
   "metadata": {},
   "source": [
    "$$\\int_{-\\infty}^\\infty\\int_{-\\infty}^\\infty\\phi(x,y)\\delta(x)\\delta(y)dxdy=\\phi(0,0)$$"
   ]
  },
  {
   "cell_type": "markdown",
   "id": "0b066f9b",
   "metadata": {},
   "source": [
    "And for $\\phi(x,y)=1$, we have:"
   ]
  },
  {
   "cell_type": "markdown",
   "id": "c0886e9d",
   "metadata": {},
   "source": [
    "$$\\int_{-\\infty}^\\infty\\int_{-\\infty}^\\infty\\delta(x)\\delta(y)dxdy=1$$"
   ]
  },
  {
   "cell_type": "markdown",
   "id": "e92368f3",
   "metadata": {},
   "source": [
    "Just having that presented plainly and clearly to me was valuable."
   ]
  },
  {
   "cell_type": "markdown",
   "id": "aede9c1a",
   "metadata": {},
   "source": [
    "The rotation matrix we'll use is:"
   ]
  },
  {
   "cell_type": "markdown",
   "id": "36d08a41",
   "metadata": {},
   "source": [
    "$$R(\\theta)=\\begin{pmatrix}\\cos\\theta & -\\sin\\theta \\\\ \\sin\\theta & \\cos\\theta\\end{pmatrix}$$"
   ]
  },
  {
   "cell_type": "markdown",
   "id": "01988497",
   "metadata": {},
   "source": [
    "And applying it to $\\begin{pmatrix}x \\\\ y\\end{pmatrix}$ yields:"
   ]
  },
  {
   "cell_type": "markdown",
   "id": "77d871cc",
   "metadata": {},
   "source": [
    "$$\\begin{pmatrix}x\\cos\\theta - y\\sin\\theta \\\\ x\\sin\\theta + y\\cos\\theta\\end{pmatrix}=\\begin{pmatrix}\\cos\\theta & -\\sin\\theta \\\\ \\sin\\theta & \\cos\\theta\\end{pmatrix}\\begin{pmatrix}x \\\\ y\\end{pmatrix}$$"
   ]
  },
  {
   "cell_type": "markdown",
   "id": "c95a5943",
   "metadata": {},
   "source": [
    "Let $c=\\cos\\theta$ and $s=y\\sin\\theta$,\n",
    "\n",
    "$$\\begin{pmatrix}x' \\\\ y'\\end{pmatrix}=\\begin{pmatrix}cx-sy \\\\ sx+cy\\end{pmatrix}$$"
   ]
  },
  {
   "cell_type": "markdown",
   "id": "12d55d16",
   "metadata": {},
   "source": [
    "Our task is now to verify that:\n",
    "\n",
    "$$\\int_{-\\infty}^\\infty\\int_{-\\infty}^\\infty\\delta(cx-sy)\\delta(sx+cy)dxdy=1$$"
   ]
  },
  {
   "cell_type": "markdown",
   "id": "f1491a63",
   "metadata": {},
   "source": [
    "So let's try a change of variable. Let $\\xi=cx-sy$ and $\\eta=sx+cy$."
   ]
  },
  {
   "cell_type": "markdown",
   "id": "792f8016",
   "metadata": {},
   "source": [
    "$$\\int_{-\\infty}^\\infty\\int_{-\\infty}^\\infty\\delta(\\xi)\\delta(\\eta)dxdy=1$$"
   ]
  },
  {
   "cell_type": "markdown",
   "id": "afce10f2",
   "metadata": {},
   "source": [
    "Now we need $dx$ and $dy$ in terms of $d\\xi$ and $d\\eta$. Let's see if we can solve these two equations for $x$ and $y$ in terms of $\\xi$ and $\\eta$. The determinant of the Jacobian relates the volumes of the differentials of two coordinate systems. The Jacobian matrix, $J$, is:"
   ]
  },
  {
   "cell_type": "markdown",
   "id": "f9cf910d",
   "metadata": {},
   "source": [
    "$$J=\\begin{pmatrix}\\frac{\\partial\\xi}{\\partial x} & \\frac{\\partial\\xi}{\\partial y} \\\\ \\frac{\\partial\\eta}{\\partial x} & \\frac{\\partial\\eta}{\\partial y}\\end{pmatrix}$$"
   ]
  },
  {
   "cell_type": "markdown",
   "id": "6f47b77d",
   "metadata": {},
   "source": [
    "For each of the elements we have:"
   ]
  },
  {
   "cell_type": "markdown",
   "id": "1bc9ccc8",
   "metadata": {},
   "source": [
    "$$\\frac{\\partial\\xi}{\\partial x}=c \\\\ \\frac{\\partial\\xi}{\\partial y}=-s \\\\ \\frac{\\partial\\eta}{\\partial x}=s \\\\ \\frac{\\partial\\eta}{\\partial y}=c$$"
   ]
  },
  {
   "cell_type": "markdown",
   "id": "a4cf6455",
   "metadata": {},
   "source": [
    "The Jacobian then becomes:\n",
    "\n",
    "$$J=\\begin{pmatrix}c & -s \\\\ s & c\\end{pmatrix}=R(\\theta)$$"
   ]
  },
  {
   "cell_type": "markdown",
   "id": "10ffbef8",
   "metadata": {},
   "source": [
    "Finally, the $\\det(J)=1$ as $\\cos^2\\theta+\\sin^2\\theta=1$. That means that $dxdy=d\\xi d\\eta$."
   ]
  },
  {
   "cell_type": "markdown",
   "id": "83798c8a",
   "metadata": {},
   "source": [
    "$$\\int_{-\\infty}^\\infty\\int_{-\\infty}^\\infty\\delta(\\xi)\\delta(\\eta)d\\xi d\\eta$$"
   ]
  },
  {
   "cell_type": "markdown",
   "id": "2e581f80",
   "metadata": {},
   "source": [
    "The above expression is identical to:"
   ]
  },
  {
   "cell_type": "markdown",
   "id": "cdb70cec",
   "metadata": {},
   "source": [
    "$$\\int_{-\\infty}^\\infty\\int_{-\\infty}^\\infty\\delta(x)\\delta(y)dxdy$$"
   ]
  },
  {
   "cell_type": "markdown",
   "id": "d485e03e",
   "metadata": {},
   "source": [
    "Except that the variable names have changed. They are identical and the product of the dirac delta functions is invariant to rotation within the plane defined by their axes."
   ]
  },
  {
   "cell_type": "markdown",
   "id": "e9492cc3",
   "metadata": {},
   "source": [
    "#### 3)\n",
    "\n",
    "> Using Equation (14) show that a rotation around the $x$-axis through angle $\\theta_x$ is given by:\n",
    ">\n",
    "> $$R_x(\\theta_x)=\\begin{pmatrix}1 & 0 & 0 \\\\ 0 & \\cos\\theta_x & \\sin\\theta_x \\\\ 0 & -\\sin\\theta_x & \\cos\\theta_x\\end{pmatrix}$$\n",
    ">\n",
    "> Write down $R_y(\\theta_y)$. Show explicitly that $R_x(\\theta_x)R_y(\\theta_y)\\ne R_y(\\theta_y)R_x(\\theta_x)$."
   ]
  },
  {
   "cell_type": "markdown",
   "id": "fb2fb23d",
   "metadata": {},
   "source": [
    "From Equation (14) we have:\n",
    "\n",
    "$$\\mathcal{J}_x=\\begin{pmatrix}0 & 0 & 0 \\\\ 0 & 0 & 1 \\\\ 0 & -1 & 0\\end{pmatrix}$$"
   ]
  },
  {
   "cell_type": "markdown",
   "id": "db7c389d",
   "metadata": {},
   "source": [
    "We can use the generator $\\mathcal{J}_x$ and an infinitesimal rotation to show that the rotation matrix, $R_x(d\\theta_x)$ is:"
   ]
  },
  {
   "cell_type": "markdown",
   "id": "7b0257ba",
   "metadata": {},
   "source": [
    "$$R_x(d\\theta_x)=I+d\\theta_x\\mathcal{J}_x=\\begin{pmatrix}1 & 0 & 0 \\\\ 0 & 1 & d\\theta_x \\\\ 0 & -d\\theta_x & 1\\end{pmatrix}$$"
   ]
  },
  {
   "cell_type": "markdown",
   "id": "8c976526",
   "metadata": {},
   "source": [
    "The rotation through a finite angle, $\\theta_x$, is given by applying the infinitesimal rotation a large number of times:"
   ]
  },
  {
   "cell_type": "markdown",
   "id": "53428a07",
   "metadata": {},
   "source": [
    "$$R_x(\\theta_x)=\\lim_{N\\rightarrow\\infty}R\\left(I+\\frac{\\theta_x\\mathcal{J}_x}{N}\\right)^N=e^{\\theta_x\\mathcal{J}_x}$$"
   ]
  },
  {
   "cell_type": "markdown",
   "id": "3f36b15e",
   "metadata": {},
   "source": [
    "The expression $e^{\\theta_x\\mathcal{J}_x}$ evaluates to be:"
   ]
  },
  {
   "cell_type": "markdown",
   "id": "7e28eadb",
   "metadata": {},
   "source": [
    "$$e^{\\theta_x\\mathcal{J}_x}=\\sum_{n=0}^\\infty\\frac{\\theta_x^n\\mathcal{J}_x^n}{n!}$$"
   ]
  },
  {
   "cell_type": "markdown",
   "id": "12d441a3",
   "metadata": {},
   "source": [
    "We will use:"
   ]
  },
  {
   "cell_type": "markdown",
   "id": "73197ca8",
   "metadata": {},
   "source": [
    "$$\\mathcal{J}_x^2=\\begin{pmatrix}0&0&0\\\\0&0&1\\\\0&-1&0\\end{pmatrix}\\begin{pmatrix}0&0&0\\\\0&0&1\\\\0&-1&0\\end{pmatrix}=\\begin{pmatrix}0&0&0\\\\0&-1&0\\\\0&0&-1\\end{pmatrix}=-I_x$$"
   ]
  },
  {
   "cell_type": "markdown",
   "id": "87efb6b3",
   "metadata": {},
   "source": [
    "$$\\sum_{n=0}^\\infty\\frac{\\theta_x^n\\mathcal{J}_x^n}{n!}=\\frac{\\theta_x^0\\mathcal{J}_x^0}{0!}+\\sum_{k=1}^\\infty(-1)^k\\frac{\\theta_x^{2k}}{(2k)!}I_x+\\sum_{k=0}^\\infty(-1)^k\\frac{\\theta_x^{2k+1}}{(2k+1)!}\\mathcal{J}_x$$"
   ]
  },
  {
   "cell_type": "markdown",
   "id": "953e75a6",
   "metadata": {},
   "source": [
    "Next we recognize the $\\frac{\\theta_x^0\\mathcal{J}_x^0}{0!}=I$ and we separate $I$ into $I_1$ and $I_x$ where:\n",
    "\n",
    "$$I_1=\\begin{pmatrix}1&0&0\\\\0&0&0\\\\0&0&0\\end{pmatrix}$$\n",
    "\n",
    "such that $I=I_1+I_x$."
   ]
  },
  {
   "cell_type": "markdown",
   "id": "1cc41cb3",
   "metadata": {},
   "source": [
    "$$\\sum_{n=0}^\\infty\\frac{\\theta_x^n\\mathcal{J}_x^n}{n!}=I_1+I_x+\\sum_{k=1}^\\infty(-1)^k\\frac{\\theta_x^{2k}}{(2k)!}I_x+\\sum_{k=0}^\\infty(-1)^k\\frac{\\theta_x^{2k+1}}{(2k+1)!}\\mathcal{J}_x$$"
   ]
  },
  {
   "cell_type": "markdown",
   "id": "02b9f6b0",
   "metadata": {},
   "source": [
    "Next we lump $I_x$ into the first summation to obtain:"
   ]
  },
  {
   "cell_type": "markdown",
   "id": "4a43c320",
   "metadata": {},
   "source": [
    "$$\\sum_{n=0}^\\infty\\frac{\\theta_x^n\\mathcal{J}_x^n}{n!}=I_1+\\sum_{k=0}^\\infty(-1)^k\\frac{\\theta_x^{2k}}{(2k)!}I_x+\\sum_{k=0}^\\infty(-1)^k\\frac{\\theta_x^{2k+1}}{(2k+1)!}\\mathcal{J}_x=$$"
   ]
  },
  {
   "cell_type": "markdown",
   "id": "7984a90a",
   "metadata": {},
   "source": [
    "$$I_1+\\cos\\theta_xI_x+\\sin\\theta_x\\mathcal{J}_x=$$"
   ]
  },
  {
   "cell_type": "markdown",
   "id": "1b49cc29",
   "metadata": {},
   "source": [
    "$$\\begin{pmatrix}1&0&0\\\\0&\\cos\\theta_x&\\sin\\theta_x\\\\0&-\\sin\\theta_x&\\cos\\theta_x\\end{pmatrix}$$"
   ]
  },
  {
   "cell_type": "markdown",
   "id": "5cfb9ff8",
   "metadata": {},
   "source": [
    "Note that the answer booklet seems to have gotten this one a bit wrong, or at least I don't understand the answer."
   ]
  },
  {
   "cell_type": "markdown",
   "id": "c71b126d",
   "metadata": {},
   "source": [
    "I think I can write $R_y(\\theta_y)$ as:\n",
    "\n",
    "$$R_y(\\theta_y)=\\begin{pmatrix}\\cos\\theta_y&0&\\sin\\theta_y\\\\0&1&0\\\\-\\sin\\theta_y&0&\\cos\\theta_y\\end{pmatrix}$$"
   ]
  },
  {
   "cell_type": "markdown",
   "id": "f8085413",
   "metadata": {},
   "source": [
    "$$R_x(\\theta_x)R_y(\\theta_y)=\\begin{pmatrix}1&0&0\\\\0&\\cos\\theta_x&\\sin\\theta_x\\\\0&-\\sin\\theta_x&\\cos\\theta_x\\end{pmatrix}\\begin{pmatrix}\\cos\\theta_y&0&\\sin\\theta_y\\\\0&1&0\\\\-\\sin\\theta_y&0&\\cos\\theta_y\\end{pmatrix}=$$"
   ]
  },
  {
   "cell_type": "markdown",
   "id": "10dcd51f",
   "metadata": {},
   "source": [
    "$$\\begin{pmatrix}\\cos\\theta_y&0&\\sin\\theta_y\\\\-\\sin\\theta_x\\sin\\theta_y&\\cos\\theta_x&\\sin\\theta_x\\cos\\theta_y\\\\-\\cos\\theta_x\\sin\\theta_y&-\\sin\\theta_x&\\cos\\theta_x\\cos\\theta_y\\end{pmatrix}$$"
   ]
  },
  {
   "cell_type": "markdown",
   "id": "6a31b96b",
   "metadata": {},
   "source": [
    "$$R_y(\\theta_y)R_x(\\theta_x)=\\begin{pmatrix}\\cos\\theta_y&0&\\sin\\theta_y\\\\0&1&0\\\\-\\sin\\theta_y&0&\\cos\\theta_y\\end{pmatrix}\\begin{pmatrix}1&0&0\\\\0&\\cos\\theta_x&\\sin\\theta_x\\\\0&-\\sin\\theta_x&\\cos\\theta_x\\end{pmatrix}=$$"
   ]
  },
  {
   "cell_type": "markdown",
   "id": "698fe01a",
   "metadata": {},
   "source": [
    "$$\\begin{pmatrix}\\cos\\theta_y&-\\sin\\theta_x\\sin\\theta_y&\\cos\\theta_x\\sin\\theta_y\\\\0&\\cos\\theta_x&\\sin\\theta_x\\\\-\\sin\\theta_y&-\\sin\\theta_x\\cos\\theta_y&\\cos\\theta_x\\cos\\theta_y\\end{pmatrix}$$"
   ]
  },
  {
   "cell_type": "markdown",
   "id": "4bf37354",
   "metadata": {},
   "source": [
    "The two resulting matrices are not equivalent for the general case of $0\\ge\\theta_x,\\theta_y>2\\pi$."
   ]
  },
  {
   "cell_type": "markdown",
   "id": "4524152b",
   "metadata": {},
   "source": [
    "#### 4)\n",
    "\n",
    "> Calculate $[J_{(mn)},J_{(pq)}]$."
   ]
  },
  {
   "cell_type": "markdown",
   "id": "397b98c4",
   "metadata": {},
   "source": [
    "From Equation (19) we have:\n",
    "\n",
    "$$J_{(mn)}^{ij}=-i(\\delta^{mi}\\delta^{nj}-\\delta^{mj}\\delta^{ni})$$"
   ]
  },
  {
   "cell_type": "markdown",
   "id": "def03782",
   "metadata": {},
   "source": [
    "That is, the element in the $i$th row and $j$the column of the matrix $J_{(mn)}$ is the above expression."
   ]
  },
  {
   "cell_type": "markdown",
   "id": "8521a346",
   "metadata": {},
   "source": [
    "The commutator operator is $[A,B]=AB-BA$. So, let's figure out how to use the above notation to get a whole row and column of elements and multiply them together to get an element of the matrix product, then repeat for every element. Let's do that for $J_{(mn)}$ and $J_{(pq)}$ and then take the difference and see what we get. Hopefully, it's the result from Equation (24):\n",
    "\n",
    "$$[J_{(mn)},J_{(pq)}]=i(\\delta_{mp}J_{nq}+\\delta_{nq}J_{mp}-\\delta_{np}J_{mq}-\\delta_{mq}J_{np})$$"
   ]
  },
  {
   "cell_type": "markdown",
   "id": "cef78745",
   "metadata": {},
   "source": [
    "I don't beleive it makes a difference whether the indexes for the Kronecker delta are superscripted or subscripted. However, concerning the indexes on $J$, supercripts refer to an element and subscripts refer to the generator for rotation in the indicated plane."
   ]
  },
  {
   "cell_type": "markdown",
   "id": "7238c889",
   "metadata": {},
   "source": [
    "The $i$th row of $J_{(mn)}$ is given by the series:\n",
    "\n",
    "$$\\vec{u}=-i(\\delta_{mi}\\delta_{nj}-\\delta_{mj}\\delta_{ni}) \\, \\forall \\, j={0 \\ldots D}$$"
   ]
  },
  {
   "cell_type": "markdown",
   "id": "c7379d05",
   "metadata": {},
   "source": [
    "The $j$th column of $J_{(pq)}$ is given by the series:\n",
    "\n",
    "$$\\vec{v}=-i(\\delta_{pi}\\delta_{qj}-\\delta_{pj}\\delta_{qi}) \\, \\forall \\, i={0 \\ldots D}$$"
   ]
  },
  {
   "cell_type": "markdown",
   "id": "29c4aacf",
   "metadata": {},
   "source": [
    "The dot product of the two expressions is the formula for an element of the product $(J_{(mn)}J_{(pq)})^{ij}$. It is computed by:\n",
    "\n",
    "$$\\vec{u}\\cdot\\vec{v}=(J_{(mn)}J_{(pq)})^{ij}=\\sum_{k=0}^D-(\\delta_{mi}\\delta_{nk}-\\delta_{mk}\\delta_{ni})(\\delta_{pk}\\delta_{qj}-\\delta_{pj}\\delta_{qk})$$"
   ]
  },
  {
   "cell_type": "markdown",
   "id": "b9cb1fd0",
   "metadata": {},
   "source": [
    "$$=\\sum_{k=0}^D(-\\delta_{mi}\\delta_{nk}\\delta_{pk}\\delta_{qj}+\\delta_{mi}\\delta_{nk}\\delta_{pj}\\delta_{qk}+\\delta_{mk}\\delta_{ni}\\delta_{pk}\\delta_{qj}-\\delta_{mk}\\delta_{ni}\\delta_{pj}\\delta_{qk})$$"
   ]
  },
  {
   "cell_type": "markdown",
   "id": "6a273064",
   "metadata": {},
   "source": [
    "$$=\\sum_{k=0}^D(\\delta_{mk}\\delta_{ni}\\delta_{pk}\\delta_{qj}+\\delta_{mi}\\delta_{nk}\\delta_{pj}\\delta_{qk}-\\delta_{mk}\\delta_{ni}\\delta_{pj}\\delta_{qk}-\\delta_{mi}\\delta_{nk}\\delta_{pk}\\delta_{qj})$$"
   ]
  },
  {
   "cell_type": "markdown",
   "id": "3f3fe027",
   "metadata": {},
   "source": [
    "For the term $\\delta_{mk}\\delta_{ni}\\delta_{pk}\\delta_{pj}\\ne0$, the following must be true: $m=k=p$, $n=i$, and $q=j$. For each term we have:\n",
    "\n",
    "$$\n",
    "\\delta_{mk}\\delta_{ni}\\delta_{pk}\\delta_{qj}=1 \\text{ iff } m=k=p \\text{, } n=i \\text{, and } q=j \\\\\n",
    "\\delta_{mi}\\delta_{nk}\\delta_{pj}\\delta_{qk}=1 \\text{ iff } m=i \\text{, } n=k=q \\text{, and } p=j \\\\\n",
    "\\delta_{mk}\\delta_{ni}\\delta_{pj}\\delta_{qk}=1 \\text{ iff } m=k=q \\text{, } n=i \\text{, and } p=j \\\\\n",
    "\\delta_{mi}\\delta_{nk}\\delta_{pk}\\delta_{qj}=1 \\text{ iff } m=i \\text{, } n=k=p \\text{, and } q=j \\\\\n",
    "$$"
   ]
  },
  {
   "cell_type": "markdown",
   "id": "6f489abe",
   "metadata": {},
   "source": [
    "These equalities state that the two matrixes in the commutator, $J_{(mn)}$ and $J_{(pq)}$, must have an integer in common among their indexes or the product $J_{(mn)}J_{(pq)}$ vanishes. One of these four relationships must be true or else all the terms in the sum are 0:\n",
    "\n",
    "$$\n",
    "n=k=p \\rightarrow n=p \\\\\n",
    "n=k=q \\rightarrow n=q \\\\\n",
    "m=k=p \\rightarrow m=p \\\\\n",
    "m=k=q \\rightarrow m=q\n",
    "$$"
   ]
  },
  {
   "cell_type": "markdown",
   "id": "1d600324",
   "metadata": {},
   "source": [
    "A similar argument holds for the product $J_{(pq)}J_{(mn)}$, and so the commutator vanishes unless at least one one of the four equalities hold."
   ]
  },
  {
   "cell_type": "markdown",
   "id": "99f67286",
   "metadata": {},
   "source": [
    "At most, two pairs of indexes may be equal to each other, either $m=p$ and $n=q$ or $m=q$ and $n=p$.The index $m$ may not equal $n$, and similarly $p\\ne q$; the indexes must be different to define a plane for rotation. This restriction prevents three indexes or all the indexes from having the same value too.\n",
    "\n",
    "If we have an instance where two pairs of indexes are identical then we have the case where the product is $J_{(mn)}J_{(mn)}$ or $J_{(mn)}J_{(nm)}$. \n",
    "\n",
    "For $J_{(mn)}J_{(mn)}$, $m=p$ and $n=q$, and the summation for $(J_{(mn)}J_{(pq)})^{ij}$ produces zeroes unless $i=j$. When $i=j$, two values produce terms that are unity: when $i=j=m$ and when $i=j=n$. The square of $J_{(mn)}$ has all zero elements except for the the diagonal elements of the $m$th and $n$th rows, which is exactly what we expect. We have previously seen in Equation (9) and Exercise 3) how the $\\mathcal{J}$ generators for rotation in 2-dimensional space produce $-I$ when squared and in 3-dimensional space produce $-I_{(mn)}$. Now that we've added an $i$ factor to each $\\mathcal{J}$ to get $J_{(mn)}$, squaring $J_{(mn)}$ also squares the $i$ factor and changes the sign to produce $I_{(mn)}$ instead. Furthermore, the commutator vanishes, as expected. Swapping the order of multiplication when squaring a matrix does nothing to change the result and so $J_{(mn)}J_{(mn)}-J_{(mn)}J_{(mn)}=I-I=0$.\n",
    "\n",
    "For $J_{(mn)}J_{(nm)}$, $m=q$ and $n=p$, and the summation for $(J_{(mn)}J_{(pq)})^{ij}$ produces zeroes unless $i=j$. If $i=j$, then we have the same circumstance as the previous paragraph except the signs of the matrix elements have changed from positive to negative. This means that $J_{(mn)}J_{(nm)}=-I_{(mn)}$ instead of $I_{(mn)}$. The result found here implies that $J_{(nm)}=-J_{(mn)}$: $J_{(mn)}J_{(nm)}=J_{(mn)}(-J_{(mn)})=-I_{(mn)}$. $J_{(nm)}=-J_{(mn)}$ is true and stated in Zee's text."
   ]
  },
  {
   "cell_type": "markdown",
   "id": "e9879ab3",
   "metadata": {},
   "source": [
    "All of the previous states that the commutator vanishes unless the indexes have one and only one index in common, and that means that one and only one of the terms in the summation for $(J_{(mn)}J_{(pq)})^{ij}$ equals unity:\n",
    "\n",
    "$$\n",
    "\\delta_{mk}\\delta_{ni}\\delta_{pk}\\delta_{qj}=1 \\text{ iff } m=k=p \\text{, } n=i \\text{, and } q=j \\\\\n",
    "\\delta_{mi}\\delta_{nk}\\delta_{pj}\\delta_{qk}=1 \\text{ iff } m=i \\text{, } n=k=q \\text{, and } p=j \\\\\n",
    "\\delta_{mk}\\delta_{ni}\\delta_{pj}\\delta_{qk}=1 \\text{ iff } m=k=q \\text{, } n=i \\text{, and } p=j \\\\\n",
    "\\delta_{mi}\\delta_{nk}\\delta_{pk}\\delta_{qj}=1 \\text{ iff } m=i \\text{, } n=k=p \\text{, and } q=j \\\\\n",
    "$$"
   ]
  },
  {
   "cell_type": "markdown",
   "id": "c9e05f1a",
   "metadata": {},
   "source": [
    "If $m=p$, then the element in the $n$th row and $q$th column is 1 and all other elements are zero. That's the first term in the commutator. The second term, $J_{(pq)}J_{(mn)}$, still has $m=p$, and now the element in the $q$th row and $n$th column is 1. Subtracting the second term from the first gives $\\mathcal{J}_{(nq)}$. Factoring 1 into $i$ and $-i$ allows $\\mathcal{J}_{(nq)}$ to be written as $iJ_{(nq)}$."
   ]
  },
  {
   "cell_type": "markdown",
   "id": "49fcd783",
   "metadata": {},
   "source": [
    "Similarly for $n=q$, we obtain $iJ_{(mp)}$. For $m=q$, we get $-iJ_{(np)}$, and for $n=p$ we get $i-J_{mq}$. We can then summarize all the commutator results like so:"
   ]
  },
  {
   "cell_type": "markdown",
   "id": "24479fd7",
   "metadata": {},
   "source": [
    "$$[J_{(mn)},J_{(pq)}]=i(\\delta_{mp}J_{nq}+\\delta_{nq}J_{mp}-\\delta_{np}J_{mq}-\\delta_{mq}J_{np})$$"
   ]
  },
  {
   "cell_type": "markdown",
   "id": "b59d0151",
   "metadata": {},
   "source": [
    "If $m=p$ and $n=q$ or $m=q$ and $n=p$, then we obtain $i(J_{(nn)}+J_{(mm)})$ and a $J$ with identical indices is a zero matrix, that is, the commutator vanished. For examples with three or four indexes in common, the commutator with the zero matrix is zero. Finally, the above expression neatly summarizes the obtained results for when the two generators share one index in common."
   ]
  },
  {
   "cell_type": "markdown",
   "id": "c675e7cf",
   "metadata": {},
   "source": [
    "#### 5)\n",
    "\n",
    "> Given a 3-vector $\\vec{p}$, show that the quantity $\\vec{p}^i\\vec{p}^j$ when averaged over the direction of $\\vec{p}$ is given by $\\frac{1}{4\\pi}\\int d\\theta d\\phi \\cos\\theta\\vec{p}^i\\vec{p}^j=\\frac{1}{3}\\vec{p}^2\\delta^{ij}$."
   ]
  },
  {
   "cell_type": "markdown",
   "id": "e5077ff8",
   "metadata": {},
   "source": [
    "I didn't understand this problem statement initially. The quantity $\\vec{p}^i\\vec{p}^j$ means the product of any two components of the 3-vector $\\vec{p}$. This implies computing the product of 6 pairs of components. We don't need to compute nine because multiplication commutes. The phrase \"averaged over the direction of $\\vec{p}$\" means averaged over all possible angles in 3-dimensional space because $\\vec{p}$ can point in any direction. The right-hand side of the final expression means that the off-diagonal elements of the matrix defined by the products of $\\vec{p}^i$ and $\\vec{p}^j$ are zero and the on-diagonal elements are $\\frac{1}{3}\\vec{p}^2$. The left-hand side of the expression is confusing to me. I expect the integral over all angles to be defined by the solid angle $d\\Omega$, which is $d\\Omega=\\sin\\theta d\\theta d\\phi$, but the left-hand side of the final expression uses $\\cos\\theta$ instead of $\\sin\\theta$. I checked [the errata page for the book](https://www.kitp.ucsb.edu/zee/books/einstein-gravity/errata-and-addenda-einstein-gravity). This page isn't listed."
   ]
  },
  {
   "cell_type": "markdown",
   "id": "40cf2e22",
   "metadata": {},
   "source": [
    "I did not understand the description of the rotational invariance argument from the back of the book:\n",
    "\n",
    "> We could either perform the integral after writing down the components of $\\vec{p}$ explicitly, or argue by rotational invariance that the integral must be proportional to $\\delta^{ij}$. The proportionality constant could be then determined by contracting with $\\delta^{ij}$ (using the repeated index summation convention)."
   ]
  },
  {
   "cell_type": "markdown",
   "id": "9088c2ba",
   "metadata": {},
   "source": [
    "I don't understand what this means: \"determined by contracting with $\\delta^{ij}$ (using the repeated index summation convention).\""
   ]
  },
  {
   "cell_type": "markdown",
   "id": "a4547725",
   "metadata": {},
   "source": [
    "I think I could make a different rotaional invariance argument. The area of the projection of $\\vec{p}$ onto the $i,j$-plane defined by $\\vec{p}^i\\vec{p}^j$ is the sine of the projection multiplied by its cosine. As the projection of $\\vec{p}$ sweeps through the angles from 0 to $\\frac{\\pi}{2}$, there is some positive contribution to the integration of all the areas. As the projection of $\\vec{p}$ sweeps through the angles from $\\frac{\\pi}{2}$ to $\\pi$, an equal negative contribution to the integral occurs. Similarly, the contributions to the integration cancel for the angles from $\\pi$ to $2\\pi$. The off-diagonal elements $\\vec{p}^i\\vec{p}^j$ yield zero contribution to the integration over all angles. The on-diagonal elements contribute positively to the integral in proportion to $\\left(\\vec{p}^i\\right)^2$. I prefer to think of this next step in terms of the isotropy of the vector permitted to point in any direction: no spatial component of the vector is preferred over another and so the components must contribute to the magnitude of the vector equally, that is, $\\vec{p}^2=(\\vec{p}^i)^2+(\\vec{p}^j)^2+(\\vec{p}^k)^2$ and $\\vec{p}^i=\\vec{p}^j=\\vec{p}^k$, which implies $\\left(\\vec{p}^i\\right)^2=\\frac{1}{3}\\vec{p}^2$. Putting all the restults together using the Kronecker delta gives $\\langle \\vec{p}^i\\vec{p}^j\\rangle=\\frac{1}{3}\\vec{p}^2\\delta^{ij}$."
   ]
  },
  {
   "cell_type": "markdown",
   "id": "4387cfbd",
   "metadata": {},
   "source": [
    "Let's do the integration since there's some confusion regarding using sine or cosine for the solid angle $d\\Omega$."
   ]
  },
  {
   "cell_type": "markdown",
   "id": "c00cebe2",
   "metadata": {},
   "source": [
    "$$\n",
    "\\vec{p}^1=\\left|p\\right|\\sin\\theta \\cos\\phi \\\\\n",
    "\\vec{p}^2=\\left|p\\right|\\sin\\theta \\sin\\phi \\\\\n",
    "\\vec{p}^3=\\left|p\\right|\\cos\\theta\n",
    "$$"
   ]
  },
  {
   "cell_type": "markdown",
   "id": "84878ed2",
   "metadata": {},
   "source": [
    "The products of the components are:"
   ]
  },
  {
   "cell_type": "markdown",
   "id": "dfbcf0d0",
   "metadata": {},
   "source": [
    "$$\n",
    "\\begin{align}\n",
    "\\vec{p}^1\\vec{p}^1&=p^2\\sin^2\\theta\\cos^2\\theta \\\\\n",
    "\\vec{p}^1\\vec{p}^2&=p^2\\sin^2\\theta\\sin\\phi\\cos\\phi \\\\\n",
    "\\vec{p}^1\\vec{p}^3&=p^2\\sin\\theta\\cos\\theta\\cos\\phi \\\\\n",
    "\\vec{p}^2\\vec{p}^2&=p^2\\sin^2\\theta\\sin^2\\phi \\\\\n",
    "\\vec{p}^2\\vec{p}^3&=p^2\\sin\\theta\\cos\\theta\\sin\\phi \\\\\n",
    "\\vec{p}^3\\vec{p}^3&=p^2\\cos^2\\theta\n",
    "\\end{align}\n",
    "$$"
   ]
  },
  {
   "cell_type": "markdown",
   "id": "cfe3a932",
   "metadata": {},
   "source": [
    "Integrating $\\vec{p}^1\\vec{p}^1$ gives:\n",
    "\n",
    "$$\\frac{1}{4\\pi}\\int_0^{2\\pi}\\int_0^\\pi p^2\\sin^2\\theta\\cos^2\\phi\\sin\\theta d\\theta d\\phi=$$"
   ]
  },
  {
   "cell_type": "markdown",
   "id": "85e0481a",
   "metadata": {},
   "source": [
    "$$\\frac{p^2}{4\\pi}\\int_0^{2\\pi}\\int_0^\\pi \\sin^3\\theta d\\theta \\cos^2\\phi d\\phi$$"
   ]
  },
  {
   "cell_type": "markdown",
   "id": "77d4ad9f",
   "metadata": {},
   "source": [
    "The $\\int_0^\\pi\\sin^3\\theta d\\theta = \\frac{4}{3}$."
   ]
  },
  {
   "cell_type": "markdown",
   "id": "41f07829",
   "metadata": {},
   "source": [
    "$$\\frac{p^2}{4\\pi}\\int_0^{2\\pi}\\int_0^\\pi \\sin^3\\theta d\\theta \\cos^2\\phi d\\phi=$$"
   ]
  },
  {
   "cell_type": "markdown",
   "id": "cca5e998",
   "metadata": {},
   "source": [
    "$$\\frac{p^2}{4\\pi}\\int_0^{2\\pi}\\frac{4}{3} \\cos^2\\phi d\\phi=$$"
   ]
  },
  {
   "cell_type": "markdown",
   "id": "e2a0e3e5",
   "metadata": {},
   "source": [
    "$$\\frac{p^2}{3\\pi}\\int_0^{2\\pi}\\cos^2\\phi d\\phi$$"
   ]
  },
  {
   "cell_type": "markdown",
   "id": "211883e8",
   "metadata": {},
   "source": [
    "The $\\int_0^{2\\pi}\\cos^2\\phi d\\phi=\\pi$."
   ]
  },
  {
   "cell_type": "markdown",
   "id": "afd91f65",
   "metadata": {},
   "source": [
    "$$\\frac{p^2}{3\\pi}\\int_0^{2\\pi}\\cos^2\\phi d\\phi=$$"
   ]
  },
  {
   "cell_type": "markdown",
   "id": "8490e158",
   "metadata": {},
   "source": [
    "$$\\frac{p^2}{3\\pi}\\pi=\\frac{1}{3}p^2$$"
   ]
  },
  {
   "cell_type": "markdown",
   "id": "d5e04e12",
   "metadata": {},
   "source": [
    "Next product: $\\vec{p}^1\\vec{p}^2$:\n",
    "\n",
    "$$\\frac{1}{4\\pi}\\int_0^{2\\pi}\\int_0^\\pi p^2\\sin^2\\theta\\sin\\phi\\cos\\phi\\sin\\theta d\\theta d\\phi=$$"
   ]
  },
  {
   "cell_type": "markdown",
   "id": "a2b773d5",
   "metadata": {},
   "source": [
    "$$\\frac{p^2}{4\\pi}\\int_0^{2\\pi}\\int_0^\\pi \\sin^3\\theta d\\theta\\sin\\phi\\cos\\phi d\\phi=$$"
   ]
  },
  {
   "cell_type": "markdown",
   "id": "7431bc1e",
   "metadata": {},
   "source": [
    "$$\\frac{p^2}{4\\pi}\\int_0^{2\\pi}\\frac{4}{3} \\sin\\phi\\cos\\phi d\\phi=$$"
   ]
  },
  {
   "cell_type": "markdown",
   "id": "c41b2196",
   "metadata": {},
   "source": [
    "$$\\frac{p^2}{3\\pi}\\int_0^{2\\pi}\\sin\\phi\\cos\\phi d\\phi=$$"
   ]
  },
  {
   "cell_type": "markdown",
   "id": "b1f43619",
   "metadata": {},
   "source": [
    "The $\\int_0^{2\\pi}\\sin\\phi\\cos\\phi d\\phi=0$."
   ]
  },
  {
   "cell_type": "markdown",
   "id": "a66d5669",
   "metadata": {},
   "source": [
    "$$\\frac{p^2}{3\\pi}\\int_0^{2\\pi}\\sin\\phi\\cos\\phi d\\phi=$$"
   ]
  },
  {
   "cell_type": "markdown",
   "id": "f0f2718b",
   "metadata": {},
   "source": [
    "$$\\frac{p^2}{3\\pi}\\cdot 0=0$$"
   ]
  },
  {
   "cell_type": "markdown",
   "id": "0bba8ffb",
   "metadata": {},
   "source": [
    "Next product: $\\vec{p}^1\\vec{p}^3$:"
   ]
  },
  {
   "cell_type": "markdown",
   "id": "dee6cf58",
   "metadata": {},
   "source": [
    "$$\\frac{1}{4\\pi}\\int_0^{2\\pi}\\int_0^\\pi p^2\\sin\\theta\\cos\\theta\\cos\\phi\\sin\\theta d\\theta d\\phi=$$"
   ]
  },
  {
   "cell_type": "markdown",
   "id": "d2e056b1",
   "metadata": {},
   "source": [
    "$$\\frac{p^2}{4\\pi}\\int_0^{2\\pi}\\int_0^\\pi \\sin^2\\theta\\cos\\theta d\\theta\\cos\\phi d\\phi$$"
   ]
  },
  {
   "cell_type": "markdown",
   "id": "6448aa83",
   "metadata": {},
   "source": [
    "The $\\int_0^\\pi\\sin^2\\theta\\cos\\theta d\\theta=0$."
   ]
  },
  {
   "cell_type": "markdown",
   "id": "a680a935",
   "metadata": {},
   "source": [
    "$$\\frac{p^2}{4\\pi}\\int_0^{2\\pi}\\int_0^\\pi \\sin^2\\theta\\cos\\theta d\\theta\\cos\\phi d\\phi=$$"
   ]
  },
  {
   "cell_type": "markdown",
   "id": "0815788c",
   "metadata": {},
   "source": [
    "$$\\frac{p^2}{4\\pi}\\int_0^{2\\pi}0\\cdot\\cos\\phi d\\phi=0$$"
   ]
  },
  {
   "cell_type": "markdown",
   "id": "4bcd37e1",
   "metadata": {},
   "source": [
    "Next product: $\\vec{p}^2\\vec{p}^2$:"
   ]
  },
  {
   "cell_type": "markdown",
   "id": "24aaae1f",
   "metadata": {},
   "source": [
    "$$\\frac{1}{4\\pi}\\int_0^{2\\pi}\\int_0^\\pi p^2\\sin^2\\theta\\sin^2\\phi\\sin\\theta d\\theta d\\phi=$$"
   ]
  },
  {
   "cell_type": "markdown",
   "id": "aafe0775",
   "metadata": {},
   "source": [
    "$$\\frac{p^2}{4\\pi}\\int_0^{2\\pi}\\int_0^\\pi \\sin^3\\theta d\\theta\\sin^2\\phi d\\phi=$$"
   ]
  },
  {
   "cell_type": "markdown",
   "id": "7b1cbe18",
   "metadata": {},
   "source": [
    "$$\\frac{p^2}{4\\pi}\\int_0^{2\\pi}\\frac{4}{3}\\sin^2\\phi d\\phi=$$"
   ]
  },
  {
   "cell_type": "markdown",
   "id": "77caee71",
   "metadata": {},
   "source": [
    "$$\\frac{p^2}{3\\pi}\\int_0^{2\\pi}\\sin^2\\phi d\\phi$$"
   ]
  },
  {
   "cell_type": "markdown",
   "id": "9989451f",
   "metadata": {},
   "source": [
    "The $\\int_0^{2\\pi}\\sin^2\\phi d\\phi=\\pi$."
   ]
  },
  {
   "cell_type": "markdown",
   "id": "2cb46315",
   "metadata": {},
   "source": [
    "$$\\frac{p^2}{3\\pi}\\int_0^{2\\pi}\\sin^2\\phi d\\phi=$$"
   ]
  },
  {
   "cell_type": "markdown",
   "id": "a8fbea0d",
   "metadata": {},
   "source": [
    "$$\\frac{p^2}{3\\pi}\\pi=\\frac{1}{3}p^2$$"
   ]
  },
  {
   "cell_type": "markdown",
   "id": "58ce962c",
   "metadata": {},
   "source": [
    "Next product: $\\vec{p}^2\\vec{p}^3$:"
   ]
  },
  {
   "cell_type": "markdown",
   "id": "b79870e9",
   "metadata": {},
   "source": [
    "$$\\frac{1}{4\\pi}\\int_0^{2\\pi}\\int_0^\\pi p^2\\sin\\theta\\cos\\theta\\sin\\phi\\sin\\theta d\\theta d\\phi=$$"
   ]
  },
  {
   "cell_type": "markdown",
   "id": "f7784bd5",
   "metadata": {},
   "source": [
    "$$\\frac{p^2}{4\\pi}\\int_0^{2\\pi}\\int_0^\\pi \\sin^2\\theta\\cos\\theta d\\theta\\sin\\phi d\\phi=$$"
   ]
  },
  {
   "cell_type": "markdown",
   "id": "0229a418",
   "metadata": {},
   "source": [
    "$$\\frac{p^2}{4\\pi}\\int_0^{2\\pi}0\\cdot\\sin\\phi d\\phi=0$$"
   ]
  },
  {
   "cell_type": "markdown",
   "id": "2ded570d",
   "metadata": {},
   "source": [
    "Last product: $\\vec{p}^3\\vec{p}^3$:"
   ]
  },
  {
   "cell_type": "markdown",
   "id": "18d62eee",
   "metadata": {},
   "source": [
    "$$\\frac{1}{4\\pi}\\int_0^{2\\pi}\\int_0^\\pi p^2\\cos^2\\theta\\sin\\theta d\\theta d\\phi=$$"
   ]
  },
  {
   "cell_type": "markdown",
   "id": "48e89f4d",
   "metadata": {},
   "source": [
    "$$\\frac{p^2}{4\\pi}\\int_0^{2\\pi}\\int_0^\\pi \\cos^2\\theta\\sin\\theta d\\theta d\\phi$$"
   ]
  },
  {
   "cell_type": "markdown",
   "id": "0e212776",
   "metadata": {},
   "source": [
    "The $\\int_0^\\pi\\cos^2\\theta\\sin\\theta d\\theta=\\frac{2}{3}$."
   ]
  },
  {
   "cell_type": "markdown",
   "id": "f127016d",
   "metadata": {},
   "source": [
    "$$\\frac{p^2}{4\\pi}\\int_0^{2\\pi}\\int_0^\\pi \\cos^2\\theta\\sin\\theta d\\theta d\\phi=$$"
   ]
  },
  {
   "cell_type": "markdown",
   "id": "e13cb186",
   "metadata": {},
   "source": [
    "$$\\frac{p^2}{4\\pi}\\int_0^{2\\pi}\\frac{2}{3} d\\phi=$$"
   ]
  },
  {
   "cell_type": "markdown",
   "id": "eeb3ba65",
   "metadata": {},
   "source": [
    "$$\\frac{p^2}{6\\pi}\\int_0^{2\\pi} d\\phi=$$"
   ]
  },
  {
   "cell_type": "markdown",
   "id": "14fc464f",
   "metadata": {},
   "source": [
    "$$\\frac{p^2}{6\\pi}\\cdot 2\\pi=\\frac{1}{3}p^2$$"
   ]
  },
  {
   "cell_type": "markdown",
   "id": "f5f536c5",
   "metadata": {},
   "source": [
    "We can summarize all the results using a Kronecker delta:\n",
    "\n",
    "$$\n",
    "\\langle \\vec{p}^i\\vec{p}^j\\rangle=\\frac{1}{3}p^2\\delta^{ij}\n",
    "$$"
   ]
  }
 ],
 "metadata": {
  "kernelspec": {
   "display_name": "Python 3 (ipykernel)",
   "language": "python",
   "name": "python3"
  },
  "language_info": {
   "codemirror_mode": {
    "name": "ipython",
    "version": 3
   },
   "file_extension": ".py",
   "mimetype": "text/x-python",
   "name": "python",
   "nbconvert_exporter": "python",
   "pygments_lexer": "ipython3",
   "version": "3.11.2"
  }
 },
 "nbformat": 4,
 "nbformat_minor": 5
}
