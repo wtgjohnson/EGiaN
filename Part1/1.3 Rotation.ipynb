{
 "cells": [
  {
   "cell_type": "markdown",
   "id": "86125981",
   "metadata": {},
   "source": [
    "# Chapter 3 Rotation"
   ]
  },
  {
   "cell_type": "markdown",
   "id": "ee8a77eb",
   "metadata": {},
   "source": [
    "## Rotation in the plane"
   ]
  },
  {
   "cell_type": "markdown",
   "id": "a6d8d4bd",
   "metadata": {},
   "source": [
    "Let's verify that $\\sqrt{x'^2+x'y^2}=\\sqrt{x^2+y^2}$."
   ]
  },
  {
   "cell_type": "markdown",
   "id": "bbc7bce6",
   "metadata": {},
   "source": [
    "$$\\sqrt{x'^2+y'^2}=\\sqrt{(x\\cos\\theta+y\\sin\\theta)^2+(-x\\sin\\theta+y\\cos\\theta)}=$$"
   ]
  },
  {
   "cell_type": "markdown",
   "id": "7eba5463",
   "metadata": {},
   "source": [
    "$$\\sqrt{x^2\\cos^2\\theta+2xy\\sin\\theta\\cos\\theta+y^2\\sin^2\\theta+x^2\\sin^2\\theta-2xy\\cos\\theta\\sin\\theta+y^2\\cos^2\\theta}=$$"
   ]
  },
  {
   "cell_type": "markdown",
   "id": "22dafa2f",
   "metadata": {},
   "source": [
    "$$\\sqrt{x^2(\\cos^2\\theta+\\sin^2\\theta)+y^2(\\cos^2\\theta+\\sin^2\\theta)}=$$"
   ]
  },
  {
   "cell_type": "markdown",
   "id": "9fe7c9f3",
   "metadata": {},
   "source": [
    "$$\\sqrt{x^2+y^2}$$"
   ]
  },
  {
   "cell_type": "markdown",
   "id": "0940b101",
   "metadata": {},
   "source": [
    "Zee states that $\\left(\\vec{u}+\\vec{v}\\right)^2=\\vec{u}^2+\\vec{v}^2+2\\vec{u}^T\\cdot\\vec{v}$. Let's verify that."
   ]
  },
  {
   "cell_type": "markdown",
   "id": "fcc9224e",
   "metadata": {},
   "source": [
    "$$\\left(\\vec{u}+\\vec{v}\\right)^2=\\left(\\left(u_1+v_1\\right)^2+\\left(u_2+v_2\\right)^2\\right)=u_1^2+2u_1v_1+v_1^2+u_2^2+2u_2v_2+v_2^2=u_1^2+u_2^2+v_1^2+v_2^2+2\\left(u_1v_1+u_2v_2\\right)$$"
   ]
  },
  {
   "cell_type": "markdown",
   "id": "6dcbb543",
   "metadata": {},
   "source": [
    "$$\\vec{u}^2+\\vec{v}^2+2\\vec{u}^T\\cdot\\vec{v}=u_1^2+u_2^2+v_1^2+v_2^2+2\\left(u_1v_1+u_2v_2\\right)$$"
   ]
  },
  {
   "cell_type": "markdown",
   "id": "17b30c86",
   "metadata": {},
   "source": [
    "The two expressions are equivalent."
   ]
  },
  {
   "cell_type": "markdown",
   "id": "7dea5a11",
   "metadata": {},
   "source": [
    "Zee also has a series of equivalent expressions embedded in the text that is understandable, but I would like to expand it to make it easier for me to understand."
   ]
  },
  {
   "cell_type": "markdown",
   "id": "126af18a",
   "metadata": {},
   "source": [
    "$$\\vec{u}^T\\cdot\\vec{v}=\\vec{u}'^T\\cdot\\vec{v}'=\\left(\\vec{u}^TR^T\\right)\\cdot\\left(R\\vec{v}\\right)=\\vec{u}^T\\cdot\\left(R^TR\\right)\\vec{v}$$"
   ]
  },
  {
   "cell_type": "markdown",
   "id": "499cc791",
   "metadata": {},
   "source": [
    "The first two expressions, $vec{u}^T\\cdot\\vec{v}=\\vec{u}'^T\\cdot\\vec{v}'$, are equivalent because the magnitude of a vector is invariant with respect to rotation, as proven in the previous paragraph."
   ]
  },
  {
   "cell_type": "markdown",
   "id": "6cb8b9a7",
   "metadata": {},
   "source": [
    "The third expression is equivalent to the second because $\\vec{u}'^T=\\vec{u}^TR^T$ which is the transpose of the rotation equation, $\\vec{u}'=R\\vec{u}$. The transpose of the product of two matrices, $A$ and $B$, $\\left(AB\\right)^T=B^TA^T$. Also, $\\vec{v'}=R\\vec{v}$ is just the rotation equation again."
   ]
  },
  {
   "cell_type": "markdown",
   "id": "ae9f5305",
   "metadata": {},
   "source": [
    "Finally, matrix multiplication is associative. Zee has rearranged the parentheses to emphasize that $R^TR$ must be $I$ by comparing the final expression to the first."
   ]
  },
  {
   "cell_type": "markdown",
   "id": "0cebe099",
   "metadata": {},
   "source": [
    "### Act a little bit at a time"
   ]
  },
  {
   "cell_type": "markdown",
   "id": "ff7bceb2",
   "metadata": {},
   "source": [
    "Let's verify that Equation (1) reduces to $x' \\approx x+\\theta y$ and $y'\\approx y-\\theta x$ to leading order in $\\theta$."
   ]
  },
  {
   "cell_type": "markdown",
   "id": "6b145cb8",
   "metadata": {},
   "source": [
    "Equation (1):\n",
    "\n",
    "$$x'=x\\cos\\theta+y\\sin\\theta$$\n",
    "\n",
    "$$y'=-x\\sin\\theta+y\\cos\\theta$$"
   ]
  },
  {
   "cell_type": "markdown",
   "id": "326ed3a6",
   "metadata": {},
   "source": [
    "For infinitesimal $\\theta$, $\\cos\\theta\\approx1$ and $\\sin\\theta\\approx\\theta$. Substituting:"
   ]
  },
  {
   "cell_type": "markdown",
   "id": "b3804bfd",
   "metadata": {},
   "source": [
    "$$x'\\approx x+y\\theta=x+\\theta y$$\n",
    "$$y'\\approx -x\\theta+y=y-\\theta x$$"
   ]
  },
  {
   "cell_type": "markdown",
   "id": "1cace20f",
   "metadata": {},
   "source": [
    "Let's verify that $x'=x+\\theta y$ and $y'=y-\\theta x$ verifies the Pythagorean condition that $x'^2+y'^2=x^2+y^2$."
   ]
  },
  {
   "cell_type": "markdown",
   "id": "039e3b03",
   "metadata": {},
   "source": [
    "$$x'^2=\\left(x+\\theta y\\right)^2=x^2+2\\theta y +\\theta^2y^2\\approx x^2$$"
   ]
  },
  {
   "cell_type": "markdown",
   "id": "bfecdac4",
   "metadata": {},
   "source": [
    "$$y'^2=\\left(y-\\theta x\\right)^2=y^2-2\\theta x+\\theta^2x^2\\approx y^2$$"
   ]
  },
  {
   "cell_type": "markdown",
   "id": "430d03d2",
   "metadata": {},
   "source": [
    "Where approximating to the first order in $\\theta$ has been interpreted to mean including only the terms with the lowest power of $\\theta$. That power is zero and so only the terms $x^2$ and $y^2$ remain."
   ]
  },
  {
   "cell_type": "markdown",
   "id": "3ca6d846",
   "metadata": {},
   "source": [
    "I believe the cryptic comment, \"Or, write $x'=x+\\delta x$, $y'=y+\\delta y$ and solve $x\\delta x+y\\delta y=0$\" is still referring to computing the invariance of the magnitude. Perhaps like so:"
   ]
  },
  {
   "cell_type": "markdown",
   "id": "81f3e73c",
   "metadata": {},
   "source": [
    "$$x'=x+\\delta x$$\n",
    "$$y'=y+\\delta y$$\n",
    "$$x'^2+y'^2=\\left(x+\\delta x\\right)^2+\\left(y+\\delta y\\right)^2=x^2+2x\\delta x+\\delta^2x^2+y^2+2y\\delta y+\\delta^2y^2\\approx$$\n",
    "$$x^2+2x\\delta x+y^2+2y\\delta y$$"
   ]
  },
  {
   "cell_type": "markdown",
   "id": "012bfec9",
   "metadata": {},
   "source": [
    "The above expression equals $x^2+y^2$ only if $2x\\delta x + 2y\\delta y=0$ which implies $x\\delta x+y\\delta y=0$."
   ]
  },
  {
   "cell_type": "markdown",
   "id": "614f7f0d",
   "metadata": {},
   "source": [
    "In the next paragraph, Zee discusses using two points $(0,1)$ and $(1,0)$. He notes that we know for infinitesimal angles, the rotation transforms linearly, so we can obtain the matrix's elements by chosing these points and noting what happens. When we use $(1,0)$, the result after rotating **clockwise** (The rotation matrix given in the text is for a positive angle defined by a clockwise rotation. I'm more familiar with defining a positive angle by a counterclockwise rotation which would imply that the rotation matrix is the transpose of that presented in the text.) by $\\theta$ is $(1,-\\theta)$, implying that left column of the rotation matrix is $(1,-\\theta)$. When we use $(0,1)$, the rotated point is $(\\theta,1)$, implying that the right column is $(\\theta,1)$."
   ]
  },
  {
   "cell_type": "markdown",
   "id": "c6d06703",
   "metadata": {},
   "source": [
    "Zee states that we can prove this identity be differntiating both sides. Let's!"
   ]
  },
  {
   "cell_type": "markdown",
   "id": "35359935",
   "metadata": {},
   "source": [
    "$$e^x=\\lim_{N\\rightarrow \\infty}\\left(1+\\frac{x}{N}\\right)^N$$"
   ]
  },
  {
   "cell_type": "markdown",
   "id": "cb32115f",
   "metadata": {},
   "source": [
    "Differentiating both sides with respect to $x$:"
   ]
  },
  {
   "cell_type": "markdown",
   "id": "b683ec4b",
   "metadata": {},
   "source": [
    "$$\\frac{de^x}{dx}=\\frac{d}{dx}\\left(\\lim_{N\\rightarrow\\infty}\\left(1+\\frac{x}{N}\\right)^N\\right)$$"
   ]
  },
  {
   "cell_type": "markdown",
   "id": "3a31fb83",
   "metadata": {},
   "source": [
    "$$e^x=\\lim_{N\\rightarrow\\infty}\\left(\\frac{d}{dx}\\left(1+\\frac{x}{N}\\right)^N\\right)$$"
   ]
  },
  {
   "cell_type": "markdown",
   "id": "bb620347",
   "metadata": {},
   "source": [
    "$$e^x=\\lim_{N\\rightarrow\\infty}\\left(N\\left(1+\\frac{x}{N}\\right)^{N-1}\\frac{1}{N}\\right)$$"
   ]
  },
  {
   "cell_type": "markdown",
   "id": "8de670f3",
   "metadata": {},
   "source": [
    "$$e^x=\\lim_{N\\rightarrow\\infty}\\left(1+\\frac{x}{N}\\right)^{N-1}$$"
   ]
  },
  {
   "cell_type": "markdown",
   "id": "12905d65",
   "metadata": {},
   "source": [
    "If we divide the original expression by the above expression we obtain:"
   ]
  },
  {
   "cell_type": "markdown",
   "id": "4b0280a1",
   "metadata": {},
   "source": [
    "$$1=\\lim_{N\\rightarrow\\infty}\\frac{\\left(1+\\frac{x}{N}\\right)^N}{\\left(1+\\frac{x}{N}\\right)^{N-1}}=\\lim_{N\\rightarrow\\infty}\\left(1+\\frac{x}{N}\\right)$$"
   ]
  },
  {
   "cell_type": "markdown",
   "id": "7d88ce10",
   "metadata": {},
   "source": [
    "As $N\\rightarrow\\infty$, $\\frac{x}{N}\\rightarrow0$ and we get that $1=1$ which ends the proof."
   ]
  },
  {
   "cell_type": "markdown",
   "id": "6e5436ef",
   "metadata": {},
   "source": [
    "This was a \"Whoa!\" moment, hopefully the first of many from this book. For finite $\\theta$, that is, not infinitesimal $\\theta$:\n",
    "\n",
    "$$R(\\theta)=\\lim_{N\\rightarrow\\infty}R\\left(\\frac{\\theta}{N}\\right)^N$$"
   ]
  },
  {
   "cell_type": "markdown",
   "id": "bf9688cd",
   "metadata": {},
   "source": [
    "This is just performing the inifinitesimal rotation a zillion times to get a finite $\\theta$. Zee then substitues $I+\\frac{\\theta \\mathcal{J}}{N}$ for $R\\left(\\frac{\\theta}{N}\\right)$ to get:"
   ]
  },
  {
   "cell_type": "markdown",
   "id": "8df3ddc5",
   "metadata": {},
   "source": [
    "$$\\lim_{N\\rightarrow\\infty}R\\left(\\frac{\\theta}{N}\\right)^N=\\lim_{N\\rightarrow\\infty}\\left(I+\\frac{\\theta\\mathcal{J}}{N}\\right)^N$$"
   ]
  },
  {
   "cell_type": "markdown",
   "id": "d6802bbf",
   "metadata": {},
   "source": [
    "and then uses the identity that we just proved for reals and applies it to matrices:"
   ]
  },
  {
   "cell_type": "markdown",
   "id": "d327dbda",
   "metadata": {},
   "source": [
    "$$\\lim_{N\\rightarrow\\infty}\\left(I+\\frac{\\theta\\mathcal{J}}{N}\\right)^N=e^{\\theta\\mathcal{J}}$$"
   ]
  },
  {
   "cell_type": "markdown",
   "id": "5eb543bb",
   "metadata": {},
   "source": [
    "I think it's important to have the $I$ in the expression as opposed to the $1$ that Zee uses. Let's take $\\theta=0$, if that's fair. I'm not sure it is since we expressly said our purpose was to compute a finite as opposed to infinitesimal angle, but I believe the purpose was to generalize to include finite angles while still remaining capable of working with infinitesimal ones. If $\\theta=0$, then $R(\\theta)=I$, not $1$. This is a triviality. Who really cares, right?"
   ]
  },
  {
   "cell_type": "markdown",
   "id": "70093c93",
   "metadata": {},
   "source": [
    "The \"Whoa!\" moment was just how quick and easy it was to get to the exponential from rotation. I've never seen a proof (that I remember) that I could follow, let alone follow this clearly and perhaps even remember going forward!"
   ]
  },
  {
   "cell_type": "markdown",
   "id": "e3f92254",
   "metadata": {},
   "source": [
    "Zee shows that we can use entities that follow the algrebraic rules, like matrices, as arguments for functions if we have an algebraic expression for the function. For example, $e^x\\equiv \\sum_{n=0}^\\infty\\frac{M^n}{n!}$ can take a matrix $M$. However, some of the identities we might expect to hold may depend on commutation, and matrices are not necessarily commutative."
   ]
  },
  {
   "cell_type": "markdown",
   "id": "585ce042",
   "metadata": {},
   "source": [
    "Zee indicates that the identity $e^ae^a=e^{2a}$ can be proven using the above series and the binomial theorem. Let's do that!"
   ]
  },
  {
   "cell_type": "markdown",
   "id": "a72d939e",
   "metadata": {},
   "source": [
    "$$e^M=1+M+\\frac{M^2}{2}+\\frac{M^3}{6}+\\frac{M^4}{24}+\\ldots$$"
   ]
  },
  {
   "cell_type": "markdown",
   "id": "d51dd4ba",
   "metadata": {},
   "source": [
    "$$e^Me^M=\\left(1+M+\\frac{M^2}{2}+\\frac{M^3}{6}+\\frac{M^4}{24}+\\ldots\\right)\\left(1+M+\\frac{M^2}{2}+\\frac{M^3}{6}+\\frac{M^4}{24}+\\ldots\\right)=$$"
   ]
  },
  {
   "cell_type": "markdown",
   "id": "476fb5e4",
   "metadata": {},
   "source": [
    "$$1+2M+\\frac{4M^2}{2}+\\frac{8M^3}{6}+\\frac{16M^4}{24}+\\ldots$$"
   ]
  },
  {
   "cell_type": "markdown",
   "id": "4da4363f",
   "metadata": {},
   "source": [
    "We were able to collect like terms in the above expression because $M^2=M^TM$ commutes. The above expression is identical to the series for $e^{2M}$. For the expression $e^{M_1}e^{M_2}$, we won't be able to collect like terms because $M_1M_2\\ne M_2M_1$ in the general case and so $e^{M_1}e^{M_2}\\ne e^{M_1+M_2}$ for the general case."
   ]
  },
  {
   "cell_type": "markdown",
   "id": "b80bee78",
   "metadata": {},
   "source": [
    "Equation (8) is fun and explained well. The only missing pieces are the power series for cosine and sine:\n",
    "\n",
    "$$\\cos\\theta = \\sum_{k=0}^\\infty\\frac{(-1)^k\\theta^{2k}}{(2k)!}$$\n",
    "\n",
    "$$\\sin\\theta = \\sum_{k=0}^\\infty\\frac{(-1)^k\\theta^{2k+1}}{(2k+1)!}$$"
   ]
  },
  {
   "cell_type": "code",
   "execution_count": null,
   "id": "84de5f52",
   "metadata": {},
   "outputs": [],
   "source": []
  }
 ],
 "metadata": {
  "kernelspec": {
   "display_name": "Python 3 (ipykernel)",
   "language": "python",
   "name": "python3"
  },
  "language_info": {
   "codemirror_mode": {
    "name": "ipython",
    "version": 3
   },
   "file_extension": ".py",
   "mimetype": "text/x-python",
   "name": "python",
   "nbconvert_exporter": "python",
   "pygments_lexer": "ipython3",
   "version": "3.9.2"
  }
 },
 "nbformat": 4,
 "nbformat_minor": 5
}
