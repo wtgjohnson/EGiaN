{
 "cells": [
  {
   "cell_type": "markdown",
   "id": "86125981",
   "metadata": {},
   "source": [
    "# Chapter 3 Rotation"
   ]
  },
  {
   "cell_type": "markdown",
   "id": "ee8a77eb",
   "metadata": {},
   "source": [
    "## Rotation in the plane"
   ]
  },
  {
   "cell_type": "markdown",
   "id": "a6d8d4bd",
   "metadata": {},
   "source": [
    "Let's verify that $\\sqrt{x'^2+y'^2}=\\sqrt{x^2+y^2}$."
   ]
  },
  {
   "cell_type": "markdown",
   "id": "bbc7bce6",
   "metadata": {},
   "source": [
    "$$\\sqrt{x'^2+y'^2}=\\sqrt{(x\\cos\\theta+y\\sin\\theta)^2+(-x\\sin\\theta+y\\cos\\theta)}=$$"
   ]
  },
  {
   "cell_type": "markdown",
   "id": "7eba5463",
   "metadata": {},
   "source": [
    "$$\\sqrt{x^2\\cos^2\\theta+2xy\\sin\\theta\\cos\\theta+y^2\\sin^2\\theta+x^2\\sin^2\\theta-2xy\\cos\\theta\\sin\\theta+y^2\\cos^2\\theta}=$$"
   ]
  },
  {
   "cell_type": "markdown",
   "id": "22dafa2f",
   "metadata": {},
   "source": [
    "$$\\sqrt{x^2(\\cos^2\\theta+\\sin^2\\theta)+y^2(\\cos^2\\theta+\\sin^2\\theta)}=$$"
   ]
  },
  {
   "cell_type": "markdown",
   "id": "9fe7c9f3",
   "metadata": {},
   "source": [
    "$$\\sqrt{x^2+y^2}$$"
   ]
  },
  {
   "cell_type": "markdown",
   "id": "0940b101",
   "metadata": {},
   "source": [
    "Zee states that $\\left(\\vec{u}+\\vec{v}\\right)^2=\\vec{u}^2+\\vec{v}^2+2\\vec{u}^T\\cdot\\vec{v}$. Let's verify that."
   ]
  },
  {
   "cell_type": "markdown",
   "id": "fcc9224e",
   "metadata": {},
   "source": [
    "$$\\left(\\vec{u}+\\vec{v}\\right)^2=\\left(\\left(u_1+v_1\\right)^2+\\left(u_2+v_2\\right)^2\\right)=u_1^2+2u_1v_1+v_1^2+u_2^2+2u_2v_2+v_2^2=u_1^2+u_2^2+v_1^2+v_2^2+2\\left(u_1v_1+u_2v_2\\right)$$"
   ]
  },
  {
   "cell_type": "markdown",
   "id": "6dcbb543",
   "metadata": {},
   "source": [
    "$$\\vec{u}^2+\\vec{v}^2+2\\vec{u}^T\\cdot\\vec{v}=u_1^2+u_2^2+v_1^2+v_2^2+2\\left(u_1v_1+u_2v_2\\right)$$"
   ]
  },
  {
   "cell_type": "markdown",
   "id": "17b30c86",
   "metadata": {},
   "source": [
    "The two expressions are equivalent."
   ]
  },
  {
   "cell_type": "markdown",
   "id": "7dea5a11",
   "metadata": {},
   "source": [
    "Zee also has a series of equivalent expressions embedded in the text that is understandable, but I would like to expand it to make it easier for me to understand."
   ]
  },
  {
   "cell_type": "markdown",
   "id": "126af18a",
   "metadata": {},
   "source": [
    "$$\\vec{u}^T\\cdot\\vec{v}=\\vec{u}'^T\\cdot\\vec{v}'=\\left(\\vec{u}^TR^T\\right)\\cdot\\left(R\\vec{v}\\right)=\\vec{u}^T\\cdot\\left(R^TR\\right)\\vec{v}$$"
   ]
  },
  {
   "cell_type": "markdown",
   "id": "499cc791",
   "metadata": {},
   "source": [
    "The first two expressions, $\\vec{u}^T\\cdot\\vec{v}=\\vec{u}'^T\\cdot\\vec{v}'$, are equivalent because the magnitude of a vector is invariant with respect to rotation, as proven in the previous paragraph."
   ]
  },
  {
   "cell_type": "markdown",
   "id": "6cb8b9a7",
   "metadata": {},
   "source": [
    "The third expression is equivalent to the second because $\\vec{u}'^T=\\vec{u}^TR^T$ which is the transpose of the rotation equation, $\\vec{u}'=R\\vec{u}$. The transpose of the product of two matrices, $A$ and $B$, $\\left(AB\\right)^T=B^TA^T$. Also, $\\vec{v}'=R\\vec{v}$ is just the rotation equation again."
   ]
  },
  {
   "cell_type": "markdown",
   "id": "ae9f5305",
   "metadata": {},
   "source": [
    "Finally, matrix multiplication is associative. Zee has rearranged the parentheses to emphasize that $R^TR$ must be $I$ by comparing the final expression to the first."
   ]
  },
  {
   "cell_type": "markdown",
   "id": "0cebe099",
   "metadata": {},
   "source": [
    "### Act a little bit at a time"
   ]
  },
  {
   "cell_type": "markdown",
   "id": "ff7bceb2",
   "metadata": {},
   "source": [
    "Let's verify that Equation (1) reduces to $x' \\approx x+\\theta y$ and $y'\\approx y-\\theta x$ to leading order in $\\theta$."
   ]
  },
  {
   "cell_type": "markdown",
   "id": "6b145cb8",
   "metadata": {},
   "source": [
    "Equation (1):\n",
    "\n",
    "$$x'=x\\cos\\theta+y\\sin\\theta$$\n",
    "\n",
    "$$y'=-x\\sin\\theta+y\\cos\\theta$$"
   ]
  },
  {
   "cell_type": "markdown",
   "id": "326ed3a6",
   "metadata": {},
   "source": [
    "For infinitesimal $\\theta$, $\\cos\\theta\\approx1$ and $\\sin\\theta\\approx\\theta$. Substituting:"
   ]
  },
  {
   "cell_type": "markdown",
   "id": "b3804bfd",
   "metadata": {},
   "source": [
    "$$x'\\approx x+y\\theta=x+\\theta y$$\n",
    "$$y'\\approx -x\\theta+y=y-\\theta x$$"
   ]
  },
  {
   "cell_type": "markdown",
   "id": "1cace20f",
   "metadata": {},
   "source": [
    "Let's verify that $x'=x+\\theta y$ and $y'=y-\\theta x$ verifies the Pythagorean condition that $x'^2+y'^2=x^2+y^2$."
   ]
  },
  {
   "cell_type": "markdown",
   "id": "039e3b03",
   "metadata": {},
   "source": [
    "$$x'^2=\\left(x+\\theta y\\right)^2=x^2+2\\theta y +\\theta^2y^2\\approx x^2$$"
   ]
  },
  {
   "cell_type": "markdown",
   "id": "bfecdac4",
   "metadata": {},
   "source": [
    "$$y'^2=\\left(y-\\theta x\\right)^2=y^2-2\\theta x+\\theta^2x^2\\approx y^2$$"
   ]
  },
  {
   "cell_type": "markdown",
   "id": "430d03d2",
   "metadata": {},
   "source": [
    "Where approximating to the first order in $\\theta$ has been interpreted to mean including only the terms with the lowest power of $\\theta$. That power is zero and so only the terms $x^2$ and $y^2$ remain."
   ]
  },
  {
   "cell_type": "markdown",
   "id": "3ca6d846",
   "metadata": {},
   "source": [
    "I believe the cryptic comment, \"Or, write $x'=x+\\delta x$, $y'=y+\\delta y$ and solve $x\\delta x+y\\delta y=0$\" is still referring to computing the invariance of the magnitude. Perhaps like so:"
   ]
  },
  {
   "cell_type": "markdown",
   "id": "81f3e73c",
   "metadata": {},
   "source": [
    "$$x'=x+\\delta x$$\n",
    "$$y'=y+\\delta y$$\n",
    "$$x'^2+y'^2=\\left(x+\\delta x\\right)^2+\\left(y+\\delta y\\right)^2=x^2+2x\\delta x+\\delta^2x^2+y^2+2y\\delta y+\\delta^2y^2\\approx$$\n",
    "$$x^2+2x\\delta x+y^2+2y\\delta y$$"
   ]
  },
  {
   "cell_type": "markdown",
   "id": "012bfec9",
   "metadata": {},
   "source": [
    "The above expression equals $x^2+y^2$ only if $2x\\delta x + 2y\\delta y=0$ which implies $x\\delta x+y\\delta y=0$."
   ]
  },
  {
   "cell_type": "markdown",
   "id": "614f7f0d",
   "metadata": {},
   "source": [
    "In the next paragraph, Zee discusses using two points $(0,1)$ and $(1,0)$. He notes that we know for infinitesimal angles, the rotation transforms linearly, so we can obtain the matrix's elements by chosing these points and noting what happens. When we use $(1,0)$, the result after rotating **clockwise** (The rotation matrix given in the text is for a positive angle defined by a clockwise rotation. I'm more familiar with defining a positive angle by a counterclockwise rotation which would imply that the rotation matrix is the transpose of that presented in the text.) by $\\theta$ is $(1,-\\theta)$, implying that left column of the rotation matrix is $(1,-\\theta)$. When we use $(0,1)$, the rotated point is $(\\theta,1)$, implying that the right column is $(\\theta,1)$."
   ]
  },
  {
   "cell_type": "markdown",
   "id": "c6d06703",
   "metadata": {},
   "source": [
    "Zee states that we can prove this identity be differntiating both sides. Let's!"
   ]
  },
  {
   "cell_type": "markdown",
   "id": "35359935",
   "metadata": {},
   "source": [
    "$$e^x=\\lim_{N\\rightarrow \\infty}\\left(1+\\frac{x}{N}\\right)^N$$"
   ]
  },
  {
   "cell_type": "markdown",
   "id": "cb32115f",
   "metadata": {},
   "source": [
    "Differentiating both sides with respect to $x$:"
   ]
  },
  {
   "cell_type": "markdown",
   "id": "b683ec4b",
   "metadata": {},
   "source": [
    "$$\\frac{de^x}{dx}=\\frac{d}{dx}\\left(\\lim_{N\\rightarrow\\infty}\\left(1+\\frac{x}{N}\\right)^N\\right)$$"
   ]
  },
  {
   "cell_type": "markdown",
   "id": "3a31fb83",
   "metadata": {},
   "source": [
    "$$e^x=\\lim_{N\\rightarrow\\infty}\\left(\\frac{d}{dx}\\left(1+\\frac{x}{N}\\right)^N\\right)$$"
   ]
  },
  {
   "cell_type": "markdown",
   "id": "bb620347",
   "metadata": {},
   "source": [
    "$$e^x=\\lim_{N\\rightarrow\\infty}\\left(N\\left(1+\\frac{x}{N}\\right)^{N-1}\\frac{1}{N}\\right)$$"
   ]
  },
  {
   "cell_type": "markdown",
   "id": "8de670f3",
   "metadata": {},
   "source": [
    "$$e^x=\\lim_{N\\rightarrow\\infty}\\left(1+\\frac{x}{N}\\right)^{N-1}$$"
   ]
  },
  {
   "cell_type": "markdown",
   "id": "12905d65",
   "metadata": {},
   "source": [
    "If we divide the original expression by the above expression we obtain:"
   ]
  },
  {
   "cell_type": "markdown",
   "id": "4b0280a1",
   "metadata": {},
   "source": [
    "$$1=\\lim_{N\\rightarrow\\infty}\\frac{\\left(1+\\frac{x}{N}\\right)^N}{\\left(1+\\frac{x}{N}\\right)^{N-1}}=\\lim_{N\\rightarrow\\infty}\\left(1+\\frac{x}{N}\\right)$$"
   ]
  },
  {
   "cell_type": "markdown",
   "id": "7d88ce10",
   "metadata": {},
   "source": [
    "As $N\\rightarrow\\infty$, $\\frac{x}{N}\\rightarrow0$ and we get that $1=1$ which ends the proof."
   ]
  },
  {
   "cell_type": "markdown",
   "id": "6e5436ef",
   "metadata": {},
   "source": [
    "This was a \"Whoa!\" moment, hopefully the first of many from this book. For finite $\\theta$, that is, not infinitesimal $\\theta$:\n",
    "\n",
    "$$R(\\theta)=\\lim_{N\\rightarrow\\infty}R\\left(\\frac{\\theta}{N}\\right)^N$$"
   ]
  },
  {
   "cell_type": "markdown",
   "id": "bf9688cd",
   "metadata": {},
   "source": [
    "This is just performing the inifinitesimal rotation a zillion times to get a finite $\\theta$. Zee then substitues $I+\\frac{\\theta \\mathcal{J}}{N}$ for $R\\left(\\frac{\\theta}{N}\\right)$ to get:"
   ]
  },
  {
   "cell_type": "markdown",
   "id": "8df3ddc5",
   "metadata": {},
   "source": [
    "$$\\lim_{N\\rightarrow\\infty}R\\left(\\frac{\\theta}{N}\\right)^N=\\lim_{N\\rightarrow\\infty}\\left(I+\\frac{\\theta\\mathcal{J}}{N}\\right)^N$$"
   ]
  },
  {
   "cell_type": "markdown",
   "id": "d6802bbf",
   "metadata": {},
   "source": [
    "and then uses the identity that we just proved for reals and applies it to matrices:"
   ]
  },
  {
   "cell_type": "markdown",
   "id": "d327dbda",
   "metadata": {},
   "source": [
    "$$\\lim_{N\\rightarrow\\infty}\\left(I+\\frac{\\theta\\mathcal{J}}{N}\\right)^N=e^{\\theta\\mathcal{J}}$$"
   ]
  },
  {
   "cell_type": "markdown",
   "id": "5eb543bb",
   "metadata": {},
   "source": [
    "I think it's important to have the $I$ in the expression as opposed to the $1$ that Zee uses. Let's take $\\theta=0$, if that's fair. I'm not sure it is since we expressly said our purpose was to compute a finite as opposed to infinitesimal angle, but I believe the purpose was to generalize to include finite angles while still remaining capable of working with infinitesimal ones. If $\\theta=0$, then $R(\\theta)=I$, not $1$. This is a triviality. Who really cares, right?"
   ]
  },
  {
   "cell_type": "markdown",
   "id": "70093c93",
   "metadata": {},
   "source": [
    "The \"Whoa!\" moment was just how quick and easy it was to get to the exponential from rotation. I've never seen a proof (that I remember) that I could follow, let alone follow this clearly and perhaps even remember going forward!"
   ]
  },
  {
   "cell_type": "markdown",
   "id": "e3f92254",
   "metadata": {},
   "source": [
    "Zee shows that we can use entities that follow the algrebraic rules, like matrices, as arguments for functions if we have an algebraic expression for the function. For example, $e^x\\equiv \\sum_{n=0}^\\infty\\frac{M^n}{n!}$ can take a matrix $M$. However, some of the identities we might expect to hold may depend on commutation, and matrices are not necessarily commutative."
   ]
  },
  {
   "cell_type": "markdown",
   "id": "585ce042",
   "metadata": {},
   "source": [
    "Zee indicates that the identity $e^ae^a=e^{2a}$ can be proven using the above series and the binomial theorem. Let's do that!"
   ]
  },
  {
   "cell_type": "markdown",
   "id": "a72d939e",
   "metadata": {},
   "source": [
    "$$e^M=1+M+\\frac{M^2}{2}+\\frac{M^3}{6}+\\frac{M^4}{24}+\\ldots$$"
   ]
  },
  {
   "cell_type": "markdown",
   "id": "d51dd4ba",
   "metadata": {},
   "source": [
    "$$e^Me^M=\\left(1+M+\\frac{M^2}{2}+\\frac{M^3}{6}+\\frac{M^4}{24}+\\ldots\\right)\\left(1+M+\\frac{M^2}{2}+\\frac{M^3}{6}+\\frac{M^4}{24}+\\ldots\\right)=$$"
   ]
  },
  {
   "cell_type": "markdown",
   "id": "476fb5e4",
   "metadata": {},
   "source": [
    "$$1+2M+\\frac{4M^2}{2}+\\frac{8M^3}{6}+\\frac{16M^4}{24}+\\ldots$$"
   ]
  },
  {
   "cell_type": "markdown",
   "id": "4da4363f",
   "metadata": {},
   "source": [
    "We were able to collect like terms in the above expression because $M^2=M^TM$ commutes. The above expression is identical to the series for $e^{2M}$. For the expression $e^{M_1}e^{M_2}$, we won't be able to collect like terms because $M_1M_2\\ne M_2M_1$ in the general case and so $e^{M_1}e^{M_2}\\ne e^{M_1+M_2}$ for the general case."
   ]
  },
  {
   "cell_type": "markdown",
   "id": "b80bee78",
   "metadata": {},
   "source": [
    "Equation (8) is fun and explained well. The only missing pieces are the power series for cosine and sine:\n",
    "\n",
    "$$\\cos\\theta = \\sum_{k=0}^\\infty\\frac{(-1)^k\\theta^{2k}}{(2k)!}$$\n",
    "\n",
    "$$\\sin\\theta = \\sum_{k=0}^\\infty\\frac{(-1)^k\\theta^{2k+1}}{(2k+1)!}$$"
   ]
  },
  {
   "cell_type": "markdown",
   "id": "d724d74b",
   "metadata": {},
   "source": [
    "### Two approaches to rotation"
   ]
  },
  {
   "cell_type": "markdown",
   "id": "936dfb84",
   "metadata": {},
   "source": [
    "Let's derive Equation (10):"
   ]
  },
  {
   "cell_type": "markdown",
   "id": "f01e1f42",
   "metadata": {},
   "source": [
    "$$\\vec{r}_P=(x,y)\\\\\n",
    "\\vec{r}_Q=(\\tilde{x},\\tilde{y})\\\\\n",
    "\\vec{r}_P'=(x',y')\\\\\n",
    "\\vec{r}_Q'=(\\tilde{x}',\\tilde{y}')\\\\\n",
    "\\vec{r}_P'=R(\\theta)\\vec{r}_P\\\\\n",
    "\\vec{r}_Q'=R(\\theta)\\vec{r}_Q\\\\\n",
    "\\Delta x=\\tilde{x}-x\\\\\n",
    "\\Delta y=\\tilde{y}-y\\\\\n",
    "\\Delta x'=\\tilde{x}'-x'\\\\\n",
    "\\Delta y'=\\tilde{y}'-y'\\\\\n",
    "\\vec{r}_Q'-\\vec{r}_P'=R(\\theta)\\vec{r}_Q-R(\\theta)\\vec{r}_P\\\\\n",
    "R=\\begin{pmatrix}\\cos\\theta & \\sin\\theta \\\\ -\\sin\\theta & \\cos\\theta \\end{pmatrix}$$"
   ]
  },
  {
   "cell_type": "markdown",
   "id": "cd0fcf35",
   "metadata": {},
   "source": [
    "$$\\vec{r}_Q'-\\vec{r}_P'=\\begin{pmatrix}\\tilde{x}' \\\\ \\tilde{y}'\\end{pmatrix}-\\begin{pmatrix}x' \\\\ y'\\end{pmatrix}=\\begin{pmatrix}\\tilde{x}'-x' \\\\ \\tilde{y}'-y'\\end{pmatrix}=\\begin{pmatrix}\\Delta x' \\\\ \\Delta y'\\end{pmatrix}$$"
   ]
  },
  {
   "cell_type": "markdown",
   "id": "661da935",
   "metadata": {},
   "source": [
    "$$R(\\theta)\\vec{r}_Q-R(\\theta)\\vec{r}_P=\\begin{pmatrix}\\cos\\theta & \\sin\\theta \\\\ -\\sin\\theta & \\cos\\theta \\end{pmatrix}\\begin{pmatrix}\\tilde{x} \\\\ \\tilde{y}\\end{pmatrix}-\\begin{pmatrix}\\cos\\theta & \\sin\\theta \\\\ -\\sin\\theta & \\cos\\theta \\end{pmatrix}\\begin{pmatrix}x \\\\ y\\end{pmatrix}=$$"
   ]
  },
  {
   "cell_type": "markdown",
   "id": "0be27afa",
   "metadata": {},
   "source": [
    "$$\\begin{pmatrix}\\tilde{x}\\cos\\theta+\\tilde{y}\\sin\\theta \\\\ -\\tilde{x}\\sin\\theta+\\tilde{y}\\cos\\theta\\end{pmatrix}-\\begin{pmatrix}x\\cos\\theta+y\\sin\\theta \\\\ -x\\sin\\theta+y\\cos\\theta\\end{pmatrix}=$$"
   ]
  },
  {
   "cell_type": "markdown",
   "id": "7bc009eb",
   "metadata": {},
   "source": [
    "$$\\begin{pmatrix}\\Delta x\\cos\\theta+\\Delta y\\sin\\theta \\\\ -\\Delta x\\sin\\theta+\\Delta y\\cos\\theta\\end{pmatrix}=\\begin{pmatrix}\\cos\\theta & \\sin\\theta \\\\ -\\sin\\theta & \\cos\\theta\\end{pmatrix}\\begin{pmatrix}\\Delta x \\\\ \\Delta y\\end{pmatrix}$$"
   ]
  },
  {
   "cell_type": "markdown",
   "id": "6097d4ee",
   "metadata": {},
   "source": [
    "I can't seem to find why Zee gets the alternative anti-symmetric rotation matrix in the text:\n",
    "\n",
    "$$\\begin{pmatrix}\\cos\\theta & -\\sin\\theta \\\\ \\sin\\theta & \\cos\\theta\\end{pmatrix}$$"
   ]
  },
  {
   "cell_type": "markdown",
   "id": "a2408f14",
   "metadata": {},
   "source": [
    "I don't expect to find the reason either."
   ]
  },
  {
   "cell_type": "markdown",
   "id": "d6be5b86",
   "metadata": {},
   "source": [
    "Now let's verify that $\\left(\\Delta x'\\right)^2+\\left(\\Delta y'\\right)^2=\\left(\\Delta x\\right)^2+\\left(\\Delta y\\right)^2$"
   ]
  },
  {
   "cell_type": "markdown",
   "id": "ce06e04a",
   "metadata": {},
   "source": [
    "$$\\left(\\Delta x'\\right)^2+\\left(\\Delta y'\\right)^2=$$"
   ]
  },
  {
   "cell_type": "markdown",
   "id": "837feaae",
   "metadata": {},
   "source": [
    "$$\\left(\\Delta x\\cos\\theta+\\Delta y\\sin\\theta\\right)^2+\\left(-\\Delta x\\sin\\theta+\\Delta y\\cos\\theta\\right)^2=$$"
   ]
  },
  {
   "cell_type": "markdown",
   "id": "3d4d1e0e",
   "metadata": {},
   "source": [
    "$$\\Delta x^2\\cos^2\\theta+2\\Delta x\\Delta y\\cos\\theta\\sin\\theta+\\Delta y^2\\sin^2\\theta+\\Delta x^2\\sin^2\\theta-2\\Delta x\\Delta y\\sin\\theta\\cos\\theta+\\Delta y^2\\cos^2\\theta=$$"
   ]
  },
  {
   "cell_type": "markdown",
   "id": "d2f44cce",
   "metadata": {},
   "source": [
    "$$\\Delta x^2\\left(\\cos^2\\theta+\\sin^2\\theta\\right)+\\Delta y^2\\left(\\sin^2\\theta+\\cos^2\\theta\\right)=$$"
   ]
  },
  {
   "cell_type": "markdown",
   "id": "3c99101e",
   "metadata": {},
   "source": [
    "$$\\Delta x^2 + \\Delta y^2$$"
   ]
  },
  {
   "cell_type": "markdown",
   "id": "33b975d6",
   "metadata": {},
   "source": [
    "### Invariance and geometry"
   ]
  },
  {
   "cell_type": "markdown",
   "id": "0b8c3dea",
   "metadata": {},
   "source": [
    "Let's work out why, given $\\vec{p}=\\begin{pmatrix}p^1 \\\\ p^2\\end{pmatrix}$, $\\begin{pmatrix}ap^1 \\\\ bp^2\\end{pmatrix}$ for $a\\ne b$ is not a vector.\n",
    "\n",
    "Let's consider an infinitesimal rotation. $\\vec{p}'=R(d\\theta)\\vec{p}=\\begin{pmatrix}p^1+d\\theta p^2 \\\\ -d\\theta p^1+p^2\\end{pmatrix}$. To transform like a vector means that the elements of the transformed vector are linear combinations of the elements of the untransformed vector."
   ]
  },
  {
   "cell_type": "markdown",
   "id": "76b2f19d",
   "metadata": {},
   "source": [
    "The element-wise transformation is done according to the superscript of the element, like so:"
   ]
  },
  {
   "cell_type": "markdown",
   "id": "1b4736f8",
   "metadata": {},
   "source": [
    "$$R(d\\theta)\\begin{pmatrix}ap^1 \\\\ bp^2\\end{pmatrix}=\\begin{pmatrix}a\\left(p^1+d\\theta p^2\\right) \\\\ b\\left(-d\\theta p^1+p^2\\right)\\end{pmatrix}=\\begin{pmatrix}ap^1+d\\theta ap^2 \\\\ -d\\theta bp^1+bp^2\\end{pmatrix}=\\vec{p}'$$"
   ]
  },
  {
   "cell_type": "markdown",
   "id": "f6444dad",
   "metadata": {},
   "source": [
    "where $p1$ and $p2$ are transformed and substitued to obtain $\\vec{p}'$. However, to transform like a vector, it should have transformed like so:"
   ]
  },
  {
   "cell_type": "markdown",
   "id": "1f8942df",
   "metadata": {},
   "source": [
    "$$R(d\\theta)\\begin{pmatrix}ap^1 \\\\ bp^2\\end{pmatrix}=\\begin{pmatrix}ap^1+d\\theta bp^2 \\\\ -d\\theta ap^1+bp^2\\end{pmatrix}$$"
   ]
  },
  {
   "cell_type": "markdown",
   "id": "fc065126",
   "metadata": {},
   "source": [
    "The two columns, $\\begin{pmatrix}ap^1+d\\theta ap^2 \\\\ -d\\theta bp^1+bp^2\\end{pmatrix}$ and $\\begin{pmatrix}ap^1+d\\theta bp^2 \\\\ -d\\theta ap^1+bp^2\\end{pmatrix}$, are identical only when $a=b$."
   ]
  },
  {
   "cell_type": "markdown",
   "id": "1f3114db",
   "metadata": {},
   "source": [
    "### Lie in higher dimensions"
   ]
  },
  {
   "cell_type": "markdown",
   "id": "2658abce",
   "metadata": {},
   "source": [
    "Zee tells us that we can verify that $R\\approx I + A$ in three dimensions with $A=\\theta_x\\mathcal{J}_x+\\theta_y\\mathcal{J}_y+\\theta_z\\mathcal{J}_z$. Let's do that. The verification of $R$ suffices to show that $R^TR=I$ and that $\\det{R}=1$."
   ]
  },
  {
   "cell_type": "markdown",
   "id": "2135563b",
   "metadata": {},
   "source": [
    "$$R\\approx I+\\theta_x\\mathcal{J}_x+\\theta_y\\mathcal{J}_y+\\theta_z\\mathcal{J}_z=$$"
   ]
  },
  {
   "cell_type": "markdown",
   "id": "e21abcbc",
   "metadata": {},
   "source": [
    "$$\\begin{pmatrix}1&0&0\\\\0&1&0\\\\0&0&1\\end{pmatrix}+\\begin{pmatrix}0&0&0\\\\0&0&\\theta_x\\\\0&-\\theta_x&0\\end{pmatrix}+\\begin{pmatrix}0&0&-\\theta_y\\\\0&0&0\\\\\\theta_y&0&0\\end{pmatrix}+\\begin{pmatrix}0&\\theta_z&0\\\\-\\theta_z&0&0\\\\0&0&0\\end{pmatrix}=$$"
   ]
  },
  {
   "cell_type": "markdown",
   "id": "66766abd",
   "metadata": {},
   "source": [
    "$$\\begin{pmatrix}1&\\theta_z&-\\theta_y\\\\-\\theta_z&1&\\theta_x\\\\\\theta_y&-\\theta_x&1\\end{pmatrix}$$"
   ]
  },
  {
   "cell_type": "markdown",
   "id": "6775232a",
   "metadata": {},
   "source": [
    "$$R^TR=\\begin{pmatrix}1&-\\theta_z&\\theta_y\\\\\\theta_z&1&-\\theta_x\\\\-\\theta_y&\\theta_x&1\\end{pmatrix}\\begin{pmatrix}1&\\theta_z&-\\theta_y\\\\-\\theta_z&1&\\theta_x\\\\\\theta_y&-\\theta_x&1\\end{pmatrix}=$$"
   ]
  },
  {
   "cell_type": "markdown",
   "id": "9362f1ee",
   "metadata": {},
   "source": [
    "$$\\begin{pmatrix}\n",
    "    1+\\theta_y^2+\\theta_z^2 & -\\theta_x\\theta_y       & -\\theta_x\\theta_z      \\\\\n",
    "    -\\theta_x\\theta_y       & 1+\\theta_x^2+\\theta_z^2 & -\\theta_y\\theta_z      \\\\\n",
    "    -\\theta_x\\theta_z       & -\\theta_y\\theta_z       & 1+\\theta_x^2+\\theta_y^2\n",
    "\\end{pmatrix}\\approx$$"
   ]
  },
  {
   "cell_type": "markdown",
   "id": "5198bd2a",
   "metadata": {},
   "source": [
    "$$\\begin{pmatrix}1&0&0\\\\0&1&0\\\\0&0&1\\end{pmatrix}$$"
   ]
  },
  {
   "cell_type": "markdown",
   "id": "37f4e94a",
   "metadata": {},
   "source": [
    "$$\\det{R}=\\det{\\begin{pmatrix}1&\\theta_z&-\\theta_y\\\\-\\theta_z&1&\\theta_x\\\\\\theta_y&-\\theta_x&1\\end{pmatrix}}=$$"
   ]
  },
  {
   "cell_type": "markdown",
   "id": "87a35e43",
   "metadata": {},
   "source": [
    "$$1\\cdot\\det{\\begin{pmatrix}1&\\theta_x\\\\-\\theta_x&1\\end{pmatrix}}-\\theta_z\\cdot\\det{\\begin{pmatrix}-\\theta_z&\\theta_x\\\\\\theta_y&1\\end{pmatrix}}+-\\theta_y\\cdot\\det{\\begin{pmatrix}-\\theta_z&1\\\\\\theta_y&-\\theta_x\\end{pmatrix}}=$$"
   ]
  },
  {
   "cell_type": "markdown",
   "id": "548f1eff",
   "metadata": {},
   "source": [
    "$$1\\left(1+\\theta_x^2\\right)-\\theta_z\\left(-\\theta_z-\\theta_x\\theta_y\\right)-\\theta_y\\left(\\theta_x\\theta_z-\\theta_y\\right)=$$"
   ]
  },
  {
   "cell_type": "markdown",
   "id": "a528dd3a",
   "metadata": {},
   "source": [
    "$$1+\\theta_x^2+\\theta_z^2+\\theta_x\\theta_y\\theta_z-\\theta_x\\theta_y\\theta_z+\\theta_y^2=$$"
   ]
  },
  {
   "cell_type": "markdown",
   "id": "f1b02d80",
   "metadata": {},
   "source": [
    "$$1+\\theta_x^2+\\theta_y^2+\\theta_z^2\\approx 1$$"
   ]
  },
  {
   "cell_type": "markdown",
   "id": "52b63176",
   "metadata": {},
   "source": [
    "### Index notation and rotations"
   ]
  },
  {
   "cell_type": "markdown",
   "id": "565e9ee4",
   "metadata": {},
   "source": [
    "I'd like to add a little more detail here so that I can understand the math more quickly. The second term has distributed the square of the multinomial that is $dx'^i$. For example, let $dx=(dx^1,dx^2)$, then:"
   ]
  },
  {
   "cell_type": "markdown",
   "id": "53edf115",
   "metadata": {},
   "source": [
    "$$\\sum_i\\left(R^{i1}dx^1+R^{i2}dx^2\\right)\\left(R^{i1}dx^1+R^{i2}dx^2\\right)=\\sum_i\\left(R^{i1}dx^1\\left(R^{i1}dx^1+R^{i,2}dx^2\\right)+R^{i,2}dx^2\\left(R^{i,1}dx^1+R^{i,2}dx^2\\right)\\right)=$$"
   ]
  },
  {
   "cell_type": "markdown",
   "id": "40b91373",
   "metadata": {},
   "source": [
    "$$\\sum_i\\left(R^{i1}dx^1\\sum_jR^{i,j}dx^j+R^{i2}dx^2\\sum_jR^{ij}dx^j\\right)=\\sum_i\\sum_k\\sum_jR^{ik}dx^kR^{ij}dx^j$$"
   ]
  },
  {
   "cell_type": "markdown",
   "id": "a851b771",
   "metadata": {},
   "source": [
    "So that helps me get through Equation (18). For Equation (19) I found it useful to look at the top of the page and remember $\\left(AB\\right)^{ij}=\\sum_kA^{ik}B^{kj}$ to get from the third expression to the fourth expression. That's just the definition of how to compute an element of the product of two matrices. Finally if $\\left(AB\\right)^{ij}=\\delta^{ij}$, then that's $I$."
   ]
  },
  {
   "cell_type": "code",
   "execution_count": null,
   "id": "5a687fa9",
   "metadata": {},
   "outputs": [],
   "source": []
  }
 ],
 "metadata": {
  "kernelspec": {
   "display_name": "Python 3 (ipykernel)",
   "language": "python",
   "name": "python3"
  },
  "language_info": {
   "codemirror_mode": {
    "name": "ipython",
    "version": 3
   },
   "file_extension": ".py",
   "mimetype": "text/x-python",
   "name": "python",
   "nbconvert_exporter": "python",
   "pygments_lexer": "ipython3",
   "version": "3.9.2"
  }
 },
 "nbformat": 4,
 "nbformat_minor": 5
}
