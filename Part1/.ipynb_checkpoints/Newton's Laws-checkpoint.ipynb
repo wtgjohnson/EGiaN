{
 "cells": [
  {
   "cell_type": "markdown",
   "id": "56c363a4",
   "metadata": {},
   "source": [
    "# Newton's Laws\n",
    "\n",
    "## Notes\n",
    "\n",
    "### Example A\n",
    "\n",
    "Zee introduces the harmonic oscillator. I'd like to verify the equation of motion. Starting with\n",
    "\n",
    "$$m\\frac{d^2x}{dt^2}=-kx$$\n",
    "\n",
    "Let's integrate twice and see what we get. Yeah, [I don't think that's possible](https://math.stackexchange.com/questions/2615155/does-the-double-integrative-of-d2x-make-sense-from-a-mathematical-point-of-vi). You just have to guess at the answer and then differentiate twice. *shrug* Let's guess the answer!\n",
    "\n",
    "$$x(t)=a\\cos\\omega t+b\\sin\\omega t$$\n",
    "\n",
    "$$\\frac{dx}{dt}=-a\\omega\\sin\\omega t + b\\omega\\cos\\omega t$$\n",
    "\n",
    "$$\\frac{d^2x}{dt^2}=-a\\omega^2\\cos\\omega t - b\\omega^2\\sin\\omega t$$\n",
    "\n",
    "$$\\frac{d^2x}{dt^2}=-\\omega^2\\left(a\\cos\\omega t + b\\sin\\omega t\\right) = -\\omega^2 x$$\n",
    "\n",
    "Finally, let $\\omega = \\sqrt{\\frac{k}{m}}$, and you get the equation of motion.\n",
    "\n",
    "$$\\frac{d^2x}{dt^2}=-\\left(\\sqrt{\\frac{k}{m}}\\right)^2 x$$\n",
    "\n",
    "$$m\\frac{d^2x}{dt^2}=-kx$$\n",
    "\n",
    "### Example C\n",
    "\n",
    "This is moderately confusing to me. I thought I'd note it. I have always thought gravity was dependent on the square of the distance separating the two bodies, and it is. In the text, it is presented like this:\n",
    "\n",
    "$$m\\frac{d^2\\vec{r}}{dt^2}=-GMm\\frac{\\vec{r}}{r^3}$$\n",
    "\n",
    "The $r^3$ in the denominator bothered me, but I just needed to realize that $\\vec{r}$ is not a unit vector and can be rewritten as $r\\hat{r}$ where $r=\\sqrt{x^2+y^2+z^2}$ and $\\hat{r}=\\vec{r}/r$, that is $\\vec{r}=r\\hat{r}$ and substituting in gives\n",
    "\n",
    "$$m\\frac{d^2\\vec{r}}{dt^2}=-GMm\\frac{\\vec{r}}{r^3}=-GMm\\frac{r\\hat{r}}{r^3}=-GMm\\frac{\\hat{r}}{r^2}=\\frac{-GMm}{r^2}\\hat{r}$$\n",
    "\n",
    "which is the way I prefer to see it, noting the magnitude and the direction as separate values.\n",
    "\n",
    "#### Footnote 3\n",
    "\n",
    "Zee asks the reader to see the flight of a tennis ball in spacetime. Zee encourages us to draw our own diagram. Let's do that.\n",
    "\n",
    "First the equations of motion: $\\frac{d^2x}{dt^2}=0$, $\\frac{d^2y}{dt^2}=-g$, and the boundary conditions: $x(0)=0$, $x(T)=L$, $y(0)=y(T)=0$. The dimension $x$ aligns with the long dimension of a tennis court and dimension $y$ is the altitude. The court starts at $x=0$ and ends at $x=L$. The ground is at $y=0$.\n",
    "\n",
    "Integrating to get the equations of motion:\n",
    "\n",
    "$$\\frac{d^2x}{dt^2}=0$$\n",
    "\n",
    "$$\\frac{dx}{dt}=C_1$$\n",
    "\n",
    "$$x=C_1t + C_2$$\n",
    "\n",
    "$x(0)=0$ so $C_2=0$. $x(T)=L$ so $C_1=L/T$.\n",
    "\n",
    "$$x=\\frac{L}{T}t$$\n",
    "\n",
    "$$\\frac{d^2y}{dt^2}=-g$$\n",
    "\n",
    "$$\\frac{dy}{dt}=-gt+C_3$$\n",
    "\n",
    "$$y=-\\frac{1}{2}gt^2+C_3t+C_4$$\n",
    "\n",
    "$y(0)=0$ so $C_4=0$. Also, $y(T)=0$ which gives:\n",
    "\n",
    "$$0=-\\frac{1}{2}gT^2+C_3T$$\n",
    "\n",
    "$$C_3T=\\frac{1}{2}gT^2$$\n",
    "\n",
    "$$C_3=\\frac{1}{2}gT$$\n",
    "\n",
    "$$y=-\\frac{1}{2}gt^2+\\frac{1}{2}gTt$$\n",
    "\n",
    "$$y=\\frac{1}{2}g(T-t)t$$"
   ]
  },
  {
   "cell_type": "code",
   "execution_count": 1,
   "id": "633c9534",
   "metadata": {},
   "outputs": [
    {
     "data": {
      "application/javascript": [
       "/* Put everything inside the global mpl namespace */\n",
       "/* global mpl */\n",
       "window.mpl = {};\n",
       "\n",
       "mpl.get_websocket_type = function () {\n",
       "    if (typeof WebSocket !== 'undefined') {\n",
       "        return WebSocket;\n",
       "    } else if (typeof MozWebSocket !== 'undefined') {\n",
       "        return MozWebSocket;\n",
       "    } else {\n",
       "        alert(\n",
       "            'Your browser does not have WebSocket support. ' +\n",
       "                'Please try Chrome, Safari or Firefox ≥ 6. ' +\n",
       "                'Firefox 4 and 5 are also supported but you ' +\n",
       "                'have to enable WebSockets in about:config.'\n",
       "        );\n",
       "    }\n",
       "};\n",
       "\n",
       "mpl.figure = function (figure_id, websocket, ondownload, parent_element) {\n",
       "    this.id = figure_id;\n",
       "\n",
       "    this.ws = websocket;\n",
       "\n",
       "    this.supports_binary = this.ws.binaryType !== undefined;\n",
       "\n",
       "    if (!this.supports_binary) {\n",
       "        var warnings = document.getElementById('mpl-warnings');\n",
       "        if (warnings) {\n",
       "            warnings.style.display = 'block';\n",
       "            warnings.textContent =\n",
       "                'This browser does not support binary websocket messages. ' +\n",
       "                'Performance may be slow.';\n",
       "        }\n",
       "    }\n",
       "\n",
       "    this.imageObj = new Image();\n",
       "\n",
       "    this.context = undefined;\n",
       "    this.message = undefined;\n",
       "    this.canvas = undefined;\n",
       "    this.rubberband_canvas = undefined;\n",
       "    this.rubberband_context = undefined;\n",
       "    this.format_dropdown = undefined;\n",
       "\n",
       "    this.image_mode = 'full';\n",
       "\n",
       "    this.root = document.createElement('div');\n",
       "    this.root.setAttribute('style', 'display: inline-block');\n",
       "    this._root_extra_style(this.root);\n",
       "\n",
       "    parent_element.appendChild(this.root);\n",
       "\n",
       "    this._init_header(this);\n",
       "    this._init_canvas(this);\n",
       "    this._init_toolbar(this);\n",
       "\n",
       "    var fig = this;\n",
       "\n",
       "    this.waiting = false;\n",
       "\n",
       "    this.ws.onopen = function () {\n",
       "        fig.send_message('supports_binary', { value: fig.supports_binary });\n",
       "        fig.send_message('send_image_mode', {});\n",
       "        if (fig.ratio !== 1) {\n",
       "            fig.send_message('set_device_pixel_ratio', {\n",
       "                device_pixel_ratio: fig.ratio,\n",
       "            });\n",
       "        }\n",
       "        fig.send_message('refresh', {});\n",
       "    };\n",
       "\n",
       "    this.imageObj.onload = function () {\n",
       "        if (fig.image_mode === 'full') {\n",
       "            // Full images could contain transparency (where diff images\n",
       "            // almost always do), so we need to clear the canvas so that\n",
       "            // there is no ghosting.\n",
       "            fig.context.clearRect(0, 0, fig.canvas.width, fig.canvas.height);\n",
       "        }\n",
       "        fig.context.drawImage(fig.imageObj, 0, 0);\n",
       "    };\n",
       "\n",
       "    this.imageObj.onunload = function () {\n",
       "        fig.ws.close();\n",
       "    };\n",
       "\n",
       "    this.ws.onmessage = this._make_on_message_function(this);\n",
       "\n",
       "    this.ondownload = ondownload;\n",
       "};\n",
       "\n",
       "mpl.figure.prototype._init_header = function () {\n",
       "    var titlebar = document.createElement('div');\n",
       "    titlebar.classList =\n",
       "        'ui-dialog-titlebar ui-widget-header ui-corner-all ui-helper-clearfix';\n",
       "    var titletext = document.createElement('div');\n",
       "    titletext.classList = 'ui-dialog-title';\n",
       "    titletext.setAttribute(\n",
       "        'style',\n",
       "        'width: 100%; text-align: center; padding: 3px;'\n",
       "    );\n",
       "    titlebar.appendChild(titletext);\n",
       "    this.root.appendChild(titlebar);\n",
       "    this.header = titletext;\n",
       "};\n",
       "\n",
       "mpl.figure.prototype._canvas_extra_style = function (_canvas_div) {};\n",
       "\n",
       "mpl.figure.prototype._root_extra_style = function (_canvas_div) {};\n",
       "\n",
       "mpl.figure.prototype._init_canvas = function () {\n",
       "    var fig = this;\n",
       "\n",
       "    var canvas_div = (this.canvas_div = document.createElement('div'));\n",
       "    canvas_div.setAttribute(\n",
       "        'style',\n",
       "        'border: 1px solid #ddd;' +\n",
       "            'box-sizing: content-box;' +\n",
       "            'clear: both;' +\n",
       "            'min-height: 1px;' +\n",
       "            'min-width: 1px;' +\n",
       "            'outline: 0;' +\n",
       "            'overflow: hidden;' +\n",
       "            'position: relative;' +\n",
       "            'resize: both;'\n",
       "    );\n",
       "\n",
       "    function on_keyboard_event_closure(name) {\n",
       "        return function (event) {\n",
       "            return fig.key_event(event, name);\n",
       "        };\n",
       "    }\n",
       "\n",
       "    canvas_div.addEventListener(\n",
       "        'keydown',\n",
       "        on_keyboard_event_closure('key_press')\n",
       "    );\n",
       "    canvas_div.addEventListener(\n",
       "        'keyup',\n",
       "        on_keyboard_event_closure('key_release')\n",
       "    );\n",
       "\n",
       "    this._canvas_extra_style(canvas_div);\n",
       "    this.root.appendChild(canvas_div);\n",
       "\n",
       "    var canvas = (this.canvas = document.createElement('canvas'));\n",
       "    canvas.classList.add('mpl-canvas');\n",
       "    canvas.setAttribute('style', 'box-sizing: content-box;');\n",
       "\n",
       "    this.context = canvas.getContext('2d');\n",
       "\n",
       "    var backingStore =\n",
       "        this.context.backingStorePixelRatio ||\n",
       "        this.context.webkitBackingStorePixelRatio ||\n",
       "        this.context.mozBackingStorePixelRatio ||\n",
       "        this.context.msBackingStorePixelRatio ||\n",
       "        this.context.oBackingStorePixelRatio ||\n",
       "        this.context.backingStorePixelRatio ||\n",
       "        1;\n",
       "\n",
       "    this.ratio = (window.devicePixelRatio || 1) / backingStore;\n",
       "\n",
       "    var rubberband_canvas = (this.rubberband_canvas = document.createElement(\n",
       "        'canvas'\n",
       "    ));\n",
       "    rubberband_canvas.setAttribute(\n",
       "        'style',\n",
       "        'box-sizing: content-box; position: absolute; left: 0; top: 0; z-index: 1;'\n",
       "    );\n",
       "\n",
       "    // Apply a ponyfill if ResizeObserver is not implemented by browser.\n",
       "    if (this.ResizeObserver === undefined) {\n",
       "        if (window.ResizeObserver !== undefined) {\n",
       "            this.ResizeObserver = window.ResizeObserver;\n",
       "        } else {\n",
       "            var obs = _JSXTOOLS_RESIZE_OBSERVER({});\n",
       "            this.ResizeObserver = obs.ResizeObserver;\n",
       "        }\n",
       "    }\n",
       "\n",
       "    this.resizeObserverInstance = new this.ResizeObserver(function (entries) {\n",
       "        var nentries = entries.length;\n",
       "        for (var i = 0; i < nentries; i++) {\n",
       "            var entry = entries[i];\n",
       "            var width, height;\n",
       "            if (entry.contentBoxSize) {\n",
       "                if (entry.contentBoxSize instanceof Array) {\n",
       "                    // Chrome 84 implements new version of spec.\n",
       "                    width = entry.contentBoxSize[0].inlineSize;\n",
       "                    height = entry.contentBoxSize[0].blockSize;\n",
       "                } else {\n",
       "                    // Firefox implements old version of spec.\n",
       "                    width = entry.contentBoxSize.inlineSize;\n",
       "                    height = entry.contentBoxSize.blockSize;\n",
       "                }\n",
       "            } else {\n",
       "                // Chrome <84 implements even older version of spec.\n",
       "                width = entry.contentRect.width;\n",
       "                height = entry.contentRect.height;\n",
       "            }\n",
       "\n",
       "            // Keep the size of the canvas and rubber band canvas in sync with\n",
       "            // the canvas container.\n",
       "            if (entry.devicePixelContentBoxSize) {\n",
       "                // Chrome 84 implements new version of spec.\n",
       "                canvas.setAttribute(\n",
       "                    'width',\n",
       "                    entry.devicePixelContentBoxSize[0].inlineSize\n",
       "                );\n",
       "                canvas.setAttribute(\n",
       "                    'height',\n",
       "                    entry.devicePixelContentBoxSize[0].blockSize\n",
       "                );\n",
       "            } else {\n",
       "                canvas.setAttribute('width', width * fig.ratio);\n",
       "                canvas.setAttribute('height', height * fig.ratio);\n",
       "            }\n",
       "            canvas.setAttribute(\n",
       "                'style',\n",
       "                'width: ' + width + 'px; height: ' + height + 'px;'\n",
       "            );\n",
       "\n",
       "            rubberband_canvas.setAttribute('width', width);\n",
       "            rubberband_canvas.setAttribute('height', height);\n",
       "\n",
       "            // And update the size in Python. We ignore the initial 0/0 size\n",
       "            // that occurs as the element is placed into the DOM, which should\n",
       "            // otherwise not happen due to the minimum size styling.\n",
       "            if (fig.ws.readyState == 1 && width != 0 && height != 0) {\n",
       "                fig.request_resize(width, height);\n",
       "            }\n",
       "        }\n",
       "    });\n",
       "    this.resizeObserverInstance.observe(canvas_div);\n",
       "\n",
       "    function on_mouse_event_closure(name) {\n",
       "        return function (event) {\n",
       "            return fig.mouse_event(event, name);\n",
       "        };\n",
       "    }\n",
       "\n",
       "    rubberband_canvas.addEventListener(\n",
       "        'mousedown',\n",
       "        on_mouse_event_closure('button_press')\n",
       "    );\n",
       "    rubberband_canvas.addEventListener(\n",
       "        'mouseup',\n",
       "        on_mouse_event_closure('button_release')\n",
       "    );\n",
       "    rubberband_canvas.addEventListener(\n",
       "        'dblclick',\n",
       "        on_mouse_event_closure('dblclick')\n",
       "    );\n",
       "    // Throttle sequential mouse events to 1 every 20ms.\n",
       "    rubberband_canvas.addEventListener(\n",
       "        'mousemove',\n",
       "        on_mouse_event_closure('motion_notify')\n",
       "    );\n",
       "\n",
       "    rubberband_canvas.addEventListener(\n",
       "        'mouseenter',\n",
       "        on_mouse_event_closure('figure_enter')\n",
       "    );\n",
       "    rubberband_canvas.addEventListener(\n",
       "        'mouseleave',\n",
       "        on_mouse_event_closure('figure_leave')\n",
       "    );\n",
       "\n",
       "    canvas_div.addEventListener('wheel', function (event) {\n",
       "        if (event.deltaY < 0) {\n",
       "            event.step = 1;\n",
       "        } else {\n",
       "            event.step = -1;\n",
       "        }\n",
       "        on_mouse_event_closure('scroll')(event);\n",
       "    });\n",
       "\n",
       "    canvas_div.appendChild(canvas);\n",
       "    canvas_div.appendChild(rubberband_canvas);\n",
       "\n",
       "    this.rubberband_context = rubberband_canvas.getContext('2d');\n",
       "    this.rubberband_context.strokeStyle = '#000000';\n",
       "\n",
       "    this._resize_canvas = function (width, height, forward) {\n",
       "        if (forward) {\n",
       "            canvas_div.style.width = width + 'px';\n",
       "            canvas_div.style.height = height + 'px';\n",
       "        }\n",
       "    };\n",
       "\n",
       "    // Disable right mouse context menu.\n",
       "    this.rubberband_canvas.addEventListener('contextmenu', function (_e) {\n",
       "        event.preventDefault();\n",
       "        return false;\n",
       "    });\n",
       "\n",
       "    function set_focus() {\n",
       "        canvas.focus();\n",
       "        canvas_div.focus();\n",
       "    }\n",
       "\n",
       "    window.setTimeout(set_focus, 100);\n",
       "};\n",
       "\n",
       "mpl.figure.prototype._init_toolbar = function () {\n",
       "    var fig = this;\n",
       "\n",
       "    var toolbar = document.createElement('div');\n",
       "    toolbar.classList = 'mpl-toolbar';\n",
       "    this.root.appendChild(toolbar);\n",
       "\n",
       "    function on_click_closure(name) {\n",
       "        return function (_event) {\n",
       "            return fig.toolbar_button_onclick(name);\n",
       "        };\n",
       "    }\n",
       "\n",
       "    function on_mouseover_closure(tooltip) {\n",
       "        return function (event) {\n",
       "            if (!event.currentTarget.disabled) {\n",
       "                return fig.toolbar_button_onmouseover(tooltip);\n",
       "            }\n",
       "        };\n",
       "    }\n",
       "\n",
       "    fig.buttons = {};\n",
       "    var buttonGroup = document.createElement('div');\n",
       "    buttonGroup.classList = 'mpl-button-group';\n",
       "    for (var toolbar_ind in mpl.toolbar_items) {\n",
       "        var name = mpl.toolbar_items[toolbar_ind][0];\n",
       "        var tooltip = mpl.toolbar_items[toolbar_ind][1];\n",
       "        var image = mpl.toolbar_items[toolbar_ind][2];\n",
       "        var method_name = mpl.toolbar_items[toolbar_ind][3];\n",
       "\n",
       "        if (!name) {\n",
       "            /* Instead of a spacer, we start a new button group. */\n",
       "            if (buttonGroup.hasChildNodes()) {\n",
       "                toolbar.appendChild(buttonGroup);\n",
       "            }\n",
       "            buttonGroup = document.createElement('div');\n",
       "            buttonGroup.classList = 'mpl-button-group';\n",
       "            continue;\n",
       "        }\n",
       "\n",
       "        var button = (fig.buttons[name] = document.createElement('button'));\n",
       "        button.classList = 'mpl-widget';\n",
       "        button.setAttribute('role', 'button');\n",
       "        button.setAttribute('aria-disabled', 'false');\n",
       "        button.addEventListener('click', on_click_closure(method_name));\n",
       "        button.addEventListener('mouseover', on_mouseover_closure(tooltip));\n",
       "\n",
       "        var icon_img = document.createElement('img');\n",
       "        icon_img.src = '_images/' + image + '.png';\n",
       "        icon_img.srcset = '_images/' + image + '_large.png 2x';\n",
       "        icon_img.alt = tooltip;\n",
       "        button.appendChild(icon_img);\n",
       "\n",
       "        buttonGroup.appendChild(button);\n",
       "    }\n",
       "\n",
       "    if (buttonGroup.hasChildNodes()) {\n",
       "        toolbar.appendChild(buttonGroup);\n",
       "    }\n",
       "\n",
       "    var fmt_picker = document.createElement('select');\n",
       "    fmt_picker.classList = 'mpl-widget';\n",
       "    toolbar.appendChild(fmt_picker);\n",
       "    this.format_dropdown = fmt_picker;\n",
       "\n",
       "    for (var ind in mpl.extensions) {\n",
       "        var fmt = mpl.extensions[ind];\n",
       "        var option = document.createElement('option');\n",
       "        option.selected = fmt === mpl.default_extension;\n",
       "        option.innerHTML = fmt;\n",
       "        fmt_picker.appendChild(option);\n",
       "    }\n",
       "\n",
       "    var status_bar = document.createElement('span');\n",
       "    status_bar.classList = 'mpl-message';\n",
       "    toolbar.appendChild(status_bar);\n",
       "    this.message = status_bar;\n",
       "};\n",
       "\n",
       "mpl.figure.prototype.request_resize = function (x_pixels, y_pixels) {\n",
       "    // Request matplotlib to resize the figure. Matplotlib will then trigger a resize in the client,\n",
       "    // which will in turn request a refresh of the image.\n",
       "    this.send_message('resize', { width: x_pixels, height: y_pixels });\n",
       "};\n",
       "\n",
       "mpl.figure.prototype.send_message = function (type, properties) {\n",
       "    properties['type'] = type;\n",
       "    properties['figure_id'] = this.id;\n",
       "    this.ws.send(JSON.stringify(properties));\n",
       "};\n",
       "\n",
       "mpl.figure.prototype.send_draw_message = function () {\n",
       "    if (!this.waiting) {\n",
       "        this.waiting = true;\n",
       "        this.ws.send(JSON.stringify({ type: 'draw', figure_id: this.id }));\n",
       "    }\n",
       "};\n",
       "\n",
       "mpl.figure.prototype.handle_save = function (fig, _msg) {\n",
       "    var format_dropdown = fig.format_dropdown;\n",
       "    var format = format_dropdown.options[format_dropdown.selectedIndex].value;\n",
       "    fig.ondownload(fig, format);\n",
       "};\n",
       "\n",
       "mpl.figure.prototype.handle_resize = function (fig, msg) {\n",
       "    var size = msg['size'];\n",
       "    if (size[0] !== fig.canvas.width || size[1] !== fig.canvas.height) {\n",
       "        fig._resize_canvas(size[0], size[1], msg['forward']);\n",
       "        fig.send_message('refresh', {});\n",
       "    }\n",
       "};\n",
       "\n",
       "mpl.figure.prototype.handle_rubberband = function (fig, msg) {\n",
       "    var x0 = msg['x0'] / fig.ratio;\n",
       "    var y0 = (fig.canvas.height - msg['y0']) / fig.ratio;\n",
       "    var x1 = msg['x1'] / fig.ratio;\n",
       "    var y1 = (fig.canvas.height - msg['y1']) / fig.ratio;\n",
       "    x0 = Math.floor(x0) + 0.5;\n",
       "    y0 = Math.floor(y0) + 0.5;\n",
       "    x1 = Math.floor(x1) + 0.5;\n",
       "    y1 = Math.floor(y1) + 0.5;\n",
       "    var min_x = Math.min(x0, x1);\n",
       "    var min_y = Math.min(y0, y1);\n",
       "    var width = Math.abs(x1 - x0);\n",
       "    var height = Math.abs(y1 - y0);\n",
       "\n",
       "    fig.rubberband_context.clearRect(\n",
       "        0,\n",
       "        0,\n",
       "        fig.canvas.width / fig.ratio,\n",
       "        fig.canvas.height / fig.ratio\n",
       "    );\n",
       "\n",
       "    fig.rubberband_context.strokeRect(min_x, min_y, width, height);\n",
       "};\n",
       "\n",
       "mpl.figure.prototype.handle_figure_label = function (fig, msg) {\n",
       "    // Updates the figure title.\n",
       "    fig.header.textContent = msg['label'];\n",
       "};\n",
       "\n",
       "mpl.figure.prototype.handle_cursor = function (fig, msg) {\n",
       "    fig.rubberband_canvas.style.cursor = msg['cursor'];\n",
       "};\n",
       "\n",
       "mpl.figure.prototype.handle_message = function (fig, msg) {\n",
       "    fig.message.textContent = msg['message'];\n",
       "};\n",
       "\n",
       "mpl.figure.prototype.handle_draw = function (fig, _msg) {\n",
       "    // Request the server to send over a new figure.\n",
       "    fig.send_draw_message();\n",
       "};\n",
       "\n",
       "mpl.figure.prototype.handle_image_mode = function (fig, msg) {\n",
       "    fig.image_mode = msg['mode'];\n",
       "};\n",
       "\n",
       "mpl.figure.prototype.handle_history_buttons = function (fig, msg) {\n",
       "    for (var key in msg) {\n",
       "        if (!(key in fig.buttons)) {\n",
       "            continue;\n",
       "        }\n",
       "        fig.buttons[key].disabled = !msg[key];\n",
       "        fig.buttons[key].setAttribute('aria-disabled', !msg[key]);\n",
       "    }\n",
       "};\n",
       "\n",
       "mpl.figure.prototype.handle_navigate_mode = function (fig, msg) {\n",
       "    if (msg['mode'] === 'PAN') {\n",
       "        fig.buttons['Pan'].classList.add('active');\n",
       "        fig.buttons['Zoom'].classList.remove('active');\n",
       "    } else if (msg['mode'] === 'ZOOM') {\n",
       "        fig.buttons['Pan'].classList.remove('active');\n",
       "        fig.buttons['Zoom'].classList.add('active');\n",
       "    } else {\n",
       "        fig.buttons['Pan'].classList.remove('active');\n",
       "        fig.buttons['Zoom'].classList.remove('active');\n",
       "    }\n",
       "};\n",
       "\n",
       "mpl.figure.prototype.updated_canvas_event = function () {\n",
       "    // Called whenever the canvas gets updated.\n",
       "    this.send_message('ack', {});\n",
       "};\n",
       "\n",
       "// A function to construct a web socket function for onmessage handling.\n",
       "// Called in the figure constructor.\n",
       "mpl.figure.prototype._make_on_message_function = function (fig) {\n",
       "    return function socket_on_message(evt) {\n",
       "        if (evt.data instanceof Blob) {\n",
       "            var img = evt.data;\n",
       "            if (img.type !== 'image/png') {\n",
       "                /* FIXME: We get \"Resource interpreted as Image but\n",
       "                 * transferred with MIME type text/plain:\" errors on\n",
       "                 * Chrome.  But how to set the MIME type?  It doesn't seem\n",
       "                 * to be part of the websocket stream */\n",
       "                img.type = 'image/png';\n",
       "            }\n",
       "\n",
       "            /* Free the memory for the previous frames */\n",
       "            if (fig.imageObj.src) {\n",
       "                (window.URL || window.webkitURL).revokeObjectURL(\n",
       "                    fig.imageObj.src\n",
       "                );\n",
       "            }\n",
       "\n",
       "            fig.imageObj.src = (window.URL || window.webkitURL).createObjectURL(\n",
       "                img\n",
       "            );\n",
       "            fig.updated_canvas_event();\n",
       "            fig.waiting = false;\n",
       "            return;\n",
       "        } else if (\n",
       "            typeof evt.data === 'string' &&\n",
       "            evt.data.slice(0, 21) === 'data:image/png;base64'\n",
       "        ) {\n",
       "            fig.imageObj.src = evt.data;\n",
       "            fig.updated_canvas_event();\n",
       "            fig.waiting = false;\n",
       "            return;\n",
       "        }\n",
       "\n",
       "        var msg = JSON.parse(evt.data);\n",
       "        var msg_type = msg['type'];\n",
       "\n",
       "        // Call the  \"handle_{type}\" callback, which takes\n",
       "        // the figure and JSON message as its only arguments.\n",
       "        try {\n",
       "            var callback = fig['handle_' + msg_type];\n",
       "        } catch (e) {\n",
       "            console.log(\n",
       "                \"No handler for the '\" + msg_type + \"' message type: \",\n",
       "                msg\n",
       "            );\n",
       "            return;\n",
       "        }\n",
       "\n",
       "        if (callback) {\n",
       "            try {\n",
       "                // console.log(\"Handling '\" + msg_type + \"' message: \", msg);\n",
       "                callback(fig, msg);\n",
       "            } catch (e) {\n",
       "                console.log(\n",
       "                    \"Exception inside the 'handler_\" + msg_type + \"' callback:\",\n",
       "                    e,\n",
       "                    e.stack,\n",
       "                    msg\n",
       "                );\n",
       "            }\n",
       "        }\n",
       "    };\n",
       "};\n",
       "\n",
       "// from https://stackoverflow.com/questions/1114465/getting-mouse-location-in-canvas\n",
       "mpl.findpos = function (e) {\n",
       "    //this section is from http://www.quirksmode.org/js/events_properties.html\n",
       "    var targ;\n",
       "    if (!e) {\n",
       "        e = window.event;\n",
       "    }\n",
       "    if (e.target) {\n",
       "        targ = e.target;\n",
       "    } else if (e.srcElement) {\n",
       "        targ = e.srcElement;\n",
       "    }\n",
       "    if (targ.nodeType === 3) {\n",
       "        // defeat Safari bug\n",
       "        targ = targ.parentNode;\n",
       "    }\n",
       "\n",
       "    // pageX,Y are the mouse positions relative to the document\n",
       "    var boundingRect = targ.getBoundingClientRect();\n",
       "    var x = e.pageX - (boundingRect.left + document.body.scrollLeft);\n",
       "    var y = e.pageY - (boundingRect.top + document.body.scrollTop);\n",
       "\n",
       "    return { x: x, y: y };\n",
       "};\n",
       "\n",
       "/*\n",
       " * return a copy of an object with only non-object keys\n",
       " * we need this to avoid circular references\n",
       " * https://stackoverflow.com/a/24161582/3208463\n",
       " */\n",
       "function simpleKeys(original) {\n",
       "    return Object.keys(original).reduce(function (obj, key) {\n",
       "        if (typeof original[key] !== 'object') {\n",
       "            obj[key] = original[key];\n",
       "        }\n",
       "        return obj;\n",
       "    }, {});\n",
       "}\n",
       "\n",
       "mpl.figure.prototype.mouse_event = function (event, name) {\n",
       "    var canvas_pos = mpl.findpos(event);\n",
       "\n",
       "    if (name === 'button_press') {\n",
       "        this.canvas.focus();\n",
       "        this.canvas_div.focus();\n",
       "    }\n",
       "\n",
       "    var x = canvas_pos.x * this.ratio;\n",
       "    var y = canvas_pos.y * this.ratio;\n",
       "\n",
       "    this.send_message(name, {\n",
       "        x: x,\n",
       "        y: y,\n",
       "        button: event.button,\n",
       "        step: event.step,\n",
       "        guiEvent: simpleKeys(event),\n",
       "    });\n",
       "\n",
       "    /* This prevents the web browser from automatically changing to\n",
       "     * the text insertion cursor when the button is pressed.  We want\n",
       "     * to control all of the cursor setting manually through the\n",
       "     * 'cursor' event from matplotlib */\n",
       "    event.preventDefault();\n",
       "    return false;\n",
       "};\n",
       "\n",
       "mpl.figure.prototype._key_event_extra = function (_event, _name) {\n",
       "    // Handle any extra behaviour associated with a key event\n",
       "};\n",
       "\n",
       "mpl.figure.prototype.key_event = function (event, name) {\n",
       "    // Prevent repeat events\n",
       "    if (name === 'key_press') {\n",
       "        if (event.key === this._key) {\n",
       "            return;\n",
       "        } else {\n",
       "            this._key = event.key;\n",
       "        }\n",
       "    }\n",
       "    if (name === 'key_release') {\n",
       "        this._key = null;\n",
       "    }\n",
       "\n",
       "    var value = '';\n",
       "    if (event.ctrlKey && event.key !== 'Control') {\n",
       "        value += 'ctrl+';\n",
       "    }\n",
       "    else if (event.altKey && event.key !== 'Alt') {\n",
       "        value += 'alt+';\n",
       "    }\n",
       "    else if (event.shiftKey && event.key !== 'Shift') {\n",
       "        value += 'shift+';\n",
       "    }\n",
       "\n",
       "    value += 'k' + event.key;\n",
       "\n",
       "    this._key_event_extra(event, name);\n",
       "\n",
       "    this.send_message(name, { key: value, guiEvent: simpleKeys(event) });\n",
       "    return false;\n",
       "};\n",
       "\n",
       "mpl.figure.prototype.toolbar_button_onclick = function (name) {\n",
       "    if (name === 'download') {\n",
       "        this.handle_save(this, null);\n",
       "    } else {\n",
       "        this.send_message('toolbar_button', { name: name });\n",
       "    }\n",
       "};\n",
       "\n",
       "mpl.figure.prototype.toolbar_button_onmouseover = function (tooltip) {\n",
       "    this.message.textContent = tooltip;\n",
       "};\n",
       "\n",
       "///////////////// REMAINING CONTENT GENERATED BY embed_js.py /////////////////\n",
       "// prettier-ignore\n",
       "var _JSXTOOLS_RESIZE_OBSERVER=function(A){var t,i=new WeakMap,n=new WeakMap,a=new WeakMap,r=new WeakMap,o=new Set;function s(e){if(!(this instanceof s))throw new TypeError(\"Constructor requires 'new' operator\");i.set(this,e)}function h(){throw new TypeError(\"Function is not a constructor\")}function c(e,t,i,n){e=0 in arguments?Number(arguments[0]):0,t=1 in arguments?Number(arguments[1]):0,i=2 in arguments?Number(arguments[2]):0,n=3 in arguments?Number(arguments[3]):0,this.right=(this.x=this.left=e)+(this.width=i),this.bottom=(this.y=this.top=t)+(this.height=n),Object.freeze(this)}function d(){t=requestAnimationFrame(d);var s=new WeakMap,p=new Set;o.forEach((function(t){r.get(t).forEach((function(i){var r=t instanceof window.SVGElement,o=a.get(t),d=r?0:parseFloat(o.paddingTop),f=r?0:parseFloat(o.paddingRight),l=r?0:parseFloat(o.paddingBottom),u=r?0:parseFloat(o.paddingLeft),g=r?0:parseFloat(o.borderTopWidth),m=r?0:parseFloat(o.borderRightWidth),w=r?0:parseFloat(o.borderBottomWidth),b=u+f,F=d+l,v=(r?0:parseFloat(o.borderLeftWidth))+m,W=g+w,y=r?0:t.offsetHeight-W-t.clientHeight,E=r?0:t.offsetWidth-v-t.clientWidth,R=b+v,z=F+W,M=r?t.width:parseFloat(o.width)-R-E,O=r?t.height:parseFloat(o.height)-z-y;if(n.has(t)){var k=n.get(t);if(k[0]===M&&k[1]===O)return}n.set(t,[M,O]);var S=Object.create(h.prototype);S.target=t,S.contentRect=new c(u,d,M,O),s.has(i)||(s.set(i,[]),p.add(i)),s.get(i).push(S)}))})),p.forEach((function(e){i.get(e).call(e,s.get(e),e)}))}return s.prototype.observe=function(i){if(i instanceof window.Element){r.has(i)||(r.set(i,new Set),o.add(i),a.set(i,window.getComputedStyle(i)));var n=r.get(i);n.has(this)||n.add(this),cancelAnimationFrame(t),t=requestAnimationFrame(d)}},s.prototype.unobserve=function(i){if(i instanceof window.Element&&r.has(i)){var n=r.get(i);n.has(this)&&(n.delete(this),n.size||(r.delete(i),o.delete(i))),n.size||r.delete(i),o.size||cancelAnimationFrame(t)}},A.DOMRectReadOnly=c,A.ResizeObserver=s,A.ResizeObserverEntry=h,A}; // eslint-disable-line\n",
       "mpl.toolbar_items = [[\"Home\", \"Reset original view\", \"fa fa-home icon-home\", \"home\"], [\"Back\", \"Back to previous view\", \"fa fa-arrow-left icon-arrow-left\", \"back\"], [\"Forward\", \"Forward to next view\", \"fa fa-arrow-right icon-arrow-right\", \"forward\"], [\"\", \"\", \"\", \"\"], [\"Pan\", \"Left button pans, Right button zooms\\nx/y fixes axis, CTRL fixes aspect\", \"fa fa-arrows icon-move\", \"pan\"], [\"Zoom\", \"Zoom to rectangle\\nx/y fixes axis\", \"fa fa-square-o icon-check-empty\", \"zoom\"], [\"\", \"\", \"\", \"\"], [\"Download\", \"Download plot\", \"fa fa-floppy-o icon-save\", \"download\"]];\n",
       "\n",
       "mpl.extensions = [\"eps\", \"jpeg\", \"pgf\", \"pdf\", \"png\", \"ps\", \"raw\", \"svg\", \"tif\"];\n",
       "\n",
       "mpl.default_extension = \"png\";/* global mpl */\n",
       "\n",
       "var comm_websocket_adapter = function (comm) {\n",
       "    // Create a \"websocket\"-like object which calls the given IPython comm\n",
       "    // object with the appropriate methods. Currently this is a non binary\n",
       "    // socket, so there is still some room for performance tuning.\n",
       "    var ws = {};\n",
       "\n",
       "    ws.binaryType = comm.kernel.ws.binaryType;\n",
       "    ws.readyState = comm.kernel.ws.readyState;\n",
       "    function updateReadyState(_event) {\n",
       "        if (comm.kernel.ws) {\n",
       "            ws.readyState = comm.kernel.ws.readyState;\n",
       "        } else {\n",
       "            ws.readyState = 3; // Closed state.\n",
       "        }\n",
       "    }\n",
       "    comm.kernel.ws.addEventListener('open', updateReadyState);\n",
       "    comm.kernel.ws.addEventListener('close', updateReadyState);\n",
       "    comm.kernel.ws.addEventListener('error', updateReadyState);\n",
       "\n",
       "    ws.close = function () {\n",
       "        comm.close();\n",
       "    };\n",
       "    ws.send = function (m) {\n",
       "        //console.log('sending', m);\n",
       "        comm.send(m);\n",
       "    };\n",
       "    // Register the callback with on_msg.\n",
       "    comm.on_msg(function (msg) {\n",
       "        //console.log('receiving', msg['content']['data'], msg);\n",
       "        var data = msg['content']['data'];\n",
       "        if (data['blob'] !== undefined) {\n",
       "            data = {\n",
       "                data: new Blob(msg['buffers'], { type: data['blob'] }),\n",
       "            };\n",
       "        }\n",
       "        // Pass the mpl event to the overridden (by mpl) onmessage function.\n",
       "        ws.onmessage(data);\n",
       "    });\n",
       "    return ws;\n",
       "};\n",
       "\n",
       "mpl.mpl_figure_comm = function (comm, msg) {\n",
       "    // This is the function which gets called when the mpl process\n",
       "    // starts-up an IPython Comm through the \"matplotlib\" channel.\n",
       "\n",
       "    var id = msg.content.data.id;\n",
       "    // Get hold of the div created by the display call when the Comm\n",
       "    // socket was opened in Python.\n",
       "    var element = document.getElementById(id);\n",
       "    var ws_proxy = comm_websocket_adapter(comm);\n",
       "\n",
       "    function ondownload(figure, _format) {\n",
       "        window.open(figure.canvas.toDataURL());\n",
       "    }\n",
       "\n",
       "    var fig = new mpl.figure(id, ws_proxy, ondownload, element);\n",
       "\n",
       "    // Call onopen now - mpl needs it, as it is assuming we've passed it a real\n",
       "    // web socket which is closed, not our websocket->open comm proxy.\n",
       "    ws_proxy.onopen();\n",
       "\n",
       "    fig.parent_element = element;\n",
       "    fig.cell_info = mpl.find_output_cell(\"<div id='\" + id + \"'></div>\");\n",
       "    if (!fig.cell_info) {\n",
       "        console.error('Failed to find cell for figure', id, fig);\n",
       "        return;\n",
       "    }\n",
       "    fig.cell_info[0].output_area.element.on(\n",
       "        'cleared',\n",
       "        { fig: fig },\n",
       "        fig._remove_fig_handler\n",
       "    );\n",
       "};\n",
       "\n",
       "mpl.figure.prototype.handle_close = function (fig, msg) {\n",
       "    var width = fig.canvas.width / fig.ratio;\n",
       "    fig.cell_info[0].output_area.element.off(\n",
       "        'cleared',\n",
       "        fig._remove_fig_handler\n",
       "    );\n",
       "    fig.resizeObserverInstance.unobserve(fig.canvas_div);\n",
       "\n",
       "    // Update the output cell to use the data from the current canvas.\n",
       "    fig.push_to_output();\n",
       "    var dataURL = fig.canvas.toDataURL();\n",
       "    // Re-enable the keyboard manager in IPython - without this line, in FF,\n",
       "    // the notebook keyboard shortcuts fail.\n",
       "    IPython.keyboard_manager.enable();\n",
       "    fig.parent_element.innerHTML =\n",
       "        '<img src=\"' + dataURL + '\" width=\"' + width + '\">';\n",
       "    fig.close_ws(fig, msg);\n",
       "};\n",
       "\n",
       "mpl.figure.prototype.close_ws = function (fig, msg) {\n",
       "    fig.send_message('closing', msg);\n",
       "    // fig.ws.close()\n",
       "};\n",
       "\n",
       "mpl.figure.prototype.push_to_output = function (_remove_interactive) {\n",
       "    // Turn the data on the canvas into data in the output cell.\n",
       "    var width = this.canvas.width / this.ratio;\n",
       "    var dataURL = this.canvas.toDataURL();\n",
       "    this.cell_info[1]['text/html'] =\n",
       "        '<img src=\"' + dataURL + '\" width=\"' + width + '\">';\n",
       "};\n",
       "\n",
       "mpl.figure.prototype.updated_canvas_event = function () {\n",
       "    // Tell IPython that the notebook contents must change.\n",
       "    IPython.notebook.set_dirty(true);\n",
       "    this.send_message('ack', {});\n",
       "    var fig = this;\n",
       "    // Wait a second, then push the new image to the DOM so\n",
       "    // that it is saved nicely (might be nice to debounce this).\n",
       "    setTimeout(function () {\n",
       "        fig.push_to_output();\n",
       "    }, 1000);\n",
       "};\n",
       "\n",
       "mpl.figure.prototype._init_toolbar = function () {\n",
       "    var fig = this;\n",
       "\n",
       "    var toolbar = document.createElement('div');\n",
       "    toolbar.classList = 'btn-toolbar';\n",
       "    this.root.appendChild(toolbar);\n",
       "\n",
       "    function on_click_closure(name) {\n",
       "        return function (_event) {\n",
       "            return fig.toolbar_button_onclick(name);\n",
       "        };\n",
       "    }\n",
       "\n",
       "    function on_mouseover_closure(tooltip) {\n",
       "        return function (event) {\n",
       "            if (!event.currentTarget.disabled) {\n",
       "                return fig.toolbar_button_onmouseover(tooltip);\n",
       "            }\n",
       "        };\n",
       "    }\n",
       "\n",
       "    fig.buttons = {};\n",
       "    var buttonGroup = document.createElement('div');\n",
       "    buttonGroup.classList = 'btn-group';\n",
       "    var button;\n",
       "    for (var toolbar_ind in mpl.toolbar_items) {\n",
       "        var name = mpl.toolbar_items[toolbar_ind][0];\n",
       "        var tooltip = mpl.toolbar_items[toolbar_ind][1];\n",
       "        var image = mpl.toolbar_items[toolbar_ind][2];\n",
       "        var method_name = mpl.toolbar_items[toolbar_ind][3];\n",
       "\n",
       "        if (!name) {\n",
       "            /* Instead of a spacer, we start a new button group. */\n",
       "            if (buttonGroup.hasChildNodes()) {\n",
       "                toolbar.appendChild(buttonGroup);\n",
       "            }\n",
       "            buttonGroup = document.createElement('div');\n",
       "            buttonGroup.classList = 'btn-group';\n",
       "            continue;\n",
       "        }\n",
       "\n",
       "        button = fig.buttons[name] = document.createElement('button');\n",
       "        button.classList = 'btn btn-default';\n",
       "        button.href = '#';\n",
       "        button.title = name;\n",
       "        button.innerHTML = '<i class=\"fa ' + image + ' fa-lg\"></i>';\n",
       "        button.addEventListener('click', on_click_closure(method_name));\n",
       "        button.addEventListener('mouseover', on_mouseover_closure(tooltip));\n",
       "        buttonGroup.appendChild(button);\n",
       "    }\n",
       "\n",
       "    if (buttonGroup.hasChildNodes()) {\n",
       "        toolbar.appendChild(buttonGroup);\n",
       "    }\n",
       "\n",
       "    // Add the status bar.\n",
       "    var status_bar = document.createElement('span');\n",
       "    status_bar.classList = 'mpl-message pull-right';\n",
       "    toolbar.appendChild(status_bar);\n",
       "    this.message = status_bar;\n",
       "\n",
       "    // Add the close button to the window.\n",
       "    var buttongrp = document.createElement('div');\n",
       "    buttongrp.classList = 'btn-group inline pull-right';\n",
       "    button = document.createElement('button');\n",
       "    button.classList = 'btn btn-mini btn-primary';\n",
       "    button.href = '#';\n",
       "    button.title = 'Stop Interaction';\n",
       "    button.innerHTML = '<i class=\"fa fa-power-off icon-remove icon-large\"></i>';\n",
       "    button.addEventListener('click', function (_evt) {\n",
       "        fig.handle_close(fig, {});\n",
       "    });\n",
       "    button.addEventListener(\n",
       "        'mouseover',\n",
       "        on_mouseover_closure('Stop Interaction')\n",
       "    );\n",
       "    buttongrp.appendChild(button);\n",
       "    var titlebar = this.root.querySelector('.ui-dialog-titlebar');\n",
       "    titlebar.insertBefore(buttongrp, titlebar.firstChild);\n",
       "};\n",
       "\n",
       "mpl.figure.prototype._remove_fig_handler = function (event) {\n",
       "    var fig = event.data.fig;\n",
       "    if (event.target !== this) {\n",
       "        // Ignore bubbled events from children.\n",
       "        return;\n",
       "    }\n",
       "    fig.close_ws(fig, {});\n",
       "};\n",
       "\n",
       "mpl.figure.prototype._root_extra_style = function (el) {\n",
       "    el.style.boxSizing = 'content-box'; // override notebook setting of border-box.\n",
       "};\n",
       "\n",
       "mpl.figure.prototype._canvas_extra_style = function (el) {\n",
       "    // this is important to make the div 'focusable\n",
       "    el.setAttribute('tabindex', 0);\n",
       "    // reach out to IPython and tell the keyboard manager to turn it's self\n",
       "    // off when our div gets focus\n",
       "\n",
       "    // location in version 3\n",
       "    if (IPython.notebook.keyboard_manager) {\n",
       "        IPython.notebook.keyboard_manager.register_events(el);\n",
       "    } else {\n",
       "        // location in version 2\n",
       "        IPython.keyboard_manager.register_events(el);\n",
       "    }\n",
       "};\n",
       "\n",
       "mpl.figure.prototype._key_event_extra = function (event, _name) {\n",
       "    // Check for shift+enter\n",
       "    if (event.shiftKey && event.which === 13) {\n",
       "        this.canvas_div.blur();\n",
       "        // select the cell after this one\n",
       "        var index = IPython.notebook.find_cell_index(this.cell_info[0]);\n",
       "        IPython.notebook.select(index + 1);\n",
       "    }\n",
       "};\n",
       "\n",
       "mpl.figure.prototype.handle_save = function (fig, _msg) {\n",
       "    fig.ondownload(fig, null);\n",
       "};\n",
       "\n",
       "mpl.find_output_cell = function (html_output) {\n",
       "    // Return the cell and output element which can be found *uniquely* in the notebook.\n",
       "    // Note - this is a bit hacky, but it is done because the \"notebook_saving.Notebook\"\n",
       "    // IPython event is triggered only after the cells have been serialised, which for\n",
       "    // our purposes (turning an active figure into a static one), is too late.\n",
       "    var cells = IPython.notebook.get_cells();\n",
       "    var ncells = cells.length;\n",
       "    for (var i = 0; i < ncells; i++) {\n",
       "        var cell = cells[i];\n",
       "        if (cell.cell_type === 'code') {\n",
       "            for (var j = 0; j < cell.output_area.outputs.length; j++) {\n",
       "                var data = cell.output_area.outputs[j];\n",
       "                if (data.data) {\n",
       "                    // IPython >= 3 moved mimebundle to data attribute of output\n",
       "                    data = data.data;\n",
       "                }\n",
       "                if (data['text/html'] === html_output) {\n",
       "                    return [cell, data, j];\n",
       "                }\n",
       "            }\n",
       "        }\n",
       "    }\n",
       "};\n",
       "\n",
       "// Register the function which deals with the matplotlib target/channel.\n",
       "// The kernel may be null if the page has been refreshed.\n",
       "if (IPython.notebook.kernel !== null) {\n",
       "    IPython.notebook.kernel.comm_manager.register_target(\n",
       "        'matplotlib',\n",
       "        mpl.mpl_figure_comm\n",
       "    );\n",
       "}\n"
      ],
      "text/plain": [
       "<IPython.core.display.Javascript object>"
      ]
     },
     "metadata": {},
     "output_type": "display_data"
    },
    {
     "data": {
      "text/html": [
       "<img src=\"data:image/png;base64,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\" width=\"640\">"
      ],
      "text/plain": [
       "<IPython.core.display.HTML object>"
      ]
     },
     "metadata": {},
     "output_type": "display_data"
    }
   ],
   "source": [
    "%matplotlib notebook\n",
    "import numpy as np\n",
    "import matplotlib.pyplot as plt\n",
    "from mpl_toolkits.mplot3d import Axes3D\n",
    "\n",
    "# Create a figure and 3D axis\n",
    "fig = plt.figure()\n",
    "ax = fig.add_subplot(111, projection='3d')\n",
    "g = 9.8 # m/s^2\n",
    "T1 = 3 # seconds\n",
    "T2 = 10 # seconds\n",
    "L = 24 # meters\n",
    "n1 = 30 # number of points for T1 plot\n",
    "n2 = int(n1*T2/T1) # number of points for T2 plot\n",
    "\n",
    "# Generate data for the first plot\n",
    "t1 = np.linspace(0, T1, n1)\n",
    "x1 = (L/T1)*t1\n",
    "y1 = (1/2)*g*(T1-t1)*t1\n",
    "z1 = t1\n",
    "\n",
    "# Plot the first 3D line\n",
    "ax.plot3D(z1, x1, y1, label='Plot 1')\n",
    "\n",
    "# Generate data for the second plot\n",
    "t2 = np.linspace(0, T2, n2)\n",
    "x2 = (L/T2)*t2\n",
    "y2 = (1/2)*g*(T2-t2)*t2\n",
    "z2 = t2\n",
    "\n",
    "# Plot the second 3D line\n",
    "ax.plot3D(z2, x2, y2, label='Plot 2')\n",
    "\n",
    "# Set labels and legend\n",
    "ax.set_xlabel('t')\n",
    "ax.set_ylabel('x')\n",
    "ax.set_zlabel('y')\n",
    "ax.legend()\n",
    "\n",
    "plt.show()"
   ]
  },
  {
   "cell_type": "markdown",
   "id": "3eef2eb9",
   "metadata": {},
   "source": [
    "The 3D plot above can be rotated 90 degrees in the down direction (using the right-hand rule) about the y-axis to alter the view from $y$ as a function of $x$ to $y$ as a funciton of $t$. The view of $y$ as a function of $x$ shows two parabolas with different curvature seemingly implying a different strength of force at work. The view of $y$ as a function of $t$ shows two different snippets of the same parabola, that is, the two parabolas have the same curvature correctly implying the same strength of force acting in both.\n",
    "\n",
    "### Celestial mechanics solved\n",
    "\n",
    "Zee skips some algebra in this section. Let's work through it. Let's multiply the first equation in Equation (7) by $\\sin\\theta$ and the second by $\\cos\\theta$ and add them together.\n",
    "\n",
    "$$\\cos\\theta \\ddot{x} = -\\cos\\theta\\left(\\kappa x / r^3\\right)$$\n",
    "\n",
    "$$\\sin\\theta \\ddot{y} = -\\sin\\theta\\left(\\kappa y / r^3\\right)$$\n",
    "\n",
    "$$\\cos\\theta \\ddot{x} + \\sin\\theta \\ddot{y} = -\\cos\\theta\\left(\\kappa x / r^3\\right)-\\sin\\theta\\left(\\kappa y / r^3\\right)$$\n",
    "\n",
    "Working with the right-hand side of the equation:\n",
    "\n",
    "$$-\\cos\\theta\\left(\\kappa x / r^3\\right)-\\sin\\theta\\left(\\kappa x / r^3\\right) = \\frac{-\\kappa}{r^3}\\left(x\\cos\\theta+y\\sin\\theta\\right)$$\n",
    "\n",
    "Then using these relationships: $\\cos\\theta = \\frac{x}{r}$ and $\\sin\\theta = \\frac{y}{r}$.\n",
    "\n",
    "$$\\frac{-\\kappa}{r^3}\\left(x\\cos\\theta+y\\sin\\theta\\right) = \\frac{-\\kappa}{r^3}\\left(\\frac{x^2}{r}+\\frac{y^2}{r}\\right)=\\frac{-\\kappa}{r^3}\\left(\\frac{x^2+y^2}{r}\\right)$$\n",
    "\n",
    "And in two dimensions $r^2=x^2+y^2$.\n",
    "\n",
    "$$\\frac{-\\kappa}{r^3}\\left(\\frac{x^2+y^2}{r}\\right)=\\frac{-\\kappa}{r^3}\\left(\\frac{r^2}{r}\\right)=\\frac{-\\kappa}{r^3}r=\\frac{-\\kappa}{r^2}$$\n",
    "\n",
    "To work with the left-hand side, let's use these relationships:\n",
    "\n",
    "$$\\ddot{x}=\\ddot{r}\\cos{\\theta}-2\\dot{r}\\sin{\\theta}\\dot{\\theta}-r\\cos{\\theta}\\dot{\\theta}^2-r\\sin{\\theta}\\ddot{\\theta}$$\n",
    "\n",
    "$$\\ddot{y}=\\ddot{r}\\sin{\\theta}+2\\dot{r}\\cos{\\theta}\\dot{\\theta}-r\\sin{\\theta}\\dot{\\theta}^2+r\\cos{\\theta}\\ddot{\\theta}$$\n",
    "\n",
    "Substituting the above for $\\ddot{x}$ and $\\ddot{y}$ in $\\cos{\\theta}\\ddot{x}$ and $\\sin{\\theta}\\ddot{y}$:\n",
    "\n",
    "$$\\cos\\theta \\ddot{x} = \\ddot{r}\\cos^2{\\theta}-2\\dot{r}\\sin{\\theta}\\cos{\\theta}\\dot{\\theta}-r\\cos^2{\\theta}\\dot{\\theta}^2-r\\sin{\\theta}\\cos{\\theta}\\ddot{\\theta}$$\n",
    "\n",
    "$$\\sin\\theta \\ddot{y} = \\ddot{r}\\sin^2{\\theta}+2\\dot{r}\\sin\\theta\\cos{\\theta}\\dot{\\theta}-r\\sin^2{\\theta}\\dot{\\theta}^2+r\\sin\\theta\\cos{\\theta}\\ddot{\\theta}$$\n",
    "\n",
    "Adding them together:\n",
    "\n",
    "$$\\cos\\theta \\ddot{x} + \\sin\\theta \\ddot{y} = \\ddot{r}\\cos^2{\\theta}-2\\dot{r}\\sin{\\theta}\\cos{\\theta}\\dot{\\theta}-r\\cos^2{\\theta}\\dot{\\theta}^2-r\\sin{\\theta}\\cos{\\theta}\\ddot{\\theta} + \\ddot{r}\\sin^2{\\theta}+2\\dot{r}\\sin\\theta\\cos{\\theta}\\dot{\\theta}-r\\sin^2{\\theta}\\dot{\\theta}^2+r\\sin\\theta\\cos{\\theta}\\ddot{\\theta}$$\n",
    "\n",
    "$$\\cos\\theta \\ddot{x} + \\sin\\theta \\ddot{y} = \\left(\\ddot{r}\\cos^2{\\theta}+\\ddot{r}\\sin^2{\\theta}\\right) + \\left(-2\\dot{r}\\sin{\\theta}\\cos{\\theta}\\dot{\\theta}+2\\dot{r}\\sin\\theta\\cos{\\theta}\\dot{\\theta}\\right) + \\left(-r\\cos^2{\\theta}\\dot{\\theta}^2-r\\sin^2{\\theta}\\dot{\\theta}^2\\right) + \\left(-r\\sin{\\theta}\\cos{\\theta}\\ddot{\\theta}+r\\sin\\theta\\cos{\\theta}\\ddot{\\theta}\\right)$$\n",
    "\n",
    "$$\\cos\\theta \\ddot{x} + \\sin\\theta \\ddot{y} = \\left(\\ddot{r}\\cos^2{\\theta}+\\ddot{r}\\sin^2{\\theta}\\right) + \\left(-r\\cos^2{\\theta}\\dot{\\theta}^2-r\\sin^2{\\theta}\\dot{\\theta}^2\\right)$$\n",
    "\n",
    "$$\\cos\\theta \\ddot{x} + \\sin\\theta \\ddot{y} = \\ddot{r}\\left(\\cos^2{\\theta}+\\sin^2{\\theta}\\right) - r\\dot{\\theta}^2\\left(\\cos^2{\\theta}+\\sin^2{\\theta}\\right) = \\ddot{r}-r\\dot{\\theta}^2$$\n",
    "\n",
    "That verifies Equation (12). To verify Equation (13) we multiply the first equation in (7) by $\\sin\\theta$ and the second equation by $\\cos\\theta$ and subtract.\n",
    "\n",
    "$$\\sin\\theta\\ddot{x}=\\sin\\theta\\frac{-\\kappa x}{r^3}$$\n",
    "\n",
    "$$\\cos\\theta\\ddot{y}=\\cos\\theta\\frac{-\\kappa y}{r^3}$$\n",
    "\n",
    "$$\\sin\\theta\\ddot{x}-\\cos\\theta\\ddot{y}=\\sin\\theta\\frac{-\\kappa x}{r^3}-\\cos\\theta\\frac{-\\kappa y}{r^3}$$\n",
    "\n",
    "Working with the right-hand side and using the relationships $x=\\cos\\theta r$ and $y=\\sin\\theta r$:\n",
    "\n",
    "$$\\sin\\theta\\frac{-\\kappa x}{r^3}-\\cos\\theta\\frac{-\\kappa y}{r^3}=\\sin\\theta\\cos\\theta\\frac{-\\kappa}{r^2}-\\sin\\theta\\cos\\theta\\frac{-\\kappa}{r^2}=0$$\n",
    "\n",
    "Working with the left-hand side and using these relationships again:\n",
    "\n",
    "$$\\ddot{x}=\\ddot{r}\\cos{\\theta}-2\\dot{r}\\sin{\\theta}\\dot{\\theta}-r\\cos{\\theta}\\dot{\\theta}^2-r\\sin{\\theta}\\ddot{\\theta}$$\n",
    "\n",
    "$$\\ddot{y}=\\ddot{r}\\sin{\\theta}+2\\dot{r}\\cos{\\theta}\\dot{\\theta}-r\\sin{\\theta}\\dot{\\theta}^2+r\\cos{\\theta}\\ddot{\\theta}$$\n",
    "\n",
    "$$\\sin\\theta\\ddot{x}=\\ddot{r}\\sin\\theta\\cos{\\theta}-2\\dot{r}\\sin^2{\\theta}\\dot{\\theta}-r\\sin\\theta\\cos{\\theta}\\dot{\\theta}^2-r\\sin^2{\\theta}\\ddot{\\theta}$$\n",
    "\n",
    "$$\\cos\\theta\\ddot{y}=\\ddot{r}\\sin{\\theta}\\cos\\theta+2\\dot{r}\\cos^2{\\theta}\\dot{\\theta}-r\\sin{\\theta}\\cos\\theta\\dot{\\theta}^2+r\\cos^2{\\theta}\\ddot{\\theta}$$\n",
    "\n",
    "$$\\sin\\theta\\ddot{x}-\\cos\\theta\\ddot{y}=\\ddot{r}\\sin\\theta\\cos{\\theta}-2\\dot{r}\\sin^2{\\theta}\\dot{\\theta}-r\\sin\\theta\\cos{\\theta}\\dot{\\theta}^2-r\\sin^2{\\theta}\\ddot{\\theta}-\\left(\\ddot{r}\\sin{\\theta}\\cos\\theta+2\\dot{r}\\cos^2{\\theta}\\dot{\\theta}-r\\sin{\\theta}\\cos\\theta\\dot{\\theta}^2+r\\cos^2{\\theta}\\ddot{\\theta}\\right)$$\n",
    "\n",
    "$$\\sin\\theta\\ddot{x}-\\cos\\theta\\ddot{y}=\\left(\\ddot{r}\\sin\\theta\\cos{\\theta}-\\ddot{r}\\sin{\\theta}\\cos\\theta\\right)+\\left(-2\\dot{r}\\sin^2{\\theta}\\dot{\\theta}-2\\dot{r}\\cos^2{\\theta}\\dot{\\theta}\\right)+\\left(-r\\sin\\theta\\cos{\\theta}\\dot{\\theta}^2+r\\sin{\\theta}\\cos\\theta\\dot{\\theta}^2\\right)+\\left(-r\\sin^2{\\theta}\\ddot{\\theta}-r\\cos^2{\\theta}\\ddot{\\theta}\\right)$$\n",
    "\n",
    "$$\\sin\\theta\\ddot{x}-\\cos\\theta\\ddot{y}=-2\\dot{r}\\dot{\\theta}(\\sin^2{\\theta}+\\cos^2\\theta)-r\\ddot{\\theta}(\\sin^2{\\theta}+\\cos^2\\theta)=-2\\dot{r}\\dot{\\theta}-r\\ddot{\\theta}$$\n",
    "\n",
    "Finally, combining the two sides:\n",
    "\n",
    "$$-2\\dot{r}\\dot{\\theta}-r\\ddot{\\theta}=0$$\n",
    "\n",
    "which is the same as\n",
    "\n",
    "$$2\\dot{r}\\dot{\\theta}+r\\ddot{\\theta}=0$$\n",
    "\n",
    "which verifies Equation (13).\n",
    "\n",
    "It confused me a bit to get Equation (14). Here's one way:\n",
    "\n",
    "$$\\frac{d}{dt}(r^2\\dot\\theta)=0$$\n",
    "\n",
    "Using the product rule:\n",
    "\n",
    "$$r^2\\frac{d}{dt}\\dot\\theta+\\dot\\theta\\frac{d}{dt}r^2=0$$\n",
    "\n",
    "$$r^2\\ddot\\theta+\\dot\\theta 2r\\dot{r}=0$$\n",
    "\n",
    "Then divide through by $r$ which can't be 0 or we have a collision:\n",
    "\n",
    "$$r\\ddot\\theta+2\\dot\\theta\\dot{r}=0$$\n",
    "\n",
    "The step where Zee multiplies Equation (16) by $\\dot{r}$ and integrates over $t$ was confusing to me. The left- and right-hand sides of Equation (16) are the middle two pieces of this relationship:\n",
    "\n",
    "$$\\int\\frac{1}{2}\\frac{d}{dt}\\dot{r}^2 \\, dt=\\int\\dot{r}\\ddot{r}\\,dt = -\\int\\frac{dr}{dt}\\frac{dv(r)}{dr}\\,dt=-\\int\\frac{dv(r)}{dr}\\,dr$$\n",
    "\n",
    "And I would have appreciated taking the last steps since my calculus is still trying to warm up after decades of neglect:\n",
    "\n",
    "$$\\frac{1}{2}\\dot{r}^2=\\frac{1}{2}\\int d\\dot{r}^2=\\int\\frac{1}{2}\\frac{d}{dt}\\dot{r}^2 \\, dt=\\int\\dot{r}\\ddot{r}\\,dt = -\\int\\frac{dr}{dt}\\frac{dv(r)}{dr}\\,dt=-\\int\\frac{dv(r)}{dr}\\,dr=-\\int dv(r)=-v(r)+\\epsilon$$\n",
    "\n",
    "Zee tells us to plot $v(r)$. Let's do it."
   ]
  },
  {
   "cell_type": "code",
   "execution_count": 1,
   "id": "64a69d8d",
   "metadata": {},
   "outputs": [
    {
     "data": {
      "image/png": "[encoded data removed]",
      "text/plain": [
       "<Figure size 432x288 with 1 Axes>"
      ]
     },
     "metadata": {
      "needs_background": "light"
     },
     "output_type": "display_data"
    }
   ],
   "source": [
    "import numpy as np\n",
    "import matplotlib as mpl\n",
    "import matplotlib.pyplot as plt\n",
    "\n",
    "l=1;\n",
    "k=1;\n",
    "\n",
    "r = np.linspace(0.45, 5, 100)\n",
    "fig, ax = plt.subplots()\n",
    "#plt.rcParams['figure.figsize'] = (800,300)\n",
    "ax.set_xlabel('r')\n",
    "ax.set_ylabel('E')\n",
    "ax.plot(r, l**2/(2*r**2) - k/r, label=r'v(r)')\n",
    "ax.plot(r, l**2/(2*r**2), label=r'centrifugal')\n",
    "ax.plot(r, -k/r, label=r'gravitational')\n",
    "plt.legend(loc='best')\n",
    "plt.show()"
   ]
  },
  {
   "cell_type": "markdown",
   "id": "ceb0cd6e",
   "metadata": {},
   "source": [
    "Zee asserts that the minimum of $v$ is $-\\kappa^2/2l^2$. Let's verify that.\n",
    "\n",
    "$$v=\\frac{l^2}{2r^2}-\\frac{\\kappa}{r}$$\n",
    "\n",
    "$$\\frac{dv}{dr}=-2\\frac{l^2}{2r^3}+\\frac{\\kappa}{r^2}=-\\frac{l^2}{r^3}+\\frac{\\kappa}{r^2}=0$$\n",
    "\n",
    "$$-\\frac{l^2}{r}+\\kappa=0$$\n",
    "\n",
    "$$r_{min}=\\frac{l^2}{\\kappa}$$\n",
    "\n",
    "It looks to me like $v(r)$ has only one critical point and it's a minimum. I'm not going to test the curvature. Substituting back into $v(r)$ to get $v(l^2/\\kappa)$:\n",
    "\n",
    "$$v_{min}=\\frac{l^2}{2\\left(\\frac{l^2}{\\kappa}\\right)^2}-\\frac{\\kappa}{\\left(\\frac{l^2}{\\kappa}\\right)}$$\n",
    "\n",
    "$$v_{min}=\\frac{l^2\\kappa^2}{2l^4}-\\frac{\\kappa^2}{l^2}=\\frac{\\kappa^2}{2l^2}-\\frac{\\kappa^2}{l^2}=\\frac{-\\kappa}{2l^2}$$\n",
    "\n",
    "I have this as a favorite joke of mine: \"How can you tell when a scientist doesn't know something? He says 'clearly'.\" I get why $\\dot{r}=0$ if $v=v_{min}$, but to get there I had to recognize that $\\epsilon=v_{min}$ and then use Equation (18). It was important for me to recognize that Equation (18) is describing the kinetic energy of the unit mass particle in the radial direction with its first term. With no motion radially, the first term is zero and the orbit is circular and $\\epsilon=v_{min}$. If you give the planet some kinetic energy in the radial direction but not too much, then its orbit becomes eliptical and $\\epsilon>v_{min}$. Give it enough of a kick and it will escape when $\\epsilon>0$."
   ]
  },
  {
   "cell_type": "markdown",
   "id": "9e0f46d6",
   "metadata": {},
   "source": [
    "### Orbit closes"
   ]
  },
  {
   "cell_type": "markdown",
   "id": "e5871677",
   "metadata": {},
   "source": [
    "There's a bit of a calculation with incompletely described steps in this section. Let's make them explicit. The first step is to solve Equation (18) for $\\dot{r}$ and then divide by Equation (15). We should obtain \n",
    "\n",
    "$$\\frac{dr}{d\\theta}=\\pm \\left(\\frac{r^2}{l}\\right)\\sqrt{2\\left(\\epsilon-v(r)\\right)}$$\n",
    "\n",
    "Equation (18) is:\n",
    "\n",
    "$$\\frac{1}{2}\\dot{r}^2+v(r)=\\epsilon$$\n",
    "\n",
    "Solving for $\\dot{r}$ yields:\n",
    "\n",
    "$$\\dot{r}=\\pm\\sqrt{2\\left(\\epsilon-v(r)\\right)}$$\n",
    "\n",
    "Equation (15) is:\n",
    "\n",
    "$$\\dot{\\theta}=\\frac{l}{r^2}$$\n",
    "\n",
    "Dividing the former by the latter gives:\n",
    "\n",
    "$$\\frac{dr}{d\\theta}=\\pm\\frac{r^2}{l}\\sqrt{2\\left(\\epsilon-v(r)\\right)}$$\n",
    "\n",
    "So I seem to understand that. Next we need to change the variable from $r$ to $u=1/r$, which implies that\n",
    "\n",
    "$$du=-\\frac{1}{r^2}dr$$\n",
    "\n",
    "$$dr=-r^2du$$\n",
    "\n",
    "Substituting in the value for $dr$ gives:\n",
    "\n",
    "$$\\frac{-r^2du}{d\\theta}=\\pm\\frac{r^2}{l}\\sqrt{2\\left(\\epsilon-v(r)\\right)}$$\n",
    "\n",
    "And substituting in the value for $r$ gives:\n",
    "\n",
    "$$\\frac{-du}{u^2d\\theta}=\\pm\\frac{1}{u^2l}\\sqrt{2\\left(\\epsilon-v(u)\\right)}$$\n",
    "\n",
    "Eliminating the $u^2$ factor from both sides and discarding the negative sign on the left-hand side because there's a $\\pm$ sign on the right-hand side gives:\n",
    "\n",
    "$$\\frac{du}{d\\theta}=\\pm\\frac{1}{l}\\sqrt{2\\left(\\epsilon-v(u)\\right)}$$\n",
    "\n",
    "Next is to use Equation (17), written in terms of $u$, to show that $2(\\epsilon-v(r))$ is $2\\epsilon - l^2u^2 + 2\\kappa u$. Equation (17) is:\n",
    "\n",
    "$$v(r)=\\frac{l^2}{2r^2}-\\frac{\\kappa}{r}$$\n",
    "\n",
    "$$v(u)=\\frac{l^2u^2}{2}-\\kappa u$$\n",
    "\n",
    "Substituting $v(u)$ into $2(\\epsilon - v(u))$ gives:\n",
    "\n",
    "$$2(\\epsilon - \\frac{l^2u^2}{2}-\\kappa u)=2\\epsilon - l^2u^2 + 2\\kappa u$$"
   ]
  },
  {
   "cell_type": "markdown",
   "id": "c379f56b",
   "metadata": {},
   "source": [
    "Zee asserts that the expression $2\\epsilon-l^2u^2+2\\kappa u$ factors into $l^2(u_{max}-u)(u-u_{min})$. Let's find $u_{max}$ and $u_{min}$ and see if it does. For $\\epsilon<0$, $u_{max}=1/r_{min}$ and $u_{min}=1/r_{max}$. Now we need $r_{min}$ and $r_{max}$ from $v(r)$. They are the obtained from the two points (at most) where $\\frac{1}{2}\\dot{r}^2=0$ and $v(r)=\\epsilon$."
   ]
  },
  {
   "cell_type": "markdown",
   "id": "8c12d6d9",
   "metadata": {},
   "source": [
    "$$v(r)=\\frac{l^2}{2r^2} - \\frac{\\kappa}{r}=\\epsilon$$"
   ]
  },
  {
   "cell_type": "markdown",
   "id": "838abbe8",
   "metadata": {},
   "source": [
    "Rewriting $v(r)$ in terms of $u$ to get $v(u)$ gives:"
   ]
  },
  {
   "cell_type": "markdown",
   "id": "ad60fca6",
   "metadata": {},
   "source": [
    "$$v(u)=\\frac{1}{2}l^2u^2 - \\kappa u = \\epsilon$$"
   ]
  },
  {
   "cell_type": "markdown",
   "id": "b3ec8ec2",
   "metadata": {},
   "source": [
    "$$\\frac{1}{2}l^2u^2 - \\kappa u - \\epsilon = 0$$"
   ]
  },
  {
   "cell_type": "markdown",
   "id": "6179adb3",
   "metadata": {},
   "source": [
    "Applying the quadratic formula gives:"
   ]
  },
  {
   "cell_type": "markdown",
   "id": "ae017f36",
   "metadata": {},
   "source": [
    "$$u_{roots}=\\frac{\\kappa \\pm \\sqrt{\\kappa^2 + 2l^2\\epsilon}}{l^2}$$"
   ]
  },
  {
   "cell_type": "markdown",
   "id": "a9548234",
   "metadata": {},
   "source": [
    "$$u_{max}=\\frac{\\kappa + \\sqrt{\\kappa^2+2l^2\\epsilon}}{l^2}$$\n",
    "\n",
    "$$u_{min}=\\frac{\\kappa - \\sqrt{\\kappa^2+2l^2\\epsilon}}{l^2}$$"
   ]
  },
  {
   "cell_type": "markdown",
   "id": "4fd7d024",
   "metadata": {},
   "source": [
    "The easiest way I can think of to verify the factoring is to start with Zee's factors and multiply them.\n",
    "\n",
    "$$l^2(u_{max}-u)(u-u_{min})=l^2\\left(\\frac{\\kappa + \\sqrt{\\kappa^2+2l^2\\epsilon}}{l^2}-u\\right)\\left(u-\\frac{\\kappa - \\sqrt{\\kappa^2+2l^2\\epsilon}}{l^2}\\right)=\\frac{1}{l^2}(\\kappa + \\sqrt{\\kappa^2+2l^2\\epsilon}-l^2u)(l^2u-\\kappa + \\sqrt{\\kappa^2+2l^2\\epsilon})$$"
   ]
  },
  {
   "cell_type": "markdown",
   "id": "a9c9df2d",
   "metadata": {},
   "source": [
    "$$=-\\frac{1}{l^2}((\\kappa -l^2u) + \\sqrt{\\kappa^2+2l^2\\epsilon})((\\kappa - l^2u) - \\sqrt{\\kappa^2+2l^2\\epsilon})$$"
   ]
  },
  {
   "cell_type": "markdown",
   "id": "93ddb42b",
   "metadata": {},
   "source": [
    "The above shows the factors for a difference of perfect squares $(a+b)(a-b)$, where $a=\\kappa-l^2u$ and $b=\\sqrt{\\kappa^2+2l^2\\epsilon}$."
   ]
  },
  {
   "cell_type": "markdown",
   "id": "938149f8",
   "metadata": {},
   "source": [
    "$$=-\\frac{1}{l^2}((\\kappa-l^2u)^2-(\\kappa^2+2l^2\\epsilon))=\\frac{1}{l^2}(-\\kappa^2+2l^2\\kappa u-l^4u^2+\\kappa^2+2l^2\\epsilon)$$"
   ]
  },
  {
   "cell_type": "markdown",
   "id": "64bc3bf7",
   "metadata": {},
   "source": [
    "$$=2\\epsilon-l^2u^2+2\\kappa u$$"
   ]
  },
  {
   "cell_type": "markdown",
   "id": "1bf772cb",
   "metadata": {},
   "source": [
    "Which means that\n",
    "\n",
    "$$2\\epsilon-l^2u^2+2\\kappa u=l^2(u_{max}-u)(u-u_{min})$$"
   ]
  },
  {
   "cell_type": "markdown",
   "id": "75054b23",
   "metadata": {},
   "source": [
    "For the last change of variable we have:\n",
    "\n",
    "$$u=u_{min}+(u_{max}-u_{min})\\sin^2\\zeta$$"
   ]
  },
  {
   "cell_type": "markdown",
   "id": "c4b7ab14",
   "metadata": {},
   "source": [
    "The tricky part here is to get a relationship of $du$ to $d\\zeta$, but we'll just proceed forward in a bull-headed sort of fashion and hope for the best."
   ]
  },
  {
   "cell_type": "markdown",
   "id": "286e34ac",
   "metadata": {},
   "source": [
    "$$du=(u_{max}-u_{min})2\\sin\\zeta\\cos\\zeta d\\zeta$$"
   ]
  },
  {
   "cell_type": "markdown",
   "id": "ec0cb0dc",
   "metadata": {},
   "source": [
    "Well, that's not super helpful. Let's just substitute in for $u$ in the expression $\\sqrt{(u_{max}-u)(u-u_{min})}$ and see what happens."
   ]
  },
  {
   "cell_type": "markdown",
   "id": "e1837578",
   "metadata": {},
   "source": [
    "\n",
    "$$\\sqrt{(u_{max}-u)(u-u_{min})}=\\sqrt{(u_{max}-(u_{min}+(u_{max}-u_{min})\\sin^2\\zeta))((u_{min}+(u_{max}-u_{min})\\sin^2\\zeta)-u_{min})}$$"
   ]
  },
  {
   "cell_type": "markdown",
   "id": "479bea82",
   "metadata": {},
   "source": [
    "$$=\\sqrt{((u_{max}-u_{min})-(u_{max}-u_{min})\\sin^2\\zeta))((u_{min}-u_{min})+(u_{max}-u_{min})\\sin^2\\zeta)}$$"
   ]
  },
  {
   "cell_type": "markdown",
   "id": "8824e676",
   "metadata": {},
   "source": [
    "$$=(u_{max}-u_{min})\\sin\\zeta\\sqrt{1-\\sin^2\\zeta}=(u_{max}-u_{min})\\sin\\zeta\\cos\\zeta$$"
   ]
  },
  {
   "cell_type": "markdown",
   "id": "6eebdd90",
   "metadata": {},
   "source": [
    "So we have the relationship that:\n",
    "\n",
    "$$\\sqrt{(u_{max}-u)(u-u_{min})}=(u_{max}-u_{min})\\sin\\zeta\\cos\\zeta$$"
   ]
  },
  {
   "cell_type": "markdown",
   "id": "90897294",
   "metadata": {},
   "source": [
    "We can divide $du=(u_{max}-u_{min})2\\sin\\zeta\\cos\\zeta d\\zeta$ by $\\sqrt{(u_{max}-u)(u-u_{min})}=(u_{max}-u_{min})\\sin\\zeta\\cos\\zeta$ to get"
   ]
  },
  {
   "cell_type": "markdown",
   "id": "fd5f709a",
   "metadata": {},
   "source": [
    "$$\\frac{du}{\\sqrt{(u_{max}-u)(u-u_{min})}}=\\frac{(u_{max}-u_{min})2\\sin\\zeta\\cos\\zeta d\\zeta}{(u_{max}-u_{min})\\sin\\zeta\\cos\\zeta}$$"
   ]
  },
  {
   "cell_type": "markdown",
   "id": "a09b37d1",
   "metadata": {},
   "source": [
    "Which simplifies to"
   ]
  },
  {
   "cell_type": "markdown",
   "id": "f5d56bf7",
   "metadata": {},
   "source": [
    "$$\\frac{du}{\\sqrt{(u_{max}-u)(u-u_{min})}}=2d\\zeta$$"
   ]
  },
  {
   "cell_type": "markdown",
   "id": "96647b20",
   "metadata": {},
   "source": [
    "We now have all the major pieces we need to follow the steps in Equation (19). Time for the final steps."
   ]
  },
  {
   "cell_type": "markdown",
   "id": "f76fbe74",
   "metadata": {},
   "source": [
    "We have from above:"
   ]
  },
  {
   "cell_type": "markdown",
   "id": "4c41dbbd",
   "metadata": {},
   "source": [
    "$$\\frac{dr}{d\\theta}=\\pm\\frac{r^2}{l}\\sqrt{2\\left(\\epsilon-v(r)\\right)}$$"
   ]
  },
  {
   "cell_type": "markdown",
   "id": "e5dfd974",
   "metadata": {},
   "source": [
    "Inverting the above equation and multiplying both sides by $dr$ and integrating gives the first relationship in Equation (19):"
   ]
  },
  {
   "cell_type": "markdown",
   "id": "16b5d33f",
   "metadata": {},
   "source": [
    "$$\\Delta\\theta=2\\int_{r_{min}}^{r_{max}}\\frac{ldr}{r^2\\sqrt{2(\\epsilon-v(r))}}$$"
   ]
  },
  {
   "cell_type": "markdown",
   "id": "2719ab5c",
   "metadata": {},
   "source": [
    "Changing to the variable $u$ means substituting in $u=\\frac{1}{r}$ and $du=-\\frac{1}{r^2}$. Also, note that $u_{min}$ occurs at $r_{max}$ and that $u_{max}$ occurs at $r_{min}$."
   ]
  },
  {
   "cell_type": "markdown",
   "id": "c2a8639a",
   "metadata": {},
   "source": [
    "$$2\\int_{r_{min}}^{r_{max}}\\frac{ldr}{r^2\\sqrt{2(\\epsilon-v(r))}}=2\\int_{u_{max}}^{u_{min}}\\frac{-ldu}{\\sqrt{2(\\epsilon-v(u))}}=2\\int_{u_{min}}^{u_{max}}\\frac{ldu}{\\sqrt{2(\\epsilon-v(u))}}$$"
   ]
  },
  {
   "cell_type": "markdown",
   "id": "e1d49b09",
   "metadata": {},
   "source": [
    "In the above substitution, a negative sign was introduced when substituting $du=-\\frac{1}{r^2}$. The negative sign was removed by reversing the order of integration. From above we have:"
   ]
  },
  {
   "cell_type": "markdown",
   "id": "f8840c3e",
   "metadata": {},
   "source": [
    "$$v(u)=\\frac{l^2u^2}{2}-\\kappa u$$"
   ]
  },
  {
   "cell_type": "markdown",
   "id": "d427049e",
   "metadata": {},
   "source": [
    "Substituting gives:"
   ]
  },
  {
   "cell_type": "markdown",
   "id": "1a6dd08d",
   "metadata": {},
   "source": [
    "$$2\\int_{r_{min}}^{r_{max}}\\frac{ldr}{r^2\\sqrt{2(\\epsilon-v(r))}}=2\\int_{u_{min}}^{u_{max}}\\frac{ldu}{\\sqrt{2\\epsilon-l^2u^2+2\\kappa u)}}$$"
   ]
  },
  {
   "cell_type": "markdown",
   "id": "cbdedd0e",
   "metadata": {},
   "source": [
    "That gives us the third expression in Equation (19). From above we have:"
   ]
  },
  {
   "cell_type": "markdown",
   "id": "83905925",
   "metadata": {},
   "source": [
    "$$2\\epsilon-l^2u^2+2\\kappa u=l^2(u_{max}-u)(u-u_{min})$$"
   ]
  },
  {
   "cell_type": "markdown",
   "id": "c682b23f",
   "metadata": {},
   "source": [
    "Substituting gives:"
   ]
  },
  {
   "cell_type": "markdown",
   "id": "a62731fd",
   "metadata": {},
   "source": [
    "$$2\\int_{u_{min}}^{u_{max}}\\frac{ldu}{\\sqrt{2\\epsilon-l^2u^2+2\\kappa u)}}=2\\int_{u_{min}}^{u_{max}}\\frac{ldu}{\\sqrt{l^2(u_{max}-u)(u-u_{min})}}=2\\int_{u_{min}}^{u_{max}}\\frac{du}{\\sqrt{(u_{max}-u)(u-u_{min})}}$$"
   ]
  },
  {
   "cell_type": "markdown",
   "id": "69c05f04",
   "metadata": {},
   "source": [
    "That gives us the fourth expression in Equation (19). From above, we have:"
   ]
  },
  {
   "cell_type": "markdown",
   "id": "fa4c725f",
   "metadata": {},
   "source": [
    "$$\\frac{du}{\\sqrt{(u_{max}-u)(u-u_{min})}}=2d\\zeta$$"
   ]
  },
  {
   "cell_type": "markdown",
   "id": "853ae127",
   "metadata": {},
   "source": [
    "Substituting, we get:"
   ]
  },
  {
   "cell_type": "markdown",
   "id": "f34930d3",
   "metadata": {},
   "source": [
    "$$2\\int_{u_{min}}^{u_{max}}\\frac{du}{\\sqrt{(u_{max}-u)(u-u_{min})}}=2\\int_{u_{min}}^{u_{max}}2d\\zeta$$"
   ]
  },
  {
   "cell_type": "markdown",
   "id": "9acbc84d",
   "metadata": {},
   "source": [
    "Which is incomplete. We need to convert $u_{min}$ and $u_{max}$ to values of $\\zeta$. Since $u=u_{min}+(u_{max}-u_{min})\\sin^2\\zeta$, when $\\zeta=0$, we have $u=u_{min}$ and when $\\zeta=\\pi/2$, we have $u=u_{max}$. The above expression then changes to:"
   ]
  },
  {
   "cell_type": "markdown",
   "id": "c92b8fc1",
   "metadata": {},
   "source": [
    "$$2\\int_{u_{min}}^{u_{max}}2d\\zeta=2\\int_{0}^{\\frac{\\pi}{2}}2d\\zeta=4\\int_{0}^{\\frac{\\pi}{2}}d\\zeta$$"
   ]
  },
  {
   "cell_type": "markdown",
   "id": "bd625af0",
   "metadata": {},
   "source": [
    "Which is the final expression of Equation (19)."
   ]
  },
  {
   "cell_type": "markdown",
   "id": "60b48711",
   "metadata": {},
   "source": [
    "### A historical digression ...\n",
    "\n",
    "In this section we learn that Newton calculated the acceleration experienced by the Moon that results in its orbit about the Earth, $a_{Moon}$, and showed that it was the same as the acceleration of an apple falling through the air on the surface of the Earth, $a_{apple}$. Let's compute $a_{Moon}$ and see what we get for $a_{apple}$."
   ]
  },
  {
   "cell_type": "markdown",
   "id": "f8ffa22e",
   "metadata": {},
   "source": [
    "$F=ma$, and for gravity, $F=GMm/r^2$, where $G$ is the gravitational constant, $M$ is the mass of the Earth (for this problem), $m$ is the mass of the object gravitationally attracted to the Earth, and $r$ is the distance that object is from the Earth. We get two equations for the two falling objects:"
   ]
  },
  {
   "cell_type": "markdown",
   "id": "54d52cbe",
   "metadata": {},
   "source": [
    "$$m_{Moon}a_{Moon}=\\frac{GM_{Earth}m_{Moon}}{R^2_{lunar \\ orbit}}$$\n",
    "\n",
    "$$m_{apple}a_{apple}=\\frac{GM_{Earth}m_{apple}}{R^2_{Earth}}$$"
   ]
  },
  {
   "cell_type": "markdown",
   "id": "931c8816",
   "metadata": {},
   "source": [
    "Dividing one equation by the other gives:"
   ]
  },
  {
   "cell_type": "markdown",
   "id": "8e3d1b20",
   "metadata": {},
   "source": [
    "$$\\frac{a_{Moon}}{a_{apple}}=\\frac{R^2_{Earth}}{R^2_{lunar\\ orbit}}$$"
   ]
  },
  {
   "cell_type": "markdown",
   "id": "a0380c09",
   "metadata": {},
   "source": [
    "Rearranging gives:"
   ]
  },
  {
   "cell_type": "markdown",
   "id": "1bb514b5",
   "metadata": {},
   "source": [
    "$$a_{apple}=a_{Moon}\\frac{R^2_{lunar\\ orbit}}{R^2_{Earth}}$$"
   ]
  },
  {
   "cell_type": "markdown",
   "id": "a3ed864e",
   "metadata": {},
   "source": [
    "The distance to the Moon was through to be $60\\times R_{Earth}$ in Newton's day."
   ]
  },
  {
   "cell_type": "markdown",
   "id": "43699ce7",
   "metadata": {},
   "source": [
    "$$\\frac{R^2_{lunar\\ orbit}}{R^2_{Earth}}=\\frac{60^2\\times R^2_{Earth}}{R^2_{Earth}}=3600$$"
   ]
  },
  {
   "cell_type": "markdown",
   "id": "2aabf319",
   "metadata": {},
   "source": [
    "$$a_{apple}=3600a_{Moon}$$"
   ]
  },
  {
   "cell_type": "markdown",
   "id": "ba3e501f",
   "metadata": {},
   "source": [
    "Let's use Hooke's Law. That'll make everybody who lived back then feel good! Zee states that the orbit is circular. I accept this. That means that I can project the orbit into one dimension and the Moon will follow the path of a harmonic oscillator, obeying the following equation of motion:"
   ]
  },
  {
   "cell_type": "markdown",
   "id": "9218bc16",
   "metadata": {},
   "source": [
    "$$ma_{Moon,\\hat{r}}=-kx$$"
   ]
  },
  {
   "cell_type": "markdown",
   "id": "18106ac9",
   "metadata": {},
   "source": [
    "where the index $\\hat{r}$ means that this is the component of $a_{Moon}$ in the radial direction for one arbitrarily chosen radius. The equation of motion is:"
   ]
  },
  {
   "cell_type": "markdown",
   "id": "21f03ed5",
   "metadata": {},
   "source": [
    "$$x(t)=a\\cos\\omega t + b\\sin\\omega t$$"
   ]
  },
  {
   "cell_type": "markdown",
   "id": "5dd73ac7",
   "metadata": {},
   "source": [
    "Let the initial position be on the arbitrarily chosen radius:"
   ]
  },
  {
   "cell_type": "markdown",
   "id": "53179a45",
   "metadata": {},
   "source": [
    "$$x(0)=a$$\n",
    "\n",
    "$$a=R_{lunar\\ orbit}$$"
   ]
  },
  {
   "cell_type": "markdown",
   "id": "9282d34c",
   "metadata": {},
   "source": [
    "Taking the derivative with respect to $t$:"
   ]
  },
  {
   "cell_type": "markdown",
   "id": "75831cce",
   "metadata": {},
   "source": [
    "$$v(t)=-R_{lunar\\ orbit}\\omega\\sin\\omega t + b\\omega\\cos\\omega t$$"
   ]
  },
  {
   "cell_type": "markdown",
   "id": "ddcf84af",
   "metadata": {},
   "source": [
    "Let the initial velocity (in the radial direction) be 0:"
   ]
  },
  {
   "cell_type": "markdown",
   "id": "6e18ae3d",
   "metadata": {},
   "source": [
    "$$v(0)=b\\omega=0$$\n",
    "\n",
    "$$b=0$$"
   ]
  },
  {
   "cell_type": "markdown",
   "id": "5707d123",
   "metadata": {},
   "source": [
    "$$x(t)=R_{lunar\\ orbit}\\cos\\omega t$$"
   ]
  },
  {
   "cell_type": "markdown",
   "id": "83de4dba",
   "metadata": {},
   "source": [
    "Zee tells us that $\\omega=\\sqrt{k/m}$ which implies that $k=\\omega^2m$. Substituting into $ma=-kx$ gives:"
   ]
  },
  {
   "cell_type": "markdown",
   "id": "962d6c3e",
   "metadata": {},
   "source": [
    "$$a=-\\omega^2x$$"
   ]
  },
  {
   "cell_type": "markdown",
   "id": "e589edf7",
   "metadata": {},
   "source": [
    "For this harmonic oscillator, when $x=R_{lunar\\ orbit}$, $a=a_{Moon}$."
   ]
  },
  {
   "cell_type": "markdown",
   "id": "be3d8680",
   "metadata": {},
   "source": [
    "$$a_{Moon}=-\\omega^2R_{lunar\\ orbit}$$"
   ]
  },
  {
   "cell_type": "markdown",
   "id": "a3343a7a",
   "metadata": {},
   "source": [
    "From $x(t)=R_{lunar\\ orbit}\\cos\\omega t$ I can see that $\\omega$ deterimnes the period of the oscillation:"
   ]
  },
  {
   "cell_type": "markdown",
   "id": "03ad2850",
   "metadata": {},
   "source": [
    "$$t_{period}=\\frac{2\\pi}{\\omega}$$"
   ]
  },
  {
   "cell_type": "markdown",
   "id": "90a2e55a",
   "metadata": {},
   "source": [
    "which implies:"
   ]
  },
  {
   "cell_type": "markdown",
   "id": "138618d1",
   "metadata": {},
   "source": [
    "$$\\omega = \\frac{2\\pi}{t_{period}}$$"
   ]
  },
  {
   "cell_type": "markdown",
   "id": "ff810998",
   "metadata": {},
   "source": [
    "The sidereal period of the Moon is 27.3 days. The concept of the sidereal period was known in Newton's time and estimated to be the quoted value according to ChatGPT. Converting to seconds yields:"
   ]
  },
  {
   "cell_type": "markdown",
   "id": "a51b1693",
   "metadata": {},
   "source": [
    "$$27.3\\text{ days}\\times\\frac{86400\\text{ seconds}}{1\\text{ day}}=2.36\\times10^6\\text{ seconds}$$"
   ]
  },
  {
   "cell_type": "code",
   "execution_count": 3,
   "id": "be45d26d",
   "metadata": {},
   "outputs": [
    {
     "data": {
      "text/plain": [
       "2358720.0"
      ]
     },
     "execution_count": 3,
     "metadata": {},
     "output_type": "execute_result"
    }
   ],
   "source": [
    "27.3*24*60*60"
   ]
  },
  {
   "cell_type": "markdown",
   "id": "91466731",
   "metadata": {},
   "source": [
    "The value of $\\omega$ is:"
   ]
  },
  {
   "cell_type": "markdown",
   "id": "10cde7f2",
   "metadata": {},
   "source": [
    "$$\\omega=\\frac{2\\pi}{t_{period}}=\\frac{2\\pi}{(2.36\\times10^6)}=2.66\\times10^{-6}\\text{ seconds}^{-1}$$"
   ]
  },
  {
   "cell_type": "code",
   "execution_count": 4,
   "id": "0c8e2e6b",
   "metadata": {},
   "outputs": [
    {
     "data": {
      "text/plain": [
       "2.66381143466778e-06"
      ]
     },
     "execution_count": 4,
     "metadata": {},
     "output_type": "execute_result"
    }
   ],
   "source": [
    "import math\n",
    "2*math.pi/2358720.0"
   ]
  },
  {
   "cell_type": "markdown",
   "id": "37cf20d2",
   "metadata": {},
   "source": [
    "$$a_{Moon}=-\\omega^2R_{lunar\\ orbit}=(2.66\\times10^6)^2R_{lunar\\ orbit}=-7.10\\times10^{-12}R_{lunar\\ orbit}$$"
   ]
  },
  {
   "cell_type": "code",
   "execution_count": 5,
   "id": "e091c003",
   "metadata": {},
   "outputs": [
    {
     "data": {
      "text/plain": [
       "-7.095891359466816e-12"
      ]
     },
     "execution_count": 5,
     "metadata": {},
     "output_type": "execute_result"
    }
   ],
   "source": [
    "-(2.66381143466778e-06)**2"
   ]
  },
  {
   "cell_type": "markdown",
   "id": "7096a4eb",
   "metadata": {},
   "source": [
    "Using from above:"
   ]
  },
  {
   "cell_type": "markdown",
   "id": "14f603cd",
   "metadata": {},
   "source": [
    "$$a_{apple}=3600a_{Moon}$$"
   ]
  },
  {
   "cell_type": "code",
   "execution_count": 6,
   "id": "d35ac155",
   "metadata": {},
   "outputs": [
    {
     "data": {
      "text/plain": [
       "-2.554520889408054e-08"
      ]
     },
     "execution_count": 6,
     "metadata": {},
     "output_type": "execute_result"
    }
   ],
   "source": [
    "3600*-7.095891359466816e-12"
   ]
  },
  {
   "cell_type": "markdown",
   "id": "55336be8",
   "metadata": {},
   "source": [
    "$$a_{apple}=-2.55\\times10^{-8}R_{lunar\\ orbit}$$"
   ]
  },
  {
   "cell_type": "markdown",
   "id": "1b3fce48",
   "metadata": {},
   "source": [
    "$$a_{apple}=-2.55\\times10^{-8}(60)R_{Earth}$$"
   ]
  },
  {
   "cell_type": "code",
   "execution_count": 7,
   "id": "068006be",
   "metadata": {},
   "outputs": [
    {
     "data": {
      "text/plain": [
       "-1.5327125336448324e-06"
      ]
     },
     "execution_count": 7,
     "metadata": {},
     "output_type": "execute_result"
    }
   ],
   "source": [
    "-2.554520889408054e-08*60"
   ]
  },
  {
   "cell_type": "markdown",
   "id": "c9b953e1",
   "metadata": {},
   "source": [
    "$$a_{apple}=-1.53\\times10^{-6}R_{Earth}$$"
   ]
  },
  {
   "cell_type": "markdown",
   "id": "65c93dea",
   "metadata": {},
   "source": [
    "During Newton's time, the best estimate for the radius of the Earth was 6377 km, according to ChatGPT."
   ]
  },
  {
   "cell_type": "markdown",
   "id": "6b0231b3",
   "metadata": {},
   "source": [
    "$$R_{Earth}=6.377\\times10^6\\text{ m}$$"
   ]
  },
  {
   "cell_type": "code",
   "execution_count": 8,
   "id": "f7ef71a8",
   "metadata": {},
   "outputs": [
    {
     "data": {
      "text/plain": [
       "-9.774107827053097"
      ]
     },
     "execution_count": 8,
     "metadata": {},
     "output_type": "execute_result"
    }
   ],
   "source": [
    "-1.5327125336448324e-06 * 6.377e06"
   ]
  },
  {
   "cell_type": "markdown",
   "id": "0f2cfaef",
   "metadata": {},
   "source": [
    "Using the best values available during Newton's lifetime, I estimate a value of $9.8\\text{ m/s}^2$ for $a_{apple}$."
   ]
  },
  {
   "cell_type": "markdown",
   "id": "383ff888",
   "metadata": {},
   "source": [
    "### Exercises\n",
    "\n",
    "#### 1) \n",
    ">Show that for some suitably smooth function $f(x)$, the integral $\\int_{-\\infty}^\\infty dx\\delta(x)f(x)=f(0)$. Then show that $\\delta(ax)=\\delta(x)/\\left|a\\right|$ by evaluating the integral $\\int_{-\\infty}^\\infty dx\\delta(ax)f(x)$ for some smooth function $f(x)$."
   ]
  },
  {
   "cell_type": "markdown",
   "id": "69707242",
   "metadata": {},
   "source": [
    "The $\\delta(x)$ function is $0$ at all $x$ except for $x=0$ where it has inifite height and integrates to the value $1$. I believe that we can limit the definite integral to the evaluation of a single point where $x=0$, $f(0)$ can be extracted as a constant, and $\\int_{-\\infty}^{\\infty}\\delta(x)dx=1$. So, we get $f(0)$ for the first integral."
   ]
  },
  {
   "cell_type": "markdown",
   "id": "659103c3",
   "metadata": {},
   "source": [
    "The solution recommends changing variable from $x$ to $y=ax$ and warns that if $a<0$ that the integrands will change sign."
   ]
  },
  {
   "cell_type": "markdown",
   "id": "3c4963c0",
   "metadata": {},
   "source": [
    "$$x=y/a$$\n",
    "\n",
    "$$dx=dy/a$$\n",
    "\n",
    "$$\\int_{-\\infty}^\\infty dx\\delta(ax)f(x)=\\begin{cases}\\int_{-\\infty}^\\infty \\frac{dy}{a}\\delta(y)f(y)\\text{ if }a>0 \\\\ \\int_{\\infty}^{-\\infty} \\frac{dy}{a}\\delta(y)f(y)\\text{ if }a<0\\end{cases}$$"
   ]
  },
  {
   "cell_type": "markdown",
   "id": "5abf16b3",
   "metadata": {},
   "source": [
    "The integrands reverse when $a<0$ because if $x=y/a$ and $a<0$, then when $x=-\\infty$, $y=\\infty$, and when $x=\\infty$, $y=-\\infty$."
   ]
  },
  {
   "cell_type": "markdown",
   "id": "2d815653",
   "metadata": {},
   "source": [
    "$$\\int_{-\\infty}^\\infty \\frac{dy}{a}\\delta(y)f(y)=\\frac{1}{a}\\int_{-\\infty}^{\\infty}dy\\delta(y)f(y)=\\frac{f(0)}{a}=\\frac{f(0)}{\\left|a\\right|}\\text{ for }a>0$$"
   ]
  },
  {
   "cell_type": "markdown",
   "id": "5abad884",
   "metadata": {},
   "source": [
    "$$\\int_{\\infty}^{-\\infty} \\frac{dy}{a}\\delta(y)f(y)=\\frac{1}{a}\\int_{\\infty}^{-\\infty}dy\\delta(y)f(y)=\\frac{-f(0)}{a}=\\frac{f(0)}{\\left|a\\right|}\\text{ for }a<0$$"
   ]
  },
  {
   "cell_type": "markdown",
   "id": "b8def07d",
   "metadata": {},
   "source": [
    "I'm not sure what I've learned by doing this. Scaling the $x$-axis would cause a finite spike to become narrower by the factor $a$. For example, suppose the finite \"spike\" is a rectangle of unit area from $x=-1$ to $x=1$ of height $y=1/2$. If we scale the $x$-axis by $10$, then the value of $1$ isn't reached until $-0.1$ and $0.1$. Instead of being $2$ units wide, the spike is $0.2$ units wide, and it's as if we took the normal spike and divided it's area by the factor of $10$. Is that what was to be learned - that scaling the axis of integration for the $\\delta$ function modifies the area produced by the $\\delta$ function upon integration as if it were a finite spike?"
   ]
  },
  {
   "cell_type": "markdown",
   "id": "326a422d",
   "metadata": {},
   "source": [
    "#### 2)"
   ]
  },
  {
   "cell_type": "markdown",
   "id": "17fdb86b",
   "metadata": {},
   "source": [
    "> Determine the orbit $r(\\theta)$ by changing variable from $r$ to $u=1/r$. We will need the result of this exercise later."
   ]
  },
  {
   "cell_type": "markdown",
   "id": "e893e07d",
   "metadata": {},
   "source": [
    "I was unable to solve this with my own effort presented below."
   ]
  },
  {
   "cell_type": "markdown",
   "id": "eff85291",
   "metadata": {},
   "source": [
    "$$dr=\\pm\\frac{r^2}{l}\\sqrt{2\\left(\\epsilon-v(r)\\right)}$$"
   ]
  },
  {
   "cell_type": "markdown",
   "id": "2f905e38",
   "metadata": {},
   "source": [
    "$$r=\\frac{1}{u}$$"
   ]
  },
  {
   "cell_type": "markdown",
   "id": "edac98bc",
   "metadata": {},
   "source": [
    "$$dr=\\frac{-1}{u^2}du$$"
   ]
  },
  {
   "cell_type": "markdown",
   "id": "997f2ea5",
   "metadata": {},
   "source": [
    "$$v(u)=\\frac{l^2u^2}{2}-\\kappa u$$"
   ]
  },
  {
   "cell_type": "markdown",
   "id": "d95b78c4",
   "metadata": {},
   "source": [
    "Substituting for $r$, $dr$, and $v(u)$ for $v(r)$ gives:"
   ]
  },
  {
   "cell_type": "markdown",
   "id": "25e5ca16",
   "metadata": {},
   "source": [
    "$$\\frac{-1}{u^2}du=\\pm\\frac{1}{lu^2}\\sqrt{2\\left(\\epsilon-\\frac{l^2u^2}{2}+\\kappa u\\right)}$$"
   ]
  },
  {
   "cell_type": "markdown",
   "id": "b2b7fbaf",
   "metadata": {},
   "source": [
    "$$du=\\mp\\frac{1}{l}\\sqrt{2\\epsilon-l^2u^2-2\\kappa u}\\,d\\theta$$"
   ]
  },
  {
   "cell_type": "markdown",
   "id": "b4a2e2db",
   "metadata": {},
   "source": [
    "$$d\\theta=\\frac{ldu}{\\mp\\sqrt{2\\epsilon-l^2u^2+2\\kappa u}}$$"
   ]
  },
  {
   "cell_type": "markdown",
   "id": "50459a06",
   "metadata": {},
   "source": [
    "Let $u=u_{min}+(u_{max}-u_{min})\\sin^2\\zeta$ and $0\\le\\zeta\\le\\pi/2$."
   ]
  },
  {
   "cell_type": "markdown",
   "id": "d35d41b6",
   "metadata": {},
   "source": [
    "$$d\\theta=2d\\zeta$$"
   ]
  },
  {
   "cell_type": "markdown",
   "id": "badb355a",
   "metadata": {},
   "source": [
    "$$\\theta=2\\zeta$$"
   ]
  },
  {
   "cell_type": "markdown",
   "id": "1a61520a",
   "metadata": {},
   "source": [
    "$$u=u_{min}+(u_{max}-u_{min})\\sin^2\\zeta$$"
   ]
  },
  {
   "cell_type": "markdown",
   "id": "9ed69da7",
   "metadata": {},
   "source": [
    "$$(u_{max}-u_{min})\\sin^2\\zeta=u-u_{min}$$"
   ]
  },
  {
   "cell_type": "markdown",
   "id": "57adbdb4",
   "metadata": {},
   "source": [
    "$$\\sin^2\\zeta=\\frac{u-u_{min}}{u_{max}-u_{min}}$$"
   ]
  },
  {
   "cell_type": "markdown",
   "id": "e59262fd",
   "metadata": {},
   "source": [
    "$$\\zeta=\\arcsin\\left(\\sqrt{\\frac{u-u_{min}}{u_{max}-u_{min}}}\\right)$$"
   ]
  },
  {
   "cell_type": "markdown",
   "id": "6228736a",
   "metadata": {},
   "source": [
    "$$\\theta=2\\arcsin\\left(\\sqrt{\\frac{u-u_{min}}{u_{max}-u_{min}}{}}\\right)$$"
   ]
  },
  {
   "cell_type": "markdown",
   "id": "f47c6af8",
   "metadata": {},
   "source": [
    "$$\\sin^2\\left(\\frac{\\theta}{2}\\right)=\\frac{u-u_{min}}{u_{max}-u_{min}}$$"
   ]
  },
  {
   "cell_type": "markdown",
   "id": "71a52eaa",
   "metadata": {},
   "source": [
    "$$\\frac{1}{r}=u=(u_{max}-u_{min})\\sin^2\\left(\\frac{\\theta}{2}\\right)+u_{min}$$"
   ]
  },
  {
   "cell_type": "markdown",
   "id": "1a3dc37f",
   "metadata": {},
   "source": [
    "This is my answer for $r(\\theta)$. It's not what's in the back of the book, and it's not immedieately obvious that it's the same function."
   ]
  },
  {
   "cell_type": "markdown",
   "id": "8d5ee8e3",
   "metadata": {},
   "source": [
    "The book's approach is to square the initial equation for $dr$ to get rid of the bracket and then rearrange algebraically until the differential equation (DE) for the shifted harmonic oscillator is obtained for which there is a readily known solution (although I couldn't find a useful one quickly online)."
   ]
  },
  {
   "cell_type": "markdown",
   "id": "6e85890d",
   "metadata": {},
   "source": [
    "$$dr=\\pm\\frac{r^2}{l}\\sqrt{2\\left(\\epsilon-v(r)\\right)}$$"
   ]
  },
  {
   "cell_type": "markdown",
   "id": "cd7cc4c3",
   "metadata": {},
   "source": [
    "Squaring yields:"
   ]
  },
  {
   "cell_type": "markdown",
   "id": "c12e3b90",
   "metadata": {},
   "source": [
    "$$dr^2=\\frac{2r^4}{l^2}\\left(\\epsilon-v(r)\\right)$$"
   ]
  },
  {
   "cell_type": "markdown",
   "id": "6fb8b201",
   "metadata": {},
   "source": [
    "$$\\epsilon-v(r)=\\epsilon-\\frac{l^2}{2r^2}+\\frac{\\kappa}{r}$$"
   ]
  },
  {
   "cell_type": "markdown",
   "id": "3c14d69c",
   "metadata": {},
   "source": [
    "Substituting gives:"
   ]
  },
  {
   "cell_type": "markdown",
   "id": "3d8ffea7",
   "metadata": {},
   "source": [
    "$$dr^2=\\frac{2r^4}{l^2}\\left(\\epsilon-\\frac{l^2}{2r^2}+\\frac{\\kappa}{r}\\right)$$"
   ]
  },
  {
   "cell_type": "markdown",
   "id": "592bcd5e",
   "metadata": {},
   "source": [
    "$$\\frac{u^4dr^2}{u^4}=\\frac{2r^4}{l^2}\\left(\\epsilon-\\frac{l^2}{2r^2}+\\frac{\\kappa}{r}\\right)$$"
   ]
  },
  {
   "cell_type": "markdown",
   "id": "f17e3e7b",
   "metadata": {},
   "source": [
    "Substituting in $r=1/u$ and $dr=\\frac{-1}{u^2}du$ gives:"
   ]
  },
  {
   "cell_type": "markdown",
   "id": "db38befc",
   "metadata": {},
   "source": [
    "$$\\frac{du^2}{u^4}=\\frac{2}{l^2u^4}\\left(\\epsilon-\\frac{l^2u^2}{2}+\\kappa u\\right)$$"
   ]
  },
  {
   "cell_type": "markdown",
   "id": "e6935ac2",
   "metadata": {},
   "source": [
    "$$du^2=\\frac{2}{l^2}\\left(\\epsilon-\\frac{l^2u^2}{2}+\\kappa u\\right)$$"
   ]
  },
  {
   "cell_type": "markdown",
   "id": "6d661217",
   "metadata": {},
   "source": [
    "$$du^2=\\frac{2\\epsilon}{l^2}-u^2+\\frac{2\\kappa u}{l^2}$$"
   ]
  },
  {
   "cell_type": "markdown",
   "id": "59604aa4",
   "metadata": {},
   "source": [
    "$$du^2+u^2-\\frac{2\\kappa u}{l^2}=\\frac{2\\epsilon}{l^2}$$"
   ]
  },
  {
   "cell_type": "markdown",
   "id": "b3969379",
   "metadata": {},
   "source": [
    "The above is apparently a DE for the shifted harmonic oscillator. I couldn't immediately find any description of the shifted harmonic oscillator on the web that was useful for the purpose here.\n",
    "\n",
    "I don't know how to solve the above DE, but I can verify the answer given which I suspect is kind of how it's solved anyway. You take a guess and see if it works. The answer given is:"
   ]
  },
  {
   "cell_type": "markdown",
   "id": "5f6128ad",
   "metadata": {},
   "source": [
    "$$\\frac{1}{r}=u=\\frac{\\kappa}{l^2}(1+e\\cos\\theta)$$"
   ]
  },
  {
   "cell_type": "markdown",
   "id": "1d6b77ac",
   "metadata": {},
   "source": [
    "The parameter $e$ is defined as:"
   ]
  },
  {
   "cell_type": "markdown",
   "id": "f098039b",
   "metadata": {},
   "source": [
    "$$e^2=1+\\frac{2\\epsilon l^2}{\\kappa^2}$$"
   ]
  },
  {
   "cell_type": "markdown",
   "id": "a6b169b9",
   "metadata": {},
   "source": [
    "$$du=-\\frac{\\kappa e}{l^2}\\sin\\theta$$"
   ]
  },
  {
   "cell_type": "markdown",
   "id": "6d4fe6a7",
   "metadata": {},
   "source": [
    "$$du^2=\\frac{\\kappa^2e^2}{l^4}\\sin^2\\theta$$"
   ]
  },
  {
   "cell_type": "markdown",
   "id": "89500b00",
   "metadata": {},
   "source": [
    "The left-hand side of the DE then becomes:"
   ]
  },
  {
   "cell_type": "markdown",
   "id": "b9881251",
   "metadata": {},
   "source": [
    "$$\\frac{\\kappa^2e^2}{l^4}\\sin^2\\theta+\\frac{\\kappa^2}{l^4}(1+e\\cos\\theta)^2-\\frac{2\\kappa}{l^2}\\left(\\frac{\\kappa}{l^2}(1+e\\cos\\theta)\\right)=$$"
   ]
  },
  {
   "cell_type": "markdown",
   "id": "eed2db99",
   "metadata": {},
   "source": [
    "$$\\frac{\\kappa^2e^2}{l^4}\\sin^2\\theta+\\frac{\\kappa^2}{l^4}(1+e\\cos\\theta)^2-\\frac{2\\kappa^2}{l^4}\\left(1+e\\cos\\theta\\right)=$$"
   ]
  },
  {
   "cell_type": "markdown",
   "id": "188f0274",
   "metadata": {},
   "source": [
    "$$\\frac{\\kappa^2}{l^4}\\left(e^2\\sin^2\\theta+1+2e\\cos\\theta+e^2\\cos^2\\theta-2-2e\\cos\\theta\\right)=$$"
   ]
  },
  {
   "cell_type": "markdown",
   "id": "54f27fc7",
   "metadata": {},
   "source": [
    "$$\\frac{\\kappa^2}{l^4}(e^2(\\sin^2\\theta+\\cos^2\\theta)-1)=$$"
   ]
  },
  {
   "cell_type": "markdown",
   "id": "4f929417",
   "metadata": {},
   "source": [
    "$$\\frac{\\kappa^2}{l^4}(e^2-1)$$"
   ]
  },
  {
   "cell_type": "markdown",
   "id": "1bcafcbc",
   "metadata": {},
   "source": [
    "Substituting $e^2=1+2\\epsilon l^2/\\kappa^2$ gives:"
   ]
  },
  {
   "cell_type": "markdown",
   "id": "1a04a21f",
   "metadata": {},
   "source": [
    "$$\\frac{\\kappa^2}{l^4}(1+\\frac{2\\epsilon l^2}{\\kappa^2}-1)=\\frac{\\kappa^2}{l^4}(\\frac{2\\epsilon l^2}{\\kappa^2})=\\frac{2\\epsilon}{l^2}$$"
   ]
  },
  {
   "cell_type": "markdown",
   "id": "b1a8badd",
   "metadata": {},
   "source": [
    "We finally see that the left-hand side of the DE equals the right-hand side."
   ]
  },
  {
   "cell_type": "markdown",
   "id": "f43c715a",
   "metadata": {},
   "source": [
    "I'd like to see if the book's function, $\\frac{1}{r}=u=\\frac{\\kappa}{l^2}(1+e\\cos\\theta)$, is the same as mine, $\\frac{1}{r}=u=(u_{max}-u_{min})\\sin^2\\left(\\frac{\\theta}{2}\\right)+u_{min}$."
   ]
  },
  {
   "cell_type": "markdown",
   "id": "ced0cd07",
   "metadata": {},
   "source": [
    "If we assume the truth of the book's solution, we can obtain values for $u_{max}$ and $u_{min}$ easily:"
   ]
  },
  {
   "cell_type": "markdown",
   "id": "11f71166",
   "metadata": {},
   "source": [
    "$$u_{max}=\\frac{\\kappa}{l^2}(1-e)$$"
   ]
  },
  {
   "cell_type": "markdown",
   "id": "fb153d5f",
   "metadata": {},
   "source": [
    "$$u_{min}=\\frac{\\kappa}{l^2}(1+e)$$"
   ]
  },
  {
   "cell_type": "markdown",
   "id": "60c8fb43",
   "metadata": {},
   "source": [
    "where we have assumed that $e<0$. Substituting these values into my solution yields:"
   ]
  },
  {
   "cell_type": "markdown",
   "id": "95f706b8",
   "metadata": {},
   "source": [
    "$$u=\\left(\\left(\\frac{\\kappa}{l^2}(1-e)\\right)-\\left(\\frac{\\kappa}{l^2}(1+e)\\right)\\right)\\sin^2\\left(\\frac{\\theta}{2}\\right)+\\left(\\frac{\\kappa}{l^2}(1+e)\\right)=$$"
   ]
  },
  {
   "cell_type": "markdown",
   "id": "03d916d4",
   "metadata": {},
   "source": [
    "$$\\frac{\\kappa}{l^2}\\left(1-e-1-e\\right)\\sin^2\\left(\\frac{\\theta}{2}\\right)+\\frac{\\kappa}{l^2}(1+e)=$$"
   ]
  },
  {
   "cell_type": "markdown",
   "id": "bbdf5ccb",
   "metadata": {},
   "source": [
    "$$\\frac{\\kappa}{l^2}\\left(-2e\\sin^2\\left(\\frac{\\theta}{2}\\right)+1+e\\right)$$"
   ]
  },
  {
   "cell_type": "markdown",
   "id": "da3098d8",
   "metadata": {},
   "source": [
    "The question now is does this equation hold:"
   ]
  },
  {
   "cell_type": "markdown",
   "id": "59ac1570",
   "metadata": {},
   "source": [
    "$$\\frac{\\kappa}{l^2}(1+e\\cos\\theta)=\\frac{\\kappa}{l^2}\\left(-2e\\sin^2\\left(\\frac{\\theta}{2}\\right)+1+e\\right)$$"
   ]
  },
  {
   "cell_type": "markdown",
   "id": "37922bf6",
   "metadata": {},
   "source": [
    "$$1+e\\cos\\theta=-2e\\sin^2\\left(\\frac{\\theta}{2}\\right)+1+e$$"
   ]
  },
  {
   "cell_type": "markdown",
   "id": "2ca67544",
   "metadata": {},
   "source": [
    "$$e\\cos\\theta=-2e\\sin^2\\left(\\frac{\\theta}{2}\\right)+e$$"
   ]
  },
  {
   "cell_type": "markdown",
   "id": "febc2122",
   "metadata": {},
   "source": [
    "$$\\cos\\theta=1-2\\sin^2\\left(\\frac{\\theta}{2}\\right)$$"
   ]
  },
  {
   "cell_type": "markdown",
   "id": "0b271879",
   "metadata": {},
   "source": [
    "The above is a trigonmetric identity more usually written as:"
   ]
  },
  {
   "cell_type": "markdown",
   "id": "6b0cde93",
   "metadata": {},
   "source": [
    "$$\\cos 2\\theta=1-2\\sin^2\\theta$$"
   ]
  },
  {
   "cell_type": "markdown",
   "id": "3ecf3648",
   "metadata": {},
   "source": [
    "My function for $r(\\theta)$ is the same as the book's! Using the trig identity and rewriting makes my function a bit more appealing:"
   ]
  },
  {
   "cell_type": "markdown",
   "id": "b718e7d5",
   "metadata": {},
   "source": [
    "$$u=(u_{max}-u_{min})\\sin^2\\left(\\frac{\\theta}{2}\\right)+u_{min}=$$"
   ]
  },
  {
   "cell_type": "markdown",
   "id": "90113f26",
   "metadata": {},
   "source": [
    "$$(u_{max}-u_{min})\\left(\\frac{1-\\cos\\theta}{2}\\right)+u_{min}=$$"
   ]
  },
  {
   "cell_type": "markdown",
   "id": "eb25aae5",
   "metadata": {},
   "source": [
    "$$\\frac{u_{max}-u_{min}}{2}+u_{min}-\\frac{u_{max}-u_{min}}{2}\\cos\\theta=$$"
   ]
  },
  {
   "cell_type": "markdown",
   "id": "04d9d5a8",
   "metadata": {},
   "source": [
    "$$\\frac{u_{min}+u_{max}}{2}+\\frac{u_{min}-u_{max}}{2}\\cos\\theta=$$"
   ]
  },
  {
   "cell_type": "markdown",
   "id": "25dc2567",
   "metadata": {},
   "source": [
    "$$\\frac{u_{min}+u_{max}}{2}\\left(1+\\frac{u_{min}-u_{max}}{u_{min}+u_{max}}\\cos\\theta\\right)=\\frac{\\kappa}{l^2}(1+e\\cos\\theta)$$"
   ]
  },
  {
   "cell_type": "markdown",
   "id": "ea74a302",
   "metadata": {},
   "source": [
    "Comparing the above expression to the books implies that:"
   ]
  },
  {
   "cell_type": "markdown",
   "id": "e3d7c6de",
   "metadata": {},
   "source": [
    "$$\\frac{u_{min}+u_{max}}{2}=\\frac{\\kappa}{l^2}$$"
   ]
  },
  {
   "cell_type": "markdown",
   "id": "420307a8",
   "metadata": {},
   "source": [
    "$$\\frac{u_{min}-u_{max}}{u_{min}+u_{max}}=e$$"
   ]
  },
  {
   "cell_type": "markdown",
   "id": "30f4248d",
   "metadata": {},
   "source": [
    "Let's try the first one, remembering that $u_{min}=\\frac{\\kappa}{l^2}(1+e)$ and $u_{max}=\\frac{\\kappa}{l^2}(1-e).$"
   ]
  },
  {
   "cell_type": "markdown",
   "id": "b6419679",
   "metadata": {},
   "source": [
    "$$\\frac{u_{min}+u_{max}}{2}=\\frac{(\\kappa/l^2(1+e))+(\\kappa/l^2(1-e))}{2}=\\frac{\\kappa}{l^2}\\frac{1+e+1-e}{2}=\\frac{\\kappa}{l^2}$$"
   ]
  },
  {
   "cell_type": "markdown",
   "id": "ce596eff",
   "metadata": {},
   "source": [
    "And for the second one:"
   ]
  },
  {
   "cell_type": "markdown",
   "id": "ef0d67a7",
   "metadata": {},
   "source": [
    "$$\\frac{u_{min}-u_{max}}{u_{min}+u_{max}}=\\frac{\\kappa/l^2(1+e)-\\kappa/l^2(1-e)}{\\kappa/l^2(1+e)+\\kappa/l^2(1-e)}=\\frac{1+e-1+e}{1+e+1-e}=\\frac{2e}{2}=e$$"
   ]
  },
  {
   "cell_type": "markdown",
   "id": "3030ee81",
   "metadata": {},
   "source": [
    "The relationships between $\\kappa$, $l^2$, $e$, $u_{min}$, and $u_{max}$ are interesting too, but I don't know what to make of them at the moment with the exception that it makes sense that the eccentricity, $e$, is negative. The solution in the back of the text identified $e$ as the eccentricity of the elipse and I assumed a negative value for it becuase I had it confused with the energy orbiting mass. The eccentricity is negative when using the $u$ variable as shown:"
   ]
  },
  {
   "cell_type": "markdown",
   "id": "ad7542d2",
   "metadata": {},
   "source": [
    "$$e_r=\\frac{r_{max}-r_{min}}{r_{max}+r_{min}}$$"
   ]
  },
  {
   "cell_type": "markdown",
   "id": "1bd7b1a7",
   "metadata": {},
   "source": [
    "$$e_u=\\frac{u_{min}-u_{max}}{u_{min}+u_{max}}$$"
   ]
  },
  {
   "cell_type": "markdown",
   "id": "1b3dc68a",
   "metadata": {},
   "source": [
    "The reason that the min and max labels have been exchanged is that:"
   ]
  },
  {
   "cell_type": "markdown",
   "id": "c6fc78dd",
   "metadata": {},
   "source": [
    "$$u=\\frac{1}{r}\\therefore u_{min}=\\frac{1}{r_{max}}\\text{ and }u_{max}=\\frac{1}{r_{min}}$$"
   ]
  },
  {
   "cell_type": "markdown",
   "id": "5c057a23",
   "metadata": {},
   "source": [
    "Eccentricity of an elipse is positive when defined in $r$ and it is negative when defined in $u$."
   ]
  }
 ],
 "metadata": {
  "kernelspec": {
   "display_name": "Python 3 (ipykernel)",
   "language": "python",
   "name": "python3"
  },
  "language_info": {
   "codemirror_mode": {
    "name": "ipython",
    "version": 3
   },
   "file_extension": ".py",
   "mimetype": "text/x-python",
   "name": "python",
   "nbconvert_exporter": "python",
   "pygments_lexer": "ipython3",
   "version": "3.9.2"
  }
 },
 "nbformat": 4,
 "nbformat_minor": 5
}
