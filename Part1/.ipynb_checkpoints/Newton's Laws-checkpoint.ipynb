{
 "cells": [
  {
   "cell_type": "markdown",
   "id": "56c363a4",
   "metadata": {},
   "source": [
    "# Newton's Laws\n",
    "\n",
    "## Notes\n",
    "\n",
    "### Example A\n",
    "\n",
    "Zee introduces the harmonic oscillator. I'd like to verify the equation of motion. Starting with\n",
    "\n",
    "$$m\\frac{d^2x}{dt^2}=-kx$$\n",
    "\n",
    "Let's integrate twice and see what we get. Yeah, [I don't think that's possible](https://math.stackexchange.com/questions/2615155/does-the-double-integrative-of-d2x-make-sense-from-a-mathematical-point-of-vi). You just have to guess at the answer and then differentiate twice. *shrug* Let's guess the answer!\n",
    "\n",
    "$$x(t)=a\\cos\\omega t+b\\sin\\omega t$$\n",
    "\n",
    "$$\\frac{dx}{dt}=-a\\omega\\sin\\omega t + b\\omega\\cos\\omega t$$\n",
    "\n",
    "$$\\frac{d^2x}{dt^2}=-a\\omega^2\\cos\\omega t - b\\omega^2\\sin\\omega t$$\n",
    "\n",
    "$$\\frac{d^2x}{dt^2}=-\\omega^2\\left(a\\cos\\omega t + b\\sin\\omega t\\right) = -\\omega^2 x$$\n",
    "\n",
    "Finally, let $\\omega = \\sqrt{\\frac{k}{m}}$, and you get the equation of motion.\n",
    "\n",
    "$$\\frac{d^2x}{dt^2}=-\\left(\\sqrt{\\frac{k}{m}}\\right)^2 x$$\n",
    "\n",
    "$$m\\frac{d^2x}{dt^2}=-kx$$"
   ]
  }
 ],
 "metadata": {
  "kernelspec": {
   "display_name": "Python 3 (ipykernel)",
   "language": "python",
   "name": "python3"
  },
  "language_info": {
   "codemirror_mode": {
    "name": "ipython",
    "version": 3
   },
   "file_extension": ".py",
   "mimetype": "text/x-python",
   "name": "python",
   "nbconvert_exporter": "python",
   "pygments_lexer": "ipython3",
   "version": "3.9.2"
  }
 },
 "nbformat": 4,
 "nbformat_minor": 5
}
