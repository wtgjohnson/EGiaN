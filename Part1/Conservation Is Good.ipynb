{
 "cells": [
  {
   "cell_type": "markdown",
   "id": "fd070894",
   "metadata": {},
   "source": [
    "# Conservation Is Good"
   ]
  },
  {
   "cell_type": "markdown",
   "id": "1d84739f",
   "metadata": {},
   "source": [
    "## Notes"
   ]
  },
  {
   "cell_type": "markdown",
   "id": "66180048",
   "metadata": {},
   "source": [
    "### An integrability condition"
   ]
  },
  {
   "cell_type": "markdown",
   "id": "a7932fd4",
   "metadata": {},
   "source": [
    "The step from Equation (3) to Equation (4) is not obvious to me."
   ]
  },
  {
   "cell_type": "markdown",
   "id": "8c89b0a6",
   "metadata": {},
   "source": [
    "$$m\\frac{d^2x^i}{dt^2}\\frac{dx^i}{dt}=-\\frac{\\partial V(\\vec{x})}{\\partial x^i}\\frac{dx^i}{dt}$$"
   ]
  },
  {
   "cell_type": "markdown",
   "id": "174dcaac",
   "metadata": {},
   "source": [
    "Collecting terms on the left-hand side and summing over $i$ gives:"
   ]
  },
  {
   "cell_type": "markdown",
   "id": "949c87e7",
   "metadata": {},
   "source": [
    "$$\\sum_i \\left(m\\frac{d^2x^i}{dt^2}\\frac{dx^i}{dt}+\\frac{\\partial V(\\vec{x})}{\\partial x^i}\\frac{dx^i}{dt}\\right)=0$$"
   ]
  },
  {
   "cell_type": "markdown",
   "id": "d82efe21",
   "metadata": {},
   "source": [
    "The chain rule when applied to a composite function of multiple variables applies like so:"
   ]
  },
  {
   "cell_type": "markdown",
   "id": "444114b0",
   "metadata": {},
   "source": [
    "For $V(\\vec{x})$ and $x^i(t)$ for all $i$:\n",
    "\n",
    "$$\\frac{dV}{dt}=\\sum_i \\frac{\\partial V}{\\partial x^i}\\frac{dx^i}{dt}$$"
   ]
  },
  {
   "cell_type": "markdown",
   "id": "9fdb8ead",
   "metadata": {},
   "source": [
    "The second term in the sum simplifies to $\\frac{dV}{dt}$. The first term can be shown to equal $\\frac{1}{2}m\\sum_i\\left(\\frac{dx^i}{dt}\\right)^2$ by differentiation."
   ]
  },
  {
   "cell_type": "markdown",
   "id": "bebb6d6a",
   "metadata": {},
   "source": [
    "$$\\frac{d}{dt}\\left[\\frac{1}{2}m\\sum_i \\left(\\frac{dx^i}{dt}\\right)^2\\right]=\\frac{2}{2}m\\sum_i\\frac{dx^i}{dt}\\frac{d^2x^i}{dt^2}=\\sum_i m\\frac{d^2x^i}{dt^2}\\frac{dx^i}{dt}$$"
   ]
  },
  {
   "cell_type": "markdown",
   "id": "3dc77d19",
   "metadata": {},
   "source": [
    "Which is the first term of the sum. The sum can therefore be written as Equation (4)."
   ]
  },
  {
   "cell_type": "markdown",
   "id": "1c17cdda",
   "metadata": {},
   "source": [
    "$$\\sum_i \\left(m\\frac{d^2x^i}{dt^2}\\frac{dx^i}{dt}+\\frac{\\partial V(\\vec{x})}{\\partial x^i}\\frac{dx^i}{dt}\\right)=\\frac{d}{dt}\\left[\\frac{1}{2}m\\sum_i \\left(\\frac{dx^i}{dt}\\right)^2+V(x)\\right]=0$$"
   ]
  },
  {
   "cell_type": "markdown",
   "id": "4ffac1e8",
   "metadata": {},
   "source": [
    "The above expression implies that $\\frac{1}{2}m\\sum_i \\left(\\frac{dx^i}{dt}\\right)^2+V(x)$ is constant with respect to time, that is, that the quantity is conserved. We recognize that the quantity in question has units of energy and set the integration constant to $E$:"
   ]
  },
  {
   "cell_type": "markdown",
   "id": "d55f06bf",
   "metadata": {},
   "source": [
    "$$E=\\frac{1}{2}m\\sum_i \\left(\\frac{dx^i}{dt}\\right)^2+V(x)$$"
   ]
  },
  {
   "cell_type": "markdown",
   "id": "2a6fa90b",
   "metadata": {},
   "source": [
    "I'm confused by the expresson $-\\int^xdx'F(x')$. The use of $x'$ here is to indicate a dummy variable that does not appear in the final answer because it is substituted for by the limits of integration. The expression indicates a single variable integration and has nothing to do with taking a derivative of $x$. The integral does not indicate the integration over all $x$. It indicates an integration from an undisclosed lower limit where the potential is zero to the upper limit $x$."
   ]
  },
  {
   "cell_type": "markdown",
   "id": "b78afd04",
   "metadata": {},
   "source": [
    "### Apples do not fall down"
   ]
  },
  {
   "cell_type": "markdown",
   "id": "f44f8399",
   "metadata": {},
   "source": [
    "I was unable to follow how the partial deriviative with respect to $x^j$ of $F^i(x)$ was taken. I'm going to work through the steps."
   ]
  },
  {
   "cell_type": "markdown",
   "id": "7603d300",
   "metadata": {},
   "source": [
    "The book has:\n",
    "\n",
    "$$\\frac{\\partial F^i(x)}{\\partial x^j}=-\\frac{1}{r}\\left[\\delta^{ij}V'(r)+\\frac{x^ix^j}{r^2}\\left(-V'(r)+rV''(r)\\right)\\right]$$"
   ]
  },
  {
   "cell_type": "markdown",
   "id": "fb01cf48",
   "metadata": {},
   "source": [
    "I think this is just the product rule, applying\n",
    "\n",
    "$$\\frac{\\partial F^i(x)}{\\partial x^j}=\\frac{\\partial}{\\partial x^j}\\left(-\\frac{x^i}{r}V'(r)\\right)$$"
   ]
  },
  {
   "cell_type": "markdown",
   "id": "6be251c0",
   "metadata": {},
   "source": [
    "where $x^i$, $r$, and $V'(r)$ are all functions of $x^j$."
   ]
  },
  {
   "cell_type": "markdown",
   "id": "1cd2dd3a",
   "metadata": {},
   "source": [
    "$$\\frac{\\partial}{\\partial x^j}\\left(-\\frac{x^i}{r}V'(r)\\right)=$$"
   ]
  },
  {
   "cell_type": "markdown",
   "id": "abdb1919",
   "metadata": {},
   "source": [
    "$$\\frac{\\partial}{\\partial x^j}(x^i)\\cdot \\left(\\frac{-V'(r)}{r}\\right)+x^i\\cdot \\frac{\\partial}{\\partial x^j}\\left(\\frac{-V'(r)}{r}\\right)=$$"
   ]
  },
  {
   "cell_type": "markdown",
   "id": "06049b89",
   "metadata": {},
   "source": [
    "$$\\frac{-\\delta^{ij}V'(r)}{r}+x^i\\left(\\frac{-1}{r}\\frac{\\partial}{\\partial x^j}\\left(V'(r)\\right)+V'(r)\\frac{\\partial}{\\partial x^j}\\left(\\frac{-1}{r}\\right)\\right)=$$"
   ]
  },
  {
   "cell_type": "markdown",
   "id": "4200ed11",
   "metadata": {},
   "source": [
    "$$\\frac{-\\delta^{ij}V'(r)}{r}+x^i\\left(\\frac{-1}{r}\\frac{\\partial V'(r)}{\\partial r}\\frac{\\partial r}{\\partial x^j}+V'(r)\\left(\\frac{1}{r^2}\\frac{\\partial r}{\\partial x^j}\\right)\\right)=$$"
   ]
  },
  {
   "cell_type": "markdown",
   "id": "5f80060d",
   "metadata": {},
   "source": [
    "$$-\\frac{1}{r}\\left[\\delta^{ij}V'(r)+x^i\\left(V''(r)\\frac{x^j}{r}+V'(r)\\frac{-x^j}{r^2}\\right)\\right]=$$"
   ]
  },
  {
   "cell_type": "markdown",
   "id": "9e14d1f0",
   "metadata": {},
   "source": [
    "where we used the identity from the text: $\\frac{\\partial r}{\\partial x^j}=\\frac{x^j}{r}$."
   ]
  },
  {
   "cell_type": "markdown",
   "id": "df63faca",
   "metadata": {},
   "source": [
    "$$-\\frac{1}{r}\\left[\\delta^{ij}V'(r)+\\frac{x^ix^j}{r^2}\\left(V''(r)r-V'(r)\\right)\\right]=$$"
   ]
  },
  {
   "cell_type": "markdown",
   "id": "41a74c69",
   "metadata": {},
   "source": [
    "$$-\\frac{1}{r}\\left[\\delta^{ij}V'(r)+\\frac{x^ix^j}{r^2}\\left(-V'(r)+rV''(r)\\right)\\right]$$"
   ]
  },
  {
   "cell_type": "markdown",
   "id": "dabe25b2",
   "metadata": {},
   "source": [
    "I don't understant the \"what else can it be?\" argument and cannot see how the integrability condition of Equation (6) holds immediately. Maybe that will be possible after his chapter on tensors (Book One, Part One, Chapter Four)."
   ]
  },
  {
   "cell_type": "markdown",
   "id": "226bf88c",
   "metadata": {},
   "source": [
    "### Conservation of angular momentum"
   ]
  },
  {
   "cell_type": "markdown",
   "id": "5cbb19e0",
   "metadata": {},
   "source": [
    "I had forgotten that angular momentum, $L$, is $\\vec{r} \\times \\vec{\\rho}$, where $\\vec{\\rho}$ is the momentum. For a unit mass $\\vec{\\rho}=\\vec{v}$. I had also forgotten that the cross product of two vectors, $\\vec{a}$ and $\\vec{b}$, of length two is defined as $\\vec{a} \\times \\vec{b}=a_1b_2-a_2b_1$."
   ]
  },
  {
   "cell_type": "markdown",
   "id": "14a8008f",
   "metadata": {},
   "source": [
    "The quantity $l^{ij}$ is an element of the angular momentum and since every element can be described using the $x^j\\frac{dx^i}{dt}-x^i\\frac{dx^j}{dt}$ expression, then every element is conserved and so the total angular momentum is conserved."
   ]
  },
  {
   "cell_type": "markdown",
   "id": "13494069",
   "metadata": {},
   "source": [
    "## Exercise\n",
    "\n",
    "### 1)\n",
    "> Let $N$ particles interact according to\n",
    ">\n",
    "> $$m_a\\frac{d^2x^i_a}{dt^2}=-\\frac{\\partial V(x)}{\\partial x^i_a}$$\n",
    ">\n",
    ">with $a=1,\\ldots,N$. Suppose $V(x_1,\\ldots,x_N)$ depends only on the differences $x^i_a-x^i_b$, with >$a,b=1,\\ldots,N$. Show that the total momentum $\\sum_am_a\\frac{dx^i_a}{dt}$ is conserved."
   ]
  },
  {
   "cell_type": "code",
   "execution_count": null,
   "id": "92bd5d30",
   "metadata": {},
   "outputs": [],
   "source": []
  }
 ],
 "metadata": {
  "kernelspec": {
   "display_name": "Python 3 (ipykernel)",
   "language": "python",
   "name": "python3"
  },
  "language_info": {
   "codemirror_mode": {
    "name": "ipython",
    "version": 3
   },
   "file_extension": ".py",
   "mimetype": "text/x-python",
   "name": "python",
   "nbconvert_exporter": "python",
   "pygments_lexer": "ipython3",
   "version": "3.9.2"
  }
 },
 "nbformat": 4,
 "nbformat_minor": 5
}
